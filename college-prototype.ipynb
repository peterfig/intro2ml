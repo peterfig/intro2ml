{
 "cells": [
  {
   "cell_type": "markdown",
   "metadata": {},
   "source": [
    "# Notebook for Codementor Machine Learning Class 2\n",
    "## U.S. Dept. of Education College Scorecard"
   ]
  },
  {
   "cell_type": "markdown",
   "metadata": {},
   "source": [
    "### Topics\n",
    "  * Data Science career discussion\n",
    "  * Incorporate insights from data characterization (Class 1)\n",
    "  * Principle Components Analysis (PCA)\n",
    "  * K-means clustering on transformed (PCA) data\n",
    "  * Provide a prototype useful to an engineer\n",
    "  "
   ]
  },
  {
   "cell_type": "markdown",
   "metadata": {},
   "source": [
    "### Career Discussion\n",
    "\n",
    "  * Now that we've examined and characterized our client's data, we'll need to quickly create and deliver a prototype product.  Start quickly, fail fast, fail often.  (Engineering wisdom.)  We accept that all models are wrong, but some are useful.  Each time we create a product, we test and determine its value.  We envision a better product, throw away the old one, and build the new one.\n",
    "\n",
    "  * In general, your clients will not be interested in your notebooks, your prototypes, your graphs, your studies, etc.  (Your data science colleagues will appreciate these things, but your clients/management want results.)  It is extremely important to your success as a data scientist to find out exactly what your client wants.  It is your job to provide it.\n",
    "\n",
    "  * For our purposes, let's assume we are working with our client's engineer who will provide us with an input query in JSON (JavaScript Object Notation).  Example: { \"home_state\": \"NJ\", \"major\": \"engineering\", \"math\": 600, \"verbal\": 620, \"writing\": 580, \"out_of_state\": false, \"budget\": 30000}.  We are to provide useful information about recommended academic colleges and universities in return, in JSON.\n",
    "  \n",
    "  * We have not yet developed an engine which uses _all_ of the input data.  However, in this case we feel it is important to provide something quickly.  This way our engineer can get to work.  Then, we can continue to develop the engine and provide updates.  We'll also get feedback.  This way, we can change or modify our course if necessary."
   ]
  },
  {
   "cell_type": "markdown",
   "metadata": {},
   "source": [
    "### 1. Load and prepare raw data"
   ]
  },
  {
   "cell_type": "code",
   "execution_count": 1,
   "metadata": {
    "collapsed": false
   },
   "outputs": [],
   "source": [
    "%matplotlib inline\n",
    "# allows plotting in cells, we'll use later on.\n",
    "import pylab\n",
    "pylab.rcParams['figure.figsize'] = (10, 6) # set a larger figure size"
   ]
  },
  {
   "cell_type": "code",
   "execution_count": 2,
   "metadata": {
    "collapsed": false
   },
   "outputs": [],
   "source": [
    "import sqlite3\n",
    "conn = sqlite3.connect('C:/Users/peter/Documents/Codementor/MLClass/data/college/database.sqlite')"
   ]
  },
  {
   "cell_type": "code",
   "execution_count": 3,
   "metadata": {
    "collapsed": true
   },
   "outputs": [],
   "source": [
    "import pandas"
   ]
  },
  {
   "cell_type": "code",
   "execution_count": 4,
   "metadata": {
    "collapsed": false
   },
   "outputs": [],
   "source": [
    "query = \"\"\"\n",
    "SELECT UNITID,\n",
    "       INSTNM,\n",
    "       CONTROL as type,\n",
    "       COSTT4_A AvgYrCostAcademic,\n",
    "       COSTT4_P AvgYrCostProgram,\n",
    "       md_earn_wne_p10 medEarn10yrs,\n",
    "       md_earn_wne_p6 medEarn6yrs,\n",
    "       Year,\n",
    "       UGDS NumStudents,\n",
    "       SATMTMID Math,\n",
    "       SATVRMID Verbal,\n",
    "       SATWRMID Writing,\n",
    "       STABBR State,\n",
    "       GRAD_DEBT_MDN DebtAtGrad,\n",
    "       C150_4 completionRate\n",
    "       \n",
    "FROM Scorecard\n",
    "WHERE Year='{0}'\n",
    "\"\"\"\n",
    "# I found that 2011 is the latest year with earnings data!\n",
    "# Plan: use 2013 cost and 2011 earnings.  \n",
    "# Earnings have been approximately flat in adjusted dollars for the past decade;\n",
    "# so we'll just need to adjust 2011 dollars to 2013 dollars at some point\n",
    "df2013 = pandas.read_sql(query.format(2013), conn)\n",
    "df2011 = pandas.read_sql(query.format(2011), conn)\n"
   ]
  },
  {
   "cell_type": "markdown",
   "metadata": {},
   "source": [
    "#### Index by the unique identifier (but remember, it is not a requirement that indices have unique values for each row)"
   ]
  },
  {
   "cell_type": "code",
   "execution_count": 5,
   "metadata": {
    "collapsed": false
   },
   "outputs": [],
   "source": [
    "df2011.set_index(['UNITID'], inplace=True)  \n",
    "df2013.set_index(['UNITID'], inplace=True)"
   ]
  },
  {
   "cell_type": "markdown",
   "metadata": {},
   "source": [
    "#### Create the numeric earnings column (year 2011 data) and add our computed SAT column (year 2013 data). "
   ]
  },
  {
   "cell_type": "code",
   "execution_count": 7,
   "metadata": {
    "collapsed": false
   },
   "outputs": [],
   "source": [
    "df2011['earn10'] = pandas.to_numeric(df2011['medEarn10yrs'], errors='coerce')\n",
    "df2013['sat'] = df2013['Math'] + df2013['Verbal']"
   ]
  },
  {
   "cell_type": "markdown",
   "metadata": {},
   "source": [
    "Using Pandas.concat, let's tack on the 2011 earnings data to our 2013 dataframe.  This is done by matching UNITIDs.  In SQL, this would be an inner join and we'd have to explicitly state the join variable (UNITID) in each table.  In Pandas, it's assumed we'll join on the DataFrame/Series index (and we are free to state otherwise).  The Pandas concat function handles the join. "
   ]
  },
  {
   "cell_type": "code",
   "execution_count": 8,
   "metadata": {
    "collapsed": false
   },
   "outputs": [
    {
     "data": {
      "text/plain": [
       "UNITID\n",
       "100654    31400.0\n",
       "100663    40300.0\n",
       "100690    38100.0\n",
       "100706    46600.0\n",
       "100724    27800.0\n",
       "Name: earn10, dtype: float64"
      ]
     },
     "execution_count": 8,
     "metadata": {},
     "output_type": "execute_result"
    }
   ],
   "source": [
    "dfearn = df2011['earn10'].dropna()\n",
    "dfearn.head() # note the Series retains the UNITID index"
   ]
  },
  {
   "cell_type": "code",
   "execution_count": 9,
   "metadata": {
    "collapsed": false
   },
   "outputs": [
    {
     "data": {
      "text/plain": [
       "pandas.core.series.Series"
      ]
     },
     "execution_count": 9,
     "metadata": {},
     "output_type": "execute_result"
    }
   ],
   "source": [
    "type(dfearn)"
   ]
  },
  {
   "cell_type": "code",
   "execution_count": 10,
   "metadata": {
    "collapsed": false
   },
   "outputs": [
    {
     "data": {
      "text/plain": [
       "Index([u'INSTNM', u'type', u'AvgYrCostAcademic', u'AvgYrCostProgram',\n",
       "       u'medEarn10yrs', u'medEarn6yrs', u'Year', u'NumStudents', u'Math',\n",
       "       u'Verbal', u'Writing', u'State', u'DebtAtGrad', u'completionRate',\n",
       "       u'sat'],\n",
       "      dtype='object')"
      ]
     },
     "execution_count": 10,
     "metadata": {},
     "output_type": "execute_result"
    }
   ],
   "source": [
    "# before\n",
    "df2013.columns"
   ]
  },
  {
   "cell_type": "code",
   "execution_count": 11,
   "metadata": {
    "collapsed": true
   },
   "outputs": [],
   "source": [
    "df_joined = pandas.concat([df2013, dfearn], axis=1, join='inner')  # equivalent to sql inner join on UNITID"
   ]
  },
  {
   "cell_type": "code",
   "execution_count": 12,
   "metadata": {
    "collapsed": false
   },
   "outputs": [
    {
     "data": {
      "text/plain": [
       "Index([u'INSTNM', u'type', u'AvgYrCostAcademic', u'AvgYrCostProgram',\n",
       "       u'medEarn10yrs', u'medEarn6yrs', u'Year', u'NumStudents', u'Math',\n",
       "       u'Verbal', u'Writing', u'State', u'DebtAtGrad', u'completionRate',\n",
       "       u'sat', u'earn10'],\n",
       "      dtype='object')"
      ]
     },
     "execution_count": 12,
     "metadata": {},
     "output_type": "execute_result"
    }
   ],
   "source": [
    "# after\n",
    "\n",
    "df_joined.columns"
   ]
  },
  {
   "cell_type": "markdown",
   "metadata": {},
   "source": [
    "#### Raw data prep complete: df_joined"
   ]
  },
  {
   "cell_type": "code",
   "execution_count": 13,
   "metadata": {
    "collapsed": false,
    "scrolled": true
   },
   "outputs": [
    {
     "data": {
      "text/html": [
       "<div>\n",
       "<table border=\"1\" class=\"dataframe\">\n",
       "  <thead>\n",
       "    <tr style=\"text-align: right;\">\n",
       "      <th></th>\n",
       "      <th>INSTNM</th>\n",
       "      <th>type</th>\n",
       "      <th>AvgYrCostAcademic</th>\n",
       "      <th>AvgYrCostProgram</th>\n",
       "      <th>medEarn10yrs</th>\n",
       "      <th>medEarn6yrs</th>\n",
       "      <th>Year</th>\n",
       "      <th>NumStudents</th>\n",
       "      <th>Math</th>\n",
       "      <th>Verbal</th>\n",
       "      <th>Writing</th>\n",
       "      <th>State</th>\n",
       "      <th>DebtAtGrad</th>\n",
       "      <th>completionRate</th>\n",
       "      <th>sat</th>\n",
       "      <th>earn10</th>\n",
       "    </tr>\n",
       "    <tr>\n",
       "      <th>UNITID</th>\n",
       "      <th></th>\n",
       "      <th></th>\n",
       "      <th></th>\n",
       "      <th></th>\n",
       "      <th></th>\n",
       "      <th></th>\n",
       "      <th></th>\n",
       "      <th></th>\n",
       "      <th></th>\n",
       "      <th></th>\n",
       "      <th></th>\n",
       "      <th></th>\n",
       "      <th></th>\n",
       "      <th></th>\n",
       "      <th></th>\n",
       "      <th></th>\n",
       "    </tr>\n",
       "  </thead>\n",
       "  <tbody>\n",
       "    <tr>\n",
       "      <th>100654</th>\n",
       "      <td>Alabama A &amp; M University</td>\n",
       "      <td>Public</td>\n",
       "      <td>18888.0</td>\n",
       "      <td>NaN</td>\n",
       "      <td>None</td>\n",
       "      <td>None</td>\n",
       "      <td>2013</td>\n",
       "      <td>4051.0</td>\n",
       "      <td>400.0</td>\n",
       "      <td>410.0</td>\n",
       "      <td>NaN</td>\n",
       "      <td>AL</td>\n",
       "      <td>33611.5</td>\n",
       "      <td>0.2914</td>\n",
       "      <td>810.0</td>\n",
       "      <td>31400.0</td>\n",
       "    </tr>\n",
       "    <tr>\n",
       "      <th>100663</th>\n",
       "      <td>University of Alabama at Birmingham</td>\n",
       "      <td>Public</td>\n",
       "      <td>19990.0</td>\n",
       "      <td>NaN</td>\n",
       "      <td>None</td>\n",
       "      <td>None</td>\n",
       "      <td>2013</td>\n",
       "      <td>11200.0</td>\n",
       "      <td>585.0</td>\n",
       "      <td>580.0</td>\n",
       "      <td>NaN</td>\n",
       "      <td>AL</td>\n",
       "      <td>23117</td>\n",
       "      <td>0.5377</td>\n",
       "      <td>1165.0</td>\n",
       "      <td>40300.0</td>\n",
       "    </tr>\n",
       "    <tr>\n",
       "      <th>100690</th>\n",
       "      <td>Amridge University</td>\n",
       "      <td>Private nonprofit</td>\n",
       "      <td>12300.0</td>\n",
       "      <td>NaN</td>\n",
       "      <td>None</td>\n",
       "      <td>None</td>\n",
       "      <td>2013</td>\n",
       "      <td>322.0</td>\n",
       "      <td>NaN</td>\n",
       "      <td>NaN</td>\n",
       "      <td>NaN</td>\n",
       "      <td>AL</td>\n",
       "      <td>26995</td>\n",
       "      <td>0.6667</td>\n",
       "      <td>NaN</td>\n",
       "      <td>38100.0</td>\n",
       "    </tr>\n",
       "    <tr>\n",
       "      <th>100706</th>\n",
       "      <td>University of Alabama in Huntsville</td>\n",
       "      <td>Public</td>\n",
       "      <td>20306.0</td>\n",
       "      <td>NaN</td>\n",
       "      <td>None</td>\n",
       "      <td>None</td>\n",
       "      <td>2013</td>\n",
       "      <td>5525.0</td>\n",
       "      <td>580.0</td>\n",
       "      <td>575.0</td>\n",
       "      <td>NaN</td>\n",
       "      <td>AL</td>\n",
       "      <td>24738</td>\n",
       "      <td>0.4835</td>\n",
       "      <td>1155.0</td>\n",
       "      <td>46600.0</td>\n",
       "    </tr>\n",
       "    <tr>\n",
       "      <th>100724</th>\n",
       "      <td>Alabama State University</td>\n",
       "      <td>Public</td>\n",
       "      <td>17400.0</td>\n",
       "      <td>NaN</td>\n",
       "      <td>None</td>\n",
       "      <td>None</td>\n",
       "      <td>2013</td>\n",
       "      <td>5354.0</td>\n",
       "      <td>425.0</td>\n",
       "      <td>430.0</td>\n",
       "      <td>NaN</td>\n",
       "      <td>AL</td>\n",
       "      <td>33452</td>\n",
       "      <td>0.2517</td>\n",
       "      <td>855.0</td>\n",
       "      <td>27800.0</td>\n",
       "    </tr>\n",
       "  </tbody>\n",
       "</table>\n",
       "</div>"
      ],
      "text/plain": [
       "                                     INSTNM               type  \\\n",
       "UNITID                                                           \n",
       "100654             Alabama A & M University             Public   \n",
       "100663  University of Alabama at Birmingham             Public   \n",
       "100690                   Amridge University  Private nonprofit   \n",
       "100706  University of Alabama in Huntsville             Public   \n",
       "100724             Alabama State University             Public   \n",
       "\n",
       "        AvgYrCostAcademic  AvgYrCostProgram medEarn10yrs medEarn6yrs  Year  \\\n",
       "UNITID                                                                       \n",
       "100654            18888.0               NaN         None        None  2013   \n",
       "100663            19990.0               NaN         None        None  2013   \n",
       "100690            12300.0               NaN         None        None  2013   \n",
       "100706            20306.0               NaN         None        None  2013   \n",
       "100724            17400.0               NaN         None        None  2013   \n",
       "\n",
       "        NumStudents   Math  Verbal  Writing State DebtAtGrad  completionRate  \\\n",
       "UNITID                                                                         \n",
       "100654       4051.0  400.0   410.0      NaN    AL    33611.5          0.2914   \n",
       "100663      11200.0  585.0   580.0      NaN    AL      23117          0.5377   \n",
       "100690        322.0    NaN     NaN      NaN    AL      26995          0.6667   \n",
       "100706       5525.0  580.0   575.0      NaN    AL      24738          0.4835   \n",
       "100724       5354.0  425.0   430.0      NaN    AL      33452          0.2517   \n",
       "\n",
       "           sat   earn10  \n",
       "UNITID                   \n",
       "100654   810.0  31400.0  \n",
       "100663  1165.0  40300.0  \n",
       "100690     NaN  38100.0  \n",
       "100706  1155.0  46600.0  \n",
       "100724   855.0  27800.0  "
      ]
     },
     "execution_count": 13,
     "metadata": {},
     "output_type": "execute_result"
    }
   ],
   "source": [
    "df_joined.head()"
   ]
  },
  {
   "cell_type": "markdown",
   "metadata": {},
   "source": [
    "### 2.  Principle Components Analysis (PCA)\n",
    "\n",
    "Reference: http://scikit-learn.org/stable/modules/decomposition.html#pca"
   ]
  },
  {
   "cell_type": "markdown",
   "metadata": {},
   "source": [
    "PCA is a _dimensionality reduction_ technique.  Dimensionality reduction means we have data that are redundant/related in some way, and we want to simplify things.  In our case, we have already seen our variables are correlated.  High incoming SAT scores are related to higher graduation rates.  So let's see if we can distill our 4 variables down to one or two."
   ]
  },
  {
   "cell_type": "markdown",
   "metadata": {},
   "source": [
    "From Wikipedia: \"PCA is mathematically defined as an orthogonal linear transformation that transforms the data to a new coordinate system such that the greatest variance by some projection of the data comes to lie on the first coordinate (called the first principal component), the second greatest variance on the second coordinate, and so on.\""
   ]
  },
  {
   "cell_type": "markdown",
   "metadata": {},
   "source": [
    "#### Select our 4 numeric variables"
   ]
  },
  {
   "cell_type": "code",
   "execution_count": 15,
   "metadata": {
    "collapsed": true
   },
   "outputs": [],
   "source": [
    "dfc = df_joined[['sat', 'AvgYrCostAcademic', 'earn10', 'completionRate']].dropna()"
   ]
  },
  {
   "cell_type": "markdown",
   "metadata": {},
   "source": [
    "#### Scale, to put all variables on equal footing, numerically"
   ]
  },
  {
   "cell_type": "code",
   "execution_count": 16,
   "metadata": {
    "collapsed": false
   },
   "outputs": [],
   "source": [
    "from sklearn.preprocessing import scale\n",
    "dfscale = pandas.DataFrame(scale(dfc), index=dfc.index).rename(columns={0:'sat_scaled', 1:'cost', 2:'earn', 3:'gradrate'})"
   ]
  },
  {
   "cell_type": "markdown",
   "metadata": {},
   "source": [
    "#### Apply PCA to our scaled data"
   ]
  },
  {
   "cell_type": "code",
   "execution_count": 17,
   "metadata": {
    "collapsed": true
   },
   "outputs": [],
   "source": [
    "from sklearn.decomposition import PCA\n",
    "pca = PCA(n_components=4)\n",
    "pca_array = pca.fit_transform(dfscale[[u'sat_scaled', u'cost', u'earn', u'gradrate']])"
   ]
  },
  {
   "cell_type": "code",
   "execution_count": 18,
   "metadata": {
    "collapsed": false
   },
   "outputs": [
    {
     "data": {
      "text/html": [
       "<div>\n",
       "<table border=\"1\" class=\"dataframe\">\n",
       "  <thead>\n",
       "    <tr style=\"text-align: right;\">\n",
       "      <th></th>\n",
       "      <th>sat_scaled</th>\n",
       "      <th>cost</th>\n",
       "      <th>earn</th>\n",
       "      <th>gradrate</th>\n",
       "    </tr>\n",
       "    <tr>\n",
       "      <th>UNITID</th>\n",
       "      <th></th>\n",
       "      <th></th>\n",
       "      <th></th>\n",
       "      <th></th>\n",
       "    </tr>\n",
       "  </thead>\n",
       "  <tbody>\n",
       "    <tr>\n",
       "      <th>100654</th>\n",
       "      <td>-1.786281</td>\n",
       "      <td>-1.105436</td>\n",
       "      <td>-1.152841</td>\n",
       "      <td>-1.497584</td>\n",
       "    </tr>\n",
       "    <tr>\n",
       "      <th>100663</th>\n",
       "      <td>0.805767</td>\n",
       "      <td>-1.019907</td>\n",
       "      <td>-0.288142</td>\n",
       "      <td>-0.093461</td>\n",
       "    </tr>\n",
       "    <tr>\n",
       "      <th>100706</th>\n",
       "      <td>0.732752</td>\n",
       "      <td>-0.995382</td>\n",
       "      <td>0.323949</td>\n",
       "      <td>-0.402448</td>\n",
       "    </tr>\n",
       "    <tr>\n",
       "      <th>100724</th>\n",
       "      <td>-1.457712</td>\n",
       "      <td>-1.220923</td>\n",
       "      <td>-1.502608</td>\n",
       "      <td>-1.723908</td>\n",
       "    </tr>\n",
       "    <tr>\n",
       "      <th>100751</th>\n",
       "      <td>0.513705</td>\n",
       "      <td>-0.497811</td>\n",
       "      <td>-0.084111</td>\n",
       "      <td>0.640811</td>\n",
       "    </tr>\n",
       "  </tbody>\n",
       "</table>\n",
       "</div>"
      ],
      "text/plain": [
       "        sat_scaled      cost      earn  gradrate\n",
       "UNITID                                          \n",
       "100654   -1.786281 -1.105436 -1.152841 -1.497584\n",
       "100663    0.805767 -1.019907 -0.288142 -0.093461\n",
       "100706    0.732752 -0.995382  0.323949 -0.402448\n",
       "100724   -1.457712 -1.220923 -1.502608 -1.723908\n",
       "100751    0.513705 -0.497811 -0.084111  0.640811"
      ]
     },
     "execution_count": 18,
     "metadata": {},
     "output_type": "execute_result"
    }
   ],
   "source": [
    "dfscale.head()"
   ]
  },
  {
   "cell_type": "code",
   "execution_count": 19,
   "metadata": {
    "collapsed": false
   },
   "outputs": [
    {
     "data": {
      "text/plain": [
       "numpy.ndarray"
      ]
     },
     "execution_count": 19,
     "metadata": {},
     "output_type": "execute_result"
    }
   ],
   "source": [
    "type(pca_array)"
   ]
  },
  {
   "cell_type": "code",
   "execution_count": 20,
   "metadata": {
    "collapsed": false
   },
   "outputs": [
    {
     "data": {
      "text/plain": [
       "array([[-2.80131189,  0.09135926, -0.29349315,  0.20677773],\n",
       "       [-0.2081237 , -0.92012765,  0.79199643, -0.51383194],\n",
       "       [-0.11131329, -1.14392882,  0.16525396, -0.66809023],\n",
       "       [-2.96677979,  0.09173086,  0.04900218, -0.18074187],\n",
       "       [ 0.36158771, -0.54634494,  0.68725818,  0.16691281]])"
      ]
     },
     "execution_count": 20,
     "metadata": {},
     "output_type": "execute_result"
    }
   ],
   "source": [
    "pca_array[0:5]"
   ]
  },
  {
   "cell_type": "markdown",
   "metadata": {},
   "source": [
    "Let's see how well the PCA went:"
   ]
  },
  {
   "cell_type": "code",
   "execution_count": 21,
   "metadata": {
    "collapsed": false
   },
   "outputs": [
    {
     "data": {
      "text/plain": [
       "array([ 0.71100281,  0.14366243,  0.10260983,  0.04272492])"
      ]
     },
     "execution_count": 21,
     "metadata": {},
     "output_type": "execute_result"
    }
   ],
   "source": [
    "pca.explained_variance_ratio_"
   ]
  },
  {
   "cell_type": "code",
   "execution_count": 22,
   "metadata": {
    "collapsed": false
   },
   "outputs": [
    {
     "data": {
      "text/plain": [
       "array([[ 0.53299838,  0.44054527,  0.47765635,  0.54191975],\n",
       "       [-0.23089238,  0.85534793, -0.45941213, -0.06331768],\n",
       "       [ 0.4484766 , -0.24949521, -0.74793387,  0.42097008],\n",
       "       [-0.67931597, -0.10978127,  0.03714616,  0.7246365 ]])"
      ]
     },
     "execution_count": 22,
     "metadata": {},
     "output_type": "execute_result"
    }
   ],
   "source": [
    "# the transformation matrix it came up with, for linear algebra fans:\n",
    "pca.components_"
   ]
  },
  {
   "cell_type": "markdown",
   "metadata": {},
   "source": [
    "We have a happy case where we can pack most of the useful information (71 + 14 = 85%) into the first two PCA variables.  This means we can cluster using only the first two PCA variables and visualize it completely in a 2-D chart."
   ]
  },
  {
   "cell_type": "markdown",
   "metadata": {},
   "source": [
    "Let's have a look at our transformed variables, which we assigned to `pca_array`:"
   ]
  },
  {
   "cell_type": "code",
   "execution_count": 23,
   "metadata": {
    "collapsed": false
   },
   "outputs": [
    {
     "data": {
      "text/plain": [
       "array([[-2.80131189,  0.09135926, -0.29349315,  0.20677773],\n",
       "       [-0.2081237 , -0.92012765,  0.79199643, -0.51383194],\n",
       "       [-0.11131329, -1.14392882,  0.16525396, -0.66809023],\n",
       "       [-2.96677979,  0.09173086,  0.04900218, -0.18074187],\n",
       "       [ 0.36158771, -0.54634494,  0.68725818,  0.16691281],\n",
       "       [ 0.59556774, -0.94671243,  0.68743474,  0.05675819],\n",
       "       [ 0.91744624,  0.62379752,  0.36373427, -0.33071202],\n",
       "       [-1.16786845,  0.39986375, -0.18773636,  0.05606748],\n",
       "       [-1.96344061, -0.3203564 , -0.02032533, -0.48153801],\n",
       "       [-0.87357919,  0.10941743,  0.95436227, -1.06372723],\n",
       "       [-0.31890688, -0.03548538,  0.50049751, -0.55645963],\n",
       "       [-1.11590653, -0.46793198,  0.6161938 , -0.38876446],\n",
       "       [-1.98500198, -0.66393564,  0.02428381, -0.41671612],\n",
       "       [-1.51553187,  0.83240978, -0.24421418, -0.15380407],\n",
       "       [ 1.01248856,  0.0971483 ,  0.26673582,  0.18127575],\n",
       "       [-1.6891846 , -0.66099666, -0.05224733, -0.49409967],\n",
       "       [ 0.50015016,  0.60684555, -0.13133551, -0.17307622],\n",
       "       [-2.9992638 ,  0.78813056,  0.01246026,  0.00587589],\n",
       "       [-1.19652791,  0.53393144, -0.28149799,  0.19482183],\n",
       "       [-0.19226364,  0.61692128, -1.06233941, -0.47454388]])"
      ]
     },
     "execution_count": 23,
     "metadata": {},
     "output_type": "execute_result"
    }
   ],
   "source": [
    "pca_array[0:20]"
   ]
  },
  {
   "cell_type": "markdown",
   "metadata": {},
   "source": [
    "Let's look at our transformed data alongside the original data:"
   ]
  },
  {
   "cell_type": "code",
   "execution_count": 24,
   "metadata": {
    "collapsed": false
   },
   "outputs": [
    {
     "data": {
      "text/html": [
       "<div>\n",
       "<table border=\"1\" class=\"dataframe\">\n",
       "  <thead>\n",
       "    <tr style=\"text-align: right;\">\n",
       "      <th></th>\n",
       "      <th>sat_scaled</th>\n",
       "      <th>cost</th>\n",
       "      <th>earn</th>\n",
       "      <th>gradrate</th>\n",
       "      <th>PCA0</th>\n",
       "      <th>PCA1</th>\n",
       "      <th>PCA2</th>\n",
       "      <th>PCA3</th>\n",
       "    </tr>\n",
       "    <tr>\n",
       "      <th>UNITID</th>\n",
       "      <th></th>\n",
       "      <th></th>\n",
       "      <th></th>\n",
       "      <th></th>\n",
       "      <th></th>\n",
       "      <th></th>\n",
       "      <th></th>\n",
       "      <th></th>\n",
       "    </tr>\n",
       "  </thead>\n",
       "  <tbody>\n",
       "    <tr>\n",
       "      <th>100654</th>\n",
       "      <td>-1.786281</td>\n",
       "      <td>-1.105436</td>\n",
       "      <td>-1.152841</td>\n",
       "      <td>-1.497584</td>\n",
       "      <td>-2.801312</td>\n",
       "      <td>0.091359</td>\n",
       "      <td>-0.293493</td>\n",
       "      <td>0.206778</td>\n",
       "    </tr>\n",
       "    <tr>\n",
       "      <th>100663</th>\n",
       "      <td>0.805767</td>\n",
       "      <td>-1.019907</td>\n",
       "      <td>-0.288142</td>\n",
       "      <td>-0.093461</td>\n",
       "      <td>-0.208124</td>\n",
       "      <td>-0.920128</td>\n",
       "      <td>0.791996</td>\n",
       "      <td>-0.513832</td>\n",
       "    </tr>\n",
       "    <tr>\n",
       "      <th>100706</th>\n",
       "      <td>0.732752</td>\n",
       "      <td>-0.995382</td>\n",
       "      <td>0.323949</td>\n",
       "      <td>-0.402448</td>\n",
       "      <td>-0.111313</td>\n",
       "      <td>-1.143929</td>\n",
       "      <td>0.165254</td>\n",
       "      <td>-0.668090</td>\n",
       "    </tr>\n",
       "    <tr>\n",
       "      <th>100724</th>\n",
       "      <td>-1.457712</td>\n",
       "      <td>-1.220923</td>\n",
       "      <td>-1.502608</td>\n",
       "      <td>-1.723908</td>\n",
       "      <td>-2.966780</td>\n",
       "      <td>0.091731</td>\n",
       "      <td>0.049002</td>\n",
       "      <td>-0.180742</td>\n",
       "    </tr>\n",
       "    <tr>\n",
       "      <th>100751</th>\n",
       "      <td>0.513705</td>\n",
       "      <td>-0.497811</td>\n",
       "      <td>-0.084111</td>\n",
       "      <td>0.640811</td>\n",
       "      <td>0.361588</td>\n",
       "      <td>-0.546345</td>\n",
       "      <td>0.687258</td>\n",
       "      <td>0.166913</td>\n",
       "    </tr>\n",
       "    <tr>\n",
       "      <th>100858</th>\n",
       "      <td>0.805767</td>\n",
       "      <td>-0.725137</td>\n",
       "      <td>0.207361</td>\n",
       "      <td>0.713212</td>\n",
       "      <td>0.595568</td>\n",
       "      <td>-0.946712</td>\n",
       "      <td>0.687435</td>\n",
       "      <td>0.056758</td>\n",
       "    </tr>\n",
       "    <tr>\n",
       "      <th>100937</th>\n",
       "      <td>0.732752</td>\n",
       "      <td>0.883297</td>\n",
       "      <td>-0.132690</td>\n",
       "      <td>0.371160</td>\n",
       "      <td>0.917446</td>\n",
       "      <td>0.623798</td>\n",
       "      <td>0.363734</td>\n",
       "      <td>-0.330712</td>\n",
       "    </tr>\n",
       "    <tr>\n",
       "      <th>101435</th>\n",
       "      <td>-0.837080</td>\n",
       "      <td>-0.131792</td>\n",
       "      <td>-0.599045</td>\n",
       "      <td>-0.696612</td>\n",
       "      <td>-1.167868</td>\n",
       "      <td>0.399864</td>\n",
       "      <td>-0.187736</td>\n",
       "      <td>0.056067</td>\n",
       "    </tr>\n",
       "    <tr>\n",
       "      <th>101480</th>\n",
       "      <td>-0.654542</td>\n",
       "      <td>-1.081066</td>\n",
       "      <td>-0.793360</td>\n",
       "      <td>-1.401239</td>\n",
       "      <td>-1.963441</td>\n",
       "      <td>-0.320356</td>\n",
       "      <td>-0.020325</td>\n",
       "      <td>-0.481538</td>\n",
       "    </tr>\n",
       "    <tr>\n",
       "      <th>101541</th>\n",
       "      <td>0.659736</td>\n",
       "      <td>-0.412593</td>\n",
       "      <td>-1.220852</td>\n",
       "      <td>-0.849395</td>\n",
       "      <td>-0.873579</td>\n",
       "      <td>0.109417</td>\n",
       "      <td>0.954362</td>\n",
       "      <td>-1.063727</td>\n",
       "    </tr>\n",
       "  </tbody>\n",
       "</table>\n",
       "</div>"
      ],
      "text/plain": [
       "        sat_scaled      cost      earn  gradrate      PCA0      PCA1  \\\n",
       "UNITID                                                                 \n",
       "100654   -1.786281 -1.105436 -1.152841 -1.497584 -2.801312  0.091359   \n",
       "100663    0.805767 -1.019907 -0.288142 -0.093461 -0.208124 -0.920128   \n",
       "100706    0.732752 -0.995382  0.323949 -0.402448 -0.111313 -1.143929   \n",
       "100724   -1.457712 -1.220923 -1.502608 -1.723908 -2.966780  0.091731   \n",
       "100751    0.513705 -0.497811 -0.084111  0.640811  0.361588 -0.546345   \n",
       "100858    0.805767 -0.725137  0.207361  0.713212  0.595568 -0.946712   \n",
       "100937    0.732752  0.883297 -0.132690  0.371160  0.917446  0.623798   \n",
       "101435   -0.837080 -0.131792 -0.599045 -0.696612 -1.167868  0.399864   \n",
       "101480   -0.654542 -1.081066 -0.793360 -1.401239 -1.963441 -0.320356   \n",
       "101541    0.659736 -0.412593 -1.220852 -0.849395 -0.873579  0.109417   \n",
       "\n",
       "            PCA2      PCA3  \n",
       "UNITID                      \n",
       "100654 -0.293493  0.206778  \n",
       "100663  0.791996 -0.513832  \n",
       "100706  0.165254 -0.668090  \n",
       "100724  0.049002 -0.180742  \n",
       "100751  0.687258  0.166913  \n",
       "100858  0.687435  0.056758  \n",
       "100937  0.363734 -0.330712  \n",
       "101435 -0.187736  0.056067  \n",
       "101480 -0.020325 -0.481538  \n",
       "101541  0.954362 -1.063727  "
      ]
     },
     "execution_count": 24,
     "metadata": {},
     "output_type": "execute_result"
    }
   ],
   "source": [
    "dfscale['PCA0'] = pca_array[:,0]\n",
    "dfscale['PCA1'] = pca_array[:,1]\n",
    "dfscale['PCA2'] = pca_array[:,2]\n",
    "dfscale['PCA3'] = pca_array[:,3]\n",
    "dfscale.head(10) # shows data before PCA (left 4 columns) and after PCA (right 4 columns)"
   ]
  },
  {
   "cell_type": "code",
   "execution_count": 25,
   "metadata": {
    "collapsed": false
   },
   "outputs": [
    {
     "data": {
      "text/html": [
       "<div>\n",
       "<table border=\"1\" class=\"dataframe\">\n",
       "  <thead>\n",
       "    <tr style=\"text-align: right;\">\n",
       "      <th></th>\n",
       "      <th>sat_scaled</th>\n",
       "      <th>cost</th>\n",
       "      <th>earn</th>\n",
       "      <th>gradrate</th>\n",
       "      <th>PCA0</th>\n",
       "      <th>PCA1</th>\n",
       "      <th>PCA2</th>\n",
       "      <th>PCA3</th>\n",
       "    </tr>\n",
       "  </thead>\n",
       "  <tbody>\n",
       "    <tr>\n",
       "      <th>count</th>\n",
       "      <td>1.237000e+03</td>\n",
       "      <td>1.237000e+03</td>\n",
       "      <td>1.237000e+03</td>\n",
       "      <td>1.237000e+03</td>\n",
       "      <td>1.237000e+03</td>\n",
       "      <td>1.237000e+03</td>\n",
       "      <td>1.237000e+03</td>\n",
       "      <td>1.237000e+03</td>\n",
       "    </tr>\n",
       "    <tr>\n",
       "      <th>mean</th>\n",
       "      <td>7.848074e-16</td>\n",
       "      <td>1.425250e-16</td>\n",
       "      <td>3.508601e-16</td>\n",
       "      <td>-6.821993e-16</td>\n",
       "      <td>6.435165e-17</td>\n",
       "      <td>6.192837e-18</td>\n",
       "      <td>-1.348513e-17</td>\n",
       "      <td>-2.288657e-17</td>\n",
       "    </tr>\n",
       "    <tr>\n",
       "      <th>std</th>\n",
       "      <td>1.000404e+00</td>\n",
       "      <td>1.000404e+00</td>\n",
       "      <td>1.000404e+00</td>\n",
       "      <td>1.000404e+00</td>\n",
       "      <td>1.687102e+00</td>\n",
       "      <td>7.583631e-01</td>\n",
       "      <td>6.409145e-01</td>\n",
       "      <td>4.135673e-01</td>\n",
       "    </tr>\n",
       "    <tr>\n",
       "      <th>min</th>\n",
       "      <td>-3.319605e+00</td>\n",
       "      <td>-1.805031e+00</td>\n",
       "      <td>-2.493612e+00</td>\n",
       "      <td>-2.882895e+00</td>\n",
       "      <td>-4.246290e+00</td>\n",
       "      <td>-2.791163e+00</td>\n",
       "      <td>-5.029245e+00</td>\n",
       "      <td>-2.066555e+00</td>\n",
       "    </tr>\n",
       "    <tr>\n",
       "      <th>25%</th>\n",
       "      <td>-6.545418e-01</td>\n",
       "      <td>-9.103191e-01</td>\n",
       "      <td>-6.476236e-01</td>\n",
       "      <td>-7.142850e-01</td>\n",
       "      <td>-1.147450e+00</td>\n",
       "      <td>-5.915854e-01</td>\n",
       "      <td>-3.573900e-01</td>\n",
       "      <td>-2.642754e-01</td>\n",
       "    </tr>\n",
       "    <tr>\n",
       "      <th>50%</th>\n",
       "      <td>-1.434337e-01</td>\n",
       "      <td>-3.299192e-02</td>\n",
       "      <td>-1.618372e-01</td>\n",
       "      <td>-6.723658e-02</td>\n",
       "      <td>-2.848807e-01</td>\n",
       "      <td>1.673621e-01</td>\n",
       "      <td>3.048090e-02</td>\n",
       "      <td>9.247223e-03</td>\n",
       "    </tr>\n",
       "    <tr>\n",
       "      <th>75%</th>\n",
       "      <td>4.771975e-01</td>\n",
       "      <td>7.253559e-01</td>\n",
       "      <td>4.113908e-01</td>\n",
       "      <td>6.482222e-01</td>\n",
       "      <td>8.835487e-01</td>\n",
       "      <td>5.740212e-01</td>\n",
       "      <td>4.077402e-01</td>\n",
       "      <td>2.697495e-01</td>\n",
       "    </tr>\n",
       "    <tr>\n",
       "      <th>max</th>\n",
       "      <td>3.580354e+00</td>\n",
       "      <td>2.286679e+00</td>\n",
       "      <td>7.105528e+00</td>\n",
       "      <td>2.416061e+00</td>\n",
       "      <td>5.956233e+00</td>\n",
       "      <td>2.450904e+00</td>\n",
       "      <td>1.722452e+00</td>\n",
       "      <td>1.367887e+00</td>\n",
       "    </tr>\n",
       "  </tbody>\n",
       "</table>\n",
       "</div>"
      ],
      "text/plain": [
       "         sat_scaled          cost          earn      gradrate          PCA0  \\\n",
       "count  1.237000e+03  1.237000e+03  1.237000e+03  1.237000e+03  1.237000e+03   \n",
       "mean   7.848074e-16  1.425250e-16  3.508601e-16 -6.821993e-16  6.435165e-17   \n",
       "std    1.000404e+00  1.000404e+00  1.000404e+00  1.000404e+00  1.687102e+00   \n",
       "min   -3.319605e+00 -1.805031e+00 -2.493612e+00 -2.882895e+00 -4.246290e+00   \n",
       "25%   -6.545418e-01 -9.103191e-01 -6.476236e-01 -7.142850e-01 -1.147450e+00   \n",
       "50%   -1.434337e-01 -3.299192e-02 -1.618372e-01 -6.723658e-02 -2.848807e-01   \n",
       "75%    4.771975e-01  7.253559e-01  4.113908e-01  6.482222e-01  8.835487e-01   \n",
       "max    3.580354e+00  2.286679e+00  7.105528e+00  2.416061e+00  5.956233e+00   \n",
       "\n",
       "               PCA1          PCA2          PCA3  \n",
       "count  1.237000e+03  1.237000e+03  1.237000e+03  \n",
       "mean   6.192837e-18 -1.348513e-17 -2.288657e-17  \n",
       "std    7.583631e-01  6.409145e-01  4.135673e-01  \n",
       "min   -2.791163e+00 -5.029245e+00 -2.066555e+00  \n",
       "25%   -5.915854e-01 -3.573900e-01 -2.642754e-01  \n",
       "50%    1.673621e-01  3.048090e-02  9.247223e-03  \n",
       "75%    5.740212e-01  4.077402e-01  2.697495e-01  \n",
       "max    2.450904e+00  1.722452e+00  1.367887e+00  "
      ]
     },
     "execution_count": 25,
     "metadata": {},
     "output_type": "execute_result"
    }
   ],
   "source": [
    "dfscale.describe()"
   ]
  },
  {
   "cell_type": "markdown",
   "metadata": {},
   "source": [
    "### 3. Clustering (via Kmeans)"
   ]
  },
  {
   "cell_type": "markdown",
   "metadata": {},
   "source": [
    "Create an instance of the clustering object"
   ]
  },
  {
   "cell_type": "code",
   "execution_count": 26,
   "metadata": {
    "collapsed": true
   },
   "outputs": [],
   "source": [
    "from sklearn.cluster import KMeans\n",
    "km = KMeans(init='k-means++', n_clusters=7)"
   ]
  },
  {
   "cell_type": "markdown",
   "metadata": {},
   "source": [
    "Cluster using just PCA0 and PCA1.  Store the cluster numbers in our dataframe."
   ]
  },
  {
   "cell_type": "code",
   "execution_count": 27,
   "metadata": {
    "collapsed": false
   },
   "outputs": [],
   "source": [
    "\n",
    "dfscale['KM_PCA_cluster'] = km.fit_predict(dfscale[['PCA0','PCA1']])"
   ]
  },
  {
   "cell_type": "markdown",
   "metadata": {},
   "source": [
    "For purposes of comparision, cluster will all the original data:"
   ]
  },
  {
   "cell_type": "code",
   "execution_count": 28,
   "metadata": {
    "collapsed": false
   },
   "outputs": [],
   "source": [
    "dfscale['KM_cluster'] = km.fit_predict(dfscale[['sat_scaled', 'cost', 'earn', 'gradrate']])"
   ]
  },
  {
   "cell_type": "code",
   "execution_count": 29,
   "metadata": {
    "collapsed": false
   },
   "outputs": [
    {
     "data": {
      "text/html": [
       "<div>\n",
       "<table border=\"1\" class=\"dataframe\">\n",
       "  <thead>\n",
       "    <tr style=\"text-align: right;\">\n",
       "      <th></th>\n",
       "      <th>sat_scaled</th>\n",
       "      <th>cost</th>\n",
       "      <th>earn</th>\n",
       "      <th>gradrate</th>\n",
       "      <th>PCA0</th>\n",
       "      <th>PCA1</th>\n",
       "      <th>PCA2</th>\n",
       "      <th>PCA3</th>\n",
       "      <th>KM_PCA_cluster</th>\n",
       "      <th>KM_cluster</th>\n",
       "    </tr>\n",
       "    <tr>\n",
       "      <th>UNITID</th>\n",
       "      <th></th>\n",
       "      <th></th>\n",
       "      <th></th>\n",
       "      <th></th>\n",
       "      <th></th>\n",
       "      <th></th>\n",
       "      <th></th>\n",
       "      <th></th>\n",
       "      <th></th>\n",
       "      <th></th>\n",
       "    </tr>\n",
       "  </thead>\n",
       "  <tbody>\n",
       "    <tr>\n",
       "      <th>100654</th>\n",
       "      <td>-1.786281</td>\n",
       "      <td>-1.105436</td>\n",
       "      <td>-1.152841</td>\n",
       "      <td>-1.497584</td>\n",
       "      <td>-2.801312</td>\n",
       "      <td>0.091359</td>\n",
       "      <td>-0.293493</td>\n",
       "      <td>0.206778</td>\n",
       "      <td>1</td>\n",
       "      <td>4</td>\n",
       "    </tr>\n",
       "    <tr>\n",
       "      <th>100663</th>\n",
       "      <td>0.805767</td>\n",
       "      <td>-1.019907</td>\n",
       "      <td>-0.288142</td>\n",
       "      <td>-0.093461</td>\n",
       "      <td>-0.208124</td>\n",
       "      <td>-0.920128</td>\n",
       "      <td>0.791996</td>\n",
       "      <td>-0.513832</td>\n",
       "      <td>4</td>\n",
       "      <td>3</td>\n",
       "    </tr>\n",
       "    <tr>\n",
       "      <th>100706</th>\n",
       "      <td>0.732752</td>\n",
       "      <td>-0.995382</td>\n",
       "      <td>0.323949</td>\n",
       "      <td>-0.402448</td>\n",
       "      <td>-0.111313</td>\n",
       "      <td>-1.143929</td>\n",
       "      <td>0.165254</td>\n",
       "      <td>-0.668090</td>\n",
       "      <td>4</td>\n",
       "      <td>3</td>\n",
       "    </tr>\n",
       "    <tr>\n",
       "      <th>100724</th>\n",
       "      <td>-1.457712</td>\n",
       "      <td>-1.220923</td>\n",
       "      <td>-1.502608</td>\n",
       "      <td>-1.723908</td>\n",
       "      <td>-2.966780</td>\n",
       "      <td>0.091731</td>\n",
       "      <td>0.049002</td>\n",
       "      <td>-0.180742</td>\n",
       "      <td>1</td>\n",
       "      <td>4</td>\n",
       "    </tr>\n",
       "    <tr>\n",
       "      <th>100751</th>\n",
       "      <td>0.513705</td>\n",
       "      <td>-0.497811</td>\n",
       "      <td>-0.084111</td>\n",
       "      <td>0.640811</td>\n",
       "      <td>0.361588</td>\n",
       "      <td>-0.546345</td>\n",
       "      <td>0.687258</td>\n",
       "      <td>0.166913</td>\n",
       "      <td>4</td>\n",
       "      <td>3</td>\n",
       "    </tr>\n",
       "  </tbody>\n",
       "</table>\n",
       "</div>"
      ],
      "text/plain": [
       "        sat_scaled      cost      earn  gradrate      PCA0      PCA1  \\\n",
       "UNITID                                                                 \n",
       "100654   -1.786281 -1.105436 -1.152841 -1.497584 -2.801312  0.091359   \n",
       "100663    0.805767 -1.019907 -0.288142 -0.093461 -0.208124 -0.920128   \n",
       "100706    0.732752 -0.995382  0.323949 -0.402448 -0.111313 -1.143929   \n",
       "100724   -1.457712 -1.220923 -1.502608 -1.723908 -2.966780  0.091731   \n",
       "100751    0.513705 -0.497811 -0.084111  0.640811  0.361588 -0.546345   \n",
       "\n",
       "            PCA2      PCA3  KM_PCA_cluster  KM_cluster  \n",
       "UNITID                                                  \n",
       "100654 -0.293493  0.206778               1           4  \n",
       "100663  0.791996 -0.513832               4           3  \n",
       "100706  0.165254 -0.668090               4           3  \n",
       "100724  0.049002 -0.180742               1           4  \n",
       "100751  0.687258  0.166913               4           3  "
      ]
     },
     "execution_count": 29,
     "metadata": {},
     "output_type": "execute_result"
    }
   ],
   "source": [
    "dfscale.head()"
   ]
  },
  {
   "cell_type": "markdown",
   "metadata": {},
   "source": [
    "Let's have a look!  First, clustering on PCA0 and PCA1 only:"
   ]
  },
  {
   "cell_type": "code",
   "execution_count": 30,
   "metadata": {
    "collapsed": false
   },
   "outputs": [
    {
     "data": {
      "image/png": "[encoded data removed]",
      "text/plain": [
       "<matplotlib.figure.Figure at 0xc51d160>"
      ]
     },
     "metadata": {},
     "output_type": "display_data"
    }
   ],
   "source": [
    "import matplotlib.pyplot as plt\n",
    "\n",
    "groups = dfscale.groupby('KM_PCA_cluster')\n",
    "\n",
    "fig, ax = plt.subplots()\n",
    "ax.margins(0.05) # Optional, just adds 5% padding to the autoscaling\n",
    "for name, group in groups:\n",
    "    ax.plot(group.PCA0, group.PCA1, marker='o', linestyle='', ms=5, label=name)\n",
    "ax.legend()\n",
    "ax.set_xlabel(\"PCA0\")\n",
    "ax.set_ylabel(\"PCA1\")\n",
    "ax.text(-2, 3, 'PCA Cluster Visualization')\n",
    "\n",
    "plt.show()"
   ]
  },
  {
   "cell_type": "code",
   "execution_count": 33,
   "metadata": {
    "collapsed": false
   },
   "outputs": [
    {
     "data": {
      "text/plain": [
       "<pandas.core.groupby.DataFrameGroupBy object at 0x000000000C51D128>"
      ]
     },
     "execution_count": 33,
     "metadata": {},
     "output_type": "execute_result"
    }
   ],
   "source": [
    "groups"
   ]
  },
  {
   "cell_type": "code",
   "execution_count": 34,
   "metadata": {
    "collapsed": false
   },
   "outputs": [
    {
     "data": {
      "text/html": [
       "<div>\n",
       "<table border=\"1\" class=\"dataframe\">\n",
       "  <thead>\n",
       "    <tr style=\"text-align: right;\">\n",
       "      <th></th>\n",
       "      <th>sat_scaled</th>\n",
       "      <th>cost</th>\n",
       "      <th>earn</th>\n",
       "      <th>gradrate</th>\n",
       "      <th>PCA0</th>\n",
       "      <th>PCA1</th>\n",
       "      <th>PCA2</th>\n",
       "      <th>PCA3</th>\n",
       "      <th>KM_cluster</th>\n",
       "    </tr>\n",
       "    <tr>\n",
       "      <th>KM_PCA_cluster</th>\n",
       "      <th></th>\n",
       "      <th></th>\n",
       "      <th></th>\n",
       "      <th></th>\n",
       "      <th></th>\n",
       "      <th></th>\n",
       "      <th></th>\n",
       "      <th></th>\n",
       "      <th></th>\n",
       "    </tr>\n",
       "  </thead>\n",
       "  <tbody>\n",
       "    <tr>\n",
       "      <th>1</th>\n",
       "      <td>-0.946604</td>\n",
       "      <td>-1.109394</td>\n",
       "      <td>-0.880801</td>\n",
       "      <td>-1.227363</td>\n",
       "      <td>-1.971373</td>\n",
       "      <td>-0.302375</td>\n",
       "      <td>-0.012209</td>\n",
       "      <td>-0.180742</td>\n",
       "      <td>4</td>\n",
       "    </tr>\n",
       "    <tr>\n",
       "      <th>2</th>\n",
       "      <td>-0.618034</td>\n",
       "      <td>0.117886</td>\n",
       "      <td>-0.589329</td>\n",
       "      <td>-0.543259</td>\n",
       "      <td>-0.789297</td>\n",
       "      <td>0.553331</td>\n",
       "      <td>-0.149312</td>\n",
       "      <td>0.005333</td>\n",
       "      <td>1</td>\n",
       "    </tr>\n",
       "    <tr>\n",
       "      <th>4</th>\n",
       "      <td>-0.143434</td>\n",
       "      <td>-0.977376</td>\n",
       "      <td>-0.113259</td>\n",
       "      <td>-0.251375</td>\n",
       "      <td>-0.632456</td>\n",
       "      <td>-0.739771</td>\n",
       "      <td>0.202438</td>\n",
       "      <td>0.044472</td>\n",
       "      <td>3</td>\n",
       "    </tr>\n",
       "    <tr>\n",
       "      <th>0</th>\n",
       "      <td>0.112120</td>\n",
       "      <td>0.661714</td>\n",
       "      <td>-0.025817</td>\n",
       "      <td>0.356908</td>\n",
       "      <td>0.538715</td>\n",
       "      <td>0.517994</td>\n",
       "      <td>0.040142</td>\n",
       "      <td>0.080429</td>\n",
       "      <td>0</td>\n",
       "    </tr>\n",
       "    <tr>\n",
       "      <th>5</th>\n",
       "      <td>0.915290</td>\n",
       "      <td>-0.731850</td>\n",
       "      <td>0.746583</td>\n",
       "      <td>0.964620</td>\n",
       "      <td>0.995156</td>\n",
       "      <td>-1.283422</td>\n",
       "      <td>0.496172</td>\n",
       "      <td>0.237667</td>\n",
       "      <td>5</td>\n",
       "    </tr>\n",
       "    <tr>\n",
       "      <th>6</th>\n",
       "      <td>1.024813</td>\n",
       "      <td>1.390181</td>\n",
       "      <td>0.863172</td>\n",
       "      <td>1.239117</td>\n",
       "      <td>2.191726</td>\n",
       "      <td>0.497454</td>\n",
       "      <td>-0.027102</td>\n",
       "      <td>0.004664</td>\n",
       "      <td>6</td>\n",
       "    </tr>\n",
       "    <tr>\n",
       "      <th>3</th>\n",
       "      <td>2.448614</td>\n",
       "      <td>1.967460</td>\n",
       "      <td>2.208801</td>\n",
       "      <td>2.059757</td>\n",
       "      <td>4.261555</td>\n",
       "      <td>0.008039</td>\n",
       "      <td>-0.174083</td>\n",
       "      <td>-0.382132</td>\n",
       "      <td>2</td>\n",
       "    </tr>\n",
       "  </tbody>\n",
       "</table>\n",
       "</div>"
      ],
      "text/plain": [
       "                sat_scaled      cost      earn  gradrate      PCA0      PCA1  \\\n",
       "KM_PCA_cluster                                                                 \n",
       "1                -0.946604 -1.109394 -0.880801 -1.227363 -1.971373 -0.302375   \n",
       "2                -0.618034  0.117886 -0.589329 -0.543259 -0.789297  0.553331   \n",
       "4                -0.143434 -0.977376 -0.113259 -0.251375 -0.632456 -0.739771   \n",
       "0                 0.112120  0.661714 -0.025817  0.356908  0.538715  0.517994   \n",
       "5                 0.915290 -0.731850  0.746583  0.964620  0.995156 -1.283422   \n",
       "6                 1.024813  1.390181  0.863172  1.239117  2.191726  0.497454   \n",
       "3                 2.448614  1.967460  2.208801  2.059757  4.261555  0.008039   \n",
       "\n",
       "                    PCA2      PCA3  KM_cluster  \n",
       "KM_PCA_cluster                                  \n",
       "1              -0.012209 -0.180742           4  \n",
       "2              -0.149312  0.005333           1  \n",
       "4               0.202438  0.044472           3  \n",
       "0               0.040142  0.080429           0  \n",
       "5               0.496172  0.237667           5  \n",
       "6              -0.027102  0.004664           6  \n",
       "3              -0.174083 -0.382132           2  "
      ]
     },
     "execution_count": 34,
     "metadata": {},
     "output_type": "execute_result"
    }
   ],
   "source": [
    "groups.median().sort_values(by='sat_scaled')  # bottom cluster is the low-cost group!"
   ]
  },
  {
   "cell_type": "markdown",
   "metadata": {},
   "source": [
    "Let's see how clustering with the raw data compared to clustering PCA-transformed variables."
   ]
  },
  {
   "cell_type": "code",
   "execution_count": 35,
   "metadata": {
    "collapsed": false
   },
   "outputs": [
    {
     "data": {
      "text/html": [
       "<div>\n",
       "<table border=\"1\" class=\"dataframe\">\n",
       "  <thead>\n",
       "    <tr style=\"text-align: right;\">\n",
       "      <th></th>\n",
       "      <th>sat_scaled</th>\n",
       "      <th>cost</th>\n",
       "      <th>earn</th>\n",
       "      <th>gradrate</th>\n",
       "      <th>PCA0</th>\n",
       "      <th>PCA1</th>\n",
       "      <th>PCA2</th>\n",
       "      <th>PCA3</th>\n",
       "      <th>KM_PCA_cluster</th>\n",
       "    </tr>\n",
       "    <tr>\n",
       "      <th>KM_cluster</th>\n",
       "      <th></th>\n",
       "      <th></th>\n",
       "      <th></th>\n",
       "      <th></th>\n",
       "      <th></th>\n",
       "      <th></th>\n",
       "      <th></th>\n",
       "      <th></th>\n",
       "      <th></th>\n",
       "    </tr>\n",
       "  </thead>\n",
       "  <tbody>\n",
       "    <tr>\n",
       "      <th>4</th>\n",
       "      <td>-0.946604</td>\n",
       "      <td>-1.109394</td>\n",
       "      <td>-0.880801</td>\n",
       "      <td>-1.229643</td>\n",
       "      <td>-1.970424</td>\n",
       "      <td>-0.302375</td>\n",
       "      <td>-0.017764</td>\n",
       "      <td>-0.182898</td>\n",
       "      <td>1</td>\n",
       "    </tr>\n",
       "    <tr>\n",
       "      <th>1</th>\n",
       "      <td>-0.654542</td>\n",
       "      <td>0.176289</td>\n",
       "      <td>-0.501888</td>\n",
       "      <td>-0.561502</td>\n",
       "      <td>-0.763974</td>\n",
       "      <td>0.568416</td>\n",
       "      <td>-0.234845</td>\n",
       "      <td>-0.042793</td>\n",
       "      <td>2</td>\n",
       "    </tr>\n",
       "    <tr>\n",
       "      <th>3</th>\n",
       "      <td>-0.165338</td>\n",
       "      <td>-0.953937</td>\n",
       "      <td>-0.171553</td>\n",
       "      <td>-0.229141</td>\n",
       "      <td>-0.658686</td>\n",
       "      <td>-0.704756</td>\n",
       "      <td>0.246001</td>\n",
       "      <td>0.061654</td>\n",
       "      <td>4</td>\n",
       "    </tr>\n",
       "    <tr>\n",
       "      <th>0</th>\n",
       "      <td>0.126723</td>\n",
       "      <td>0.658299</td>\n",
       "      <td>-0.064680</td>\n",
       "      <td>0.392823</td>\n",
       "      <td>0.579410</td>\n",
       "      <td>0.514974</td>\n",
       "      <td>0.111147</td>\n",
       "      <td>0.103991</td>\n",
       "      <td>0</td>\n",
       "    </tr>\n",
       "    <tr>\n",
       "      <th>5</th>\n",
       "      <td>0.915290</td>\n",
       "      <td>-0.734062</td>\n",
       "      <td>0.693147</td>\n",
       "      <td>0.945807</td>\n",
       "      <td>0.989261</td>\n",
       "      <td>-1.275901</td>\n",
       "      <td>0.515200</td>\n",
       "      <td>0.234092</td>\n",
       "      <td>5</td>\n",
       "    </tr>\n",
       "    <tr>\n",
       "      <th>6</th>\n",
       "      <td>1.061321</td>\n",
       "      <td>1.410127</td>\n",
       "      <td>0.819451</td>\n",
       "      <td>1.291850</td>\n",
       "      <td>2.213076</td>\n",
       "      <td>0.559920</td>\n",
       "      <td>0.045081</td>\n",
       "      <td>-0.011931</td>\n",
       "      <td>6</td>\n",
       "    </tr>\n",
       "    <tr>\n",
       "      <th>2</th>\n",
       "      <td>2.412107</td>\n",
       "      <td>1.945651</td>\n",
       "      <td>2.373968</td>\n",
       "      <td>2.030682</td>\n",
       "      <td>4.270777</td>\n",
       "      <td>-0.179981</td>\n",
       "      <td>-0.309273</td>\n",
       "      <td>-0.380143</td>\n",
       "      <td>3</td>\n",
       "    </tr>\n",
       "  </tbody>\n",
       "</table>\n",
       "</div>"
      ],
      "text/plain": [
       "            sat_scaled      cost      earn  gradrate      PCA0      PCA1  \\\n",
       "KM_cluster                                                                 \n",
       "4            -0.946604 -1.109394 -0.880801 -1.229643 -1.970424 -0.302375   \n",
       "1            -0.654542  0.176289 -0.501888 -0.561502 -0.763974  0.568416   \n",
       "3            -0.165338 -0.953937 -0.171553 -0.229141 -0.658686 -0.704756   \n",
       "0             0.126723  0.658299 -0.064680  0.392823  0.579410  0.514974   \n",
       "5             0.915290 -0.734062  0.693147  0.945807  0.989261 -1.275901   \n",
       "6             1.061321  1.410127  0.819451  1.291850  2.213076  0.559920   \n",
       "2             2.412107  1.945651  2.373968  2.030682  4.270777 -0.179981   \n",
       "\n",
       "                PCA2      PCA3  KM_PCA_cluster  \n",
       "KM_cluster                                      \n",
       "4          -0.017764 -0.182898               1  \n",
       "1          -0.234845 -0.042793               2  \n",
       "3           0.246001  0.061654               4  \n",
       "0           0.111147  0.103991               0  \n",
       "5           0.515200  0.234092               5  \n",
       "6           0.045081 -0.011931               6  \n",
       "2          -0.309273 -0.380143               3  "
      ]
     },
     "execution_count": 35,
     "metadata": {},
     "output_type": "execute_result"
    }
   ],
   "source": [
    "groups_raw = dfscale.groupby('KM_cluster')\n",
    "groups_raw.median().sort_values(by='sat_scaled') "
   ]
  },
  {
   "cell_type": "markdown",
   "metadata": {},
   "source": [
    "The median values of the clusters are nearly the same.  Not much difference, so far.  What about visualization?  Well, the first problem is: what do we graph on each axis?"
   ]
  },
  {
   "cell_type": "code",
   "execution_count": 36,
   "metadata": {
    "collapsed": false
   },
   "outputs": [
    {
     "data": {
      "text/plain": [
       "array([[<matplotlib.axes._subplots.AxesSubplot object at 0x000000000C81D518>,\n",
       "        <matplotlib.axes._subplots.AxesSubplot object at 0x000000000CB02400>,\n",
       "        <matplotlib.axes._subplots.AxesSubplot object at 0x000000000CB11B70>,\n",
       "        <matplotlib.axes._subplots.AxesSubplot object at 0x000000000CB8B7B8>],\n",
       "       [<matplotlib.axes._subplots.AxesSubplot object at 0x000000000B926208>,\n",
       "        <matplotlib.axes._subplots.AxesSubplot object at 0x000000000CC2AF28>,\n",
       "        <matplotlib.axes._subplots.AxesSubplot object at 0x000000000CD46A20>,\n",
       "        <matplotlib.axes._subplots.AxesSubplot object at 0x000000000CCD7E80>],\n",
       "       [<matplotlib.axes._subplots.AxesSubplot object at 0x000000000CF01160>,\n",
       "        <matplotlib.axes._subplots.AxesSubplot object at 0x000000000CFBC9E8>,\n",
       "        <matplotlib.axes._subplots.AxesSubplot object at 0x000000000D0A1FD0>,\n",
       "        <matplotlib.axes._subplots.AxesSubplot object at 0x000000000D200978>],\n",
       "       [<matplotlib.axes._subplots.AxesSubplot object at 0x000000000D2638D0>,\n",
       "        <matplotlib.axes._subplots.AxesSubplot object at 0x000000000EC57278>,\n",
       "        <matplotlib.axes._subplots.AxesSubplot object at 0x000000000EC57FD0>,\n",
       "        <matplotlib.axes._subplots.AxesSubplot object at 0x000000000EE04860>]], dtype=object)"
      ]
     },
     "execution_count": 36,
     "metadata": {},
     "output_type": "execute_result"
    },
    {
     "data": {
      "image/png": "[encoded data removed]",
      "text/plain": [
       "<matplotlib.figure.Figure at 0xc5166a0>"
      ]
     },
     "metadata": {},
     "output_type": "display_data"
    }
   ],
   "source": [
    "from pandas.tools.plotting import scatter_matrix\n",
    "scatter_matrix(dfscale[['sat_scaled', 'cost', 'earn', 'gradrate']])"
   ]
  },
  {
   "cell_type": "markdown",
   "metadata": {},
   "source": [
    "Let's try one that already shows distinct groups, such as cost vs. gradrate."
   ]
  },
  {
   "cell_type": "code",
   "execution_count": 37,
   "metadata": {
    "collapsed": false
   },
   "outputs": [
    {
     "data": {
      "image/png": "[encoded data removed]",
      "text/plain": [
       "<matplotlib.figure.Figure at 0xf017b70>"
      ]
     },
     "metadata": {},
     "output_type": "display_data"
    }
   ],
   "source": [
    "groups = dfscale.groupby('KM_cluster')\n",
    "\n",
    "fig, ax = plt.subplots()\n",
    "ax.margins(0.05) \n",
    "for name, group in groups:\n",
    "    ax.plot(group.gradrate, group.cost, marker='o', linestyle='', ms=5, label=name)\n",
    "ax.legend()\n",
    "ax.set_xlabel(\"gradrate\")\n",
    "ax.set_ylabel(\"cost\")\n",
    "ax.text(-2, 3, 'Cluster Visualization without PCA')\n",
    "\n",
    "\n",
    "plt.show()"
   ]
  },
  {
   "cell_type": "markdown",
   "metadata": {},
   "source": [
    "Not too bad-- but still a bit of a mess compared to our PCA.  There, the clustering algorithm ran on two dimensional data.  Here, it made 4-dimensional clusters.  If you feel like you should be able peek your head around the side of the graph to get a better view of the clusters, PCA is exactly that; a transformation of variables.  It transforms in such as way as to pack as much information as possible into the first PCA variable, then the second, and so on.  That is why PCA is referred to as a \"dimensionality reduction\" technique.  You can also think of clustering as a dimensionality reduction technque, where we map down to one categorical dimension (cluster number)."
   ]
  },
  {
   "cell_type": "markdown",
   "metadata": {},
   "source": [
    "### 4.  Prototype construction using the clustered data"
   ]
  },
  {
   "cell_type": "markdown",
   "metadata": {},
   "source": [
    "Back to business-- my plan for a prototype product-- (yours could be different, and better).  Let's take the SAT score and align it to the nearest cluster median.  We'll return three schools from that cluster within the budget.  Then we'll take three schools from the cluster above (\"reach schools\") and below (\"safe schools\").  If we're in the top or bottom cluster to begin with, we'll return 3 additional schools from the matching cluster.  So that we can easily get the cluster above and below, let's also re-map the cluster numbers."
   ]
  },
  {
   "cell_type": "markdown",
   "metadata": {},
   "source": [
    "#### Re-map cluster numbers.  Right now the numbers don't mean anything.  \n",
    "Let's make cluster 0 correspond to the lowest median SAT scores,\n",
    "cluster 1 to the next highest, etc., cluster 6 to the highest.\n",
    "Save the new meaningful cluster number in our dataframe as `cluster ordinal`."
   ]
  },
  {
   "cell_type": "code",
   "execution_count": 46,
   "metadata": {
    "collapsed": false
   },
   "outputs": [
    {
     "data": {
      "text/plain": [
       "Int64Index([1, 2, 4, 0, 5, 6, 3], dtype='int64', name=u'KM_PCA_cluster')"
      ]
     },
     "execution_count": 46,
     "metadata": {},
     "output_type": "execute_result"
    }
   ],
   "source": [
    "groups = dfscale.groupby('KM_PCA_cluster')\n",
    "cluster_number_map = groups.median().sort_values(by='sat_scaled').index  # cluster numbers sorted from lowest to highest SAT\n",
    "cluster_number_map"
   ]
  },
  {
   "cell_type": "code",
   "execution_count": 48,
   "metadata": {
    "collapsed": false
   },
   "outputs": [
    {
     "data": {
      "text/plain": [
       "{0: 3, 1: 0, 2: 1, 3: 6, 4: 2, 5: 4, 6: 5}"
      ]
     },
     "execution_count": 48,
     "metadata": {},
     "output_type": "execute_result"
    }
   ],
   "source": [
    "d = { cluster_number_map[i]: i for i in range(7) }\n",
    "d"
   ]
  },
  {
   "cell_type": "code",
   "execution_count": 60,
   "metadata": {
    "collapsed": false
   },
   "outputs": [
    {
     "data": {
      "text/plain": [
       "5"
      ]
     },
     "execution_count": 60,
     "metadata": {},
     "output_type": "execute_result"
    }
   ],
   "source": [
    "d[6]"
   ]
  },
  {
   "cell_type": "code",
   "execution_count": 61,
   "metadata": {
    "collapsed": false
   },
   "outputs": [
    {
     "data": {
      "text/plain": [
       "1"
      ]
     },
     "execution_count": 61,
     "metadata": {},
     "output_type": "execute_result"
    }
   ],
   "source": [
    "d[2]"
   ]
  },
  {
   "cell_type": "code",
   "execution_count": 53,
   "metadata": {
    "collapsed": false
   },
   "outputs": [
    {
     "data": {
      "text/plain": [
       "UNITID\n",
       "100654    0\n",
       "100663    2\n",
       "100706    2\n",
       "100724    0\n",
       "100751    2\n",
       "100858    4\n",
       "100937    3\n",
       "101435    1\n",
       "101480    0\n",
       "101541    1\n",
       "Name: KM_PCA_cluster, dtype: int64"
      ]
     },
     "execution_count": 53,
     "metadata": {},
     "output_type": "execute_result"
    }
   ],
   "source": [
    "cluster_ord = dfscale.KM_PCA_cluster.map(lambda x: d[x])\n",
    "cluster_ord.head(10)"
   ]
  },
  {
   "cell_type": "code",
   "execution_count": 52,
   "metadata": {
    "collapsed": false,
    "scrolled": true
   },
   "outputs": [
    {
     "data": {
      "text/html": [
       "<div>\n",
       "<table border=\"1\" class=\"dataframe\">\n",
       "  <thead>\n",
       "    <tr style=\"text-align: right;\">\n",
       "      <th></th>\n",
       "      <th>sat_scaled</th>\n",
       "      <th>cost</th>\n",
       "      <th>earn</th>\n",
       "      <th>gradrate</th>\n",
       "      <th>PCA0</th>\n",
       "      <th>PCA1</th>\n",
       "      <th>PCA2</th>\n",
       "      <th>PCA3</th>\n",
       "      <th>KM_PCA_cluster</th>\n",
       "      <th>KM_cluster</th>\n",
       "      <th>cluster_ordinal</th>\n",
       "    </tr>\n",
       "    <tr>\n",
       "      <th>UNITID</th>\n",
       "      <th></th>\n",
       "      <th></th>\n",
       "      <th></th>\n",
       "      <th></th>\n",
       "      <th></th>\n",
       "      <th></th>\n",
       "      <th></th>\n",
       "      <th></th>\n",
       "      <th></th>\n",
       "      <th></th>\n",
       "      <th></th>\n",
       "    </tr>\n",
       "  </thead>\n",
       "  <tbody>\n",
       "    <tr>\n",
       "      <th>100654</th>\n",
       "      <td>-1.786281</td>\n",
       "      <td>-1.105436</td>\n",
       "      <td>-1.152841</td>\n",
       "      <td>-1.497584</td>\n",
       "      <td>-2.801312</td>\n",
       "      <td>0.091359</td>\n",
       "      <td>-0.293493</td>\n",
       "      <td>0.206778</td>\n",
       "      <td>1</td>\n",
       "      <td>4</td>\n",
       "      <td>0</td>\n",
       "    </tr>\n",
       "    <tr>\n",
       "      <th>100663</th>\n",
       "      <td>0.805767</td>\n",
       "      <td>-1.019907</td>\n",
       "      <td>-0.288142</td>\n",
       "      <td>-0.093461</td>\n",
       "      <td>-0.208124</td>\n",
       "      <td>-0.920128</td>\n",
       "      <td>0.791996</td>\n",
       "      <td>-0.513832</td>\n",
       "      <td>4</td>\n",
       "      <td>3</td>\n",
       "      <td>2</td>\n",
       "    </tr>\n",
       "    <tr>\n",
       "      <th>100706</th>\n",
       "      <td>0.732752</td>\n",
       "      <td>-0.995382</td>\n",
       "      <td>0.323949</td>\n",
       "      <td>-0.402448</td>\n",
       "      <td>-0.111313</td>\n",
       "      <td>-1.143929</td>\n",
       "      <td>0.165254</td>\n",
       "      <td>-0.668090</td>\n",
       "      <td>4</td>\n",
       "      <td>3</td>\n",
       "      <td>2</td>\n",
       "    </tr>\n",
       "    <tr>\n",
       "      <th>100724</th>\n",
       "      <td>-1.457712</td>\n",
       "      <td>-1.220923</td>\n",
       "      <td>-1.502608</td>\n",
       "      <td>-1.723908</td>\n",
       "      <td>-2.966780</td>\n",
       "      <td>0.091731</td>\n",
       "      <td>0.049002</td>\n",
       "      <td>-0.180742</td>\n",
       "      <td>1</td>\n",
       "      <td>4</td>\n",
       "      <td>0</td>\n",
       "    </tr>\n",
       "    <tr>\n",
       "      <th>100751</th>\n",
       "      <td>0.513705</td>\n",
       "      <td>-0.497811</td>\n",
       "      <td>-0.084111</td>\n",
       "      <td>0.640811</td>\n",
       "      <td>0.361588</td>\n",
       "      <td>-0.546345</td>\n",
       "      <td>0.687258</td>\n",
       "      <td>0.166913</td>\n",
       "      <td>4</td>\n",
       "      <td>3</td>\n",
       "      <td>2</td>\n",
       "    </tr>\n",
       "  </tbody>\n",
       "</table>\n",
       "</div>"
      ],
      "text/plain": [
       "        sat_scaled      cost      earn  gradrate      PCA0      PCA1  \\\n",
       "UNITID                                                                 \n",
       "100654   -1.786281 -1.105436 -1.152841 -1.497584 -2.801312  0.091359   \n",
       "100663    0.805767 -1.019907 -0.288142 -0.093461 -0.208124 -0.920128   \n",
       "100706    0.732752 -0.995382  0.323949 -0.402448 -0.111313 -1.143929   \n",
       "100724   -1.457712 -1.220923 -1.502608 -1.723908 -2.966780  0.091731   \n",
       "100751    0.513705 -0.497811 -0.084111  0.640811  0.361588 -0.546345   \n",
       "\n",
       "            PCA2      PCA3  KM_PCA_cluster  KM_cluster  cluster_ordinal  \n",
       "UNITID                                                                   \n",
       "100654 -0.293493  0.206778               1           4                0  \n",
       "100663  0.791996 -0.513832               4           3                2  \n",
       "100706  0.165254 -0.668090               4           3                2  \n",
       "100724  0.049002 -0.180742               1           4                0  \n",
       "100751  0.687258  0.166913               4           3                2  "
      ]
     },
     "execution_count": 52,
     "metadata": {},
     "output_type": "execute_result"
    }
   ],
   "source": [
    "cluster_ord = dfscale.KM_PCA_cluster.map(lambda x: d[x])\n",
    "dfscale['cluster_ordinal'] = cluster_ord\n",
    "dfscale.head()"
   ]
  },
  {
   "cell_type": "code",
   "execution_count": 45,
   "metadata": {
    "collapsed": false
   },
   "outputs": [
    {
     "data": {
      "text/html": [
       "<div>\n",
       "<table border=\"1\" class=\"dataframe\">\n",
       "  <thead>\n",
       "    <tr style=\"text-align: right;\">\n",
       "      <th></th>\n",
       "      <th>sat_scaled</th>\n",
       "      <th>cost</th>\n",
       "      <th>earn</th>\n",
       "      <th>gradrate</th>\n",
       "      <th>PCA0</th>\n",
       "      <th>PCA1</th>\n",
       "      <th>PCA2</th>\n",
       "      <th>PCA3</th>\n",
       "      <th>KM_cluster</th>\n",
       "      <th>cluster_ordinal</th>\n",
       "    </tr>\n",
       "    <tr>\n",
       "      <th>KM_PCA_cluster</th>\n",
       "      <th></th>\n",
       "      <th></th>\n",
       "      <th></th>\n",
       "      <th></th>\n",
       "      <th></th>\n",
       "      <th></th>\n",
       "      <th></th>\n",
       "      <th></th>\n",
       "      <th></th>\n",
       "      <th></th>\n",
       "    </tr>\n",
       "  </thead>\n",
       "  <tbody>\n",
       "    <tr>\n",
       "      <th>1</th>\n",
       "      <td>-0.946604</td>\n",
       "      <td>-1.109394</td>\n",
       "      <td>-0.880801</td>\n",
       "      <td>-1.227363</td>\n",
       "      <td>-1.971373</td>\n",
       "      <td>-0.302375</td>\n",
       "      <td>-0.012209</td>\n",
       "      <td>-0.180742</td>\n",
       "      <td>4</td>\n",
       "      <td>0</td>\n",
       "    </tr>\n",
       "    <tr>\n",
       "      <th>2</th>\n",
       "      <td>-0.618034</td>\n",
       "      <td>0.117886</td>\n",
       "      <td>-0.589329</td>\n",
       "      <td>-0.543259</td>\n",
       "      <td>-0.789297</td>\n",
       "      <td>0.553331</td>\n",
       "      <td>-0.149312</td>\n",
       "      <td>0.005333</td>\n",
       "      <td>1</td>\n",
       "      <td>1</td>\n",
       "    </tr>\n",
       "    <tr>\n",
       "      <th>4</th>\n",
       "      <td>-0.143434</td>\n",
       "      <td>-0.977376</td>\n",
       "      <td>-0.113259</td>\n",
       "      <td>-0.251375</td>\n",
       "      <td>-0.632456</td>\n",
       "      <td>-0.739771</td>\n",
       "      <td>0.202438</td>\n",
       "      <td>0.044472</td>\n",
       "      <td>3</td>\n",
       "      <td>2</td>\n",
       "    </tr>\n",
       "    <tr>\n",
       "      <th>0</th>\n",
       "      <td>0.112120</td>\n",
       "      <td>0.661714</td>\n",
       "      <td>-0.025817</td>\n",
       "      <td>0.356908</td>\n",
       "      <td>0.538715</td>\n",
       "      <td>0.517994</td>\n",
       "      <td>0.040142</td>\n",
       "      <td>0.080429</td>\n",
       "      <td>0</td>\n",
       "      <td>3</td>\n",
       "    </tr>\n",
       "    <tr>\n",
       "      <th>5</th>\n",
       "      <td>0.915290</td>\n",
       "      <td>-0.731850</td>\n",
       "      <td>0.746583</td>\n",
       "      <td>0.964620</td>\n",
       "      <td>0.995156</td>\n",
       "      <td>-1.283422</td>\n",
       "      <td>0.496172</td>\n",
       "      <td>0.237667</td>\n",
       "      <td>5</td>\n",
       "      <td>4</td>\n",
       "    </tr>\n",
       "    <tr>\n",
       "      <th>6</th>\n",
       "      <td>1.024813</td>\n",
       "      <td>1.390181</td>\n",
       "      <td>0.863172</td>\n",
       "      <td>1.239117</td>\n",
       "      <td>2.191726</td>\n",
       "      <td>0.497454</td>\n",
       "      <td>-0.027102</td>\n",
       "      <td>0.004664</td>\n",
       "      <td>6</td>\n",
       "      <td>5</td>\n",
       "    </tr>\n",
       "    <tr>\n",
       "      <th>3</th>\n",
       "      <td>2.448614</td>\n",
       "      <td>1.967460</td>\n",
       "      <td>2.208801</td>\n",
       "      <td>2.059757</td>\n",
       "      <td>4.261555</td>\n",
       "      <td>0.008039</td>\n",
       "      <td>-0.174083</td>\n",
       "      <td>-0.382132</td>\n",
       "      <td>2</td>\n",
       "      <td>6</td>\n",
       "    </tr>\n",
       "  </tbody>\n",
       "</table>\n",
       "</div>"
      ],
      "text/plain": [
       "                sat_scaled      cost      earn  gradrate      PCA0      PCA1  \\\n",
       "KM_PCA_cluster                                                                 \n",
       "1                -0.946604 -1.109394 -0.880801 -1.227363 -1.971373 -0.302375   \n",
       "2                -0.618034  0.117886 -0.589329 -0.543259 -0.789297  0.553331   \n",
       "4                -0.143434 -0.977376 -0.113259 -0.251375 -0.632456 -0.739771   \n",
       "0                 0.112120  0.661714 -0.025817  0.356908  0.538715  0.517994   \n",
       "5                 0.915290 -0.731850  0.746583  0.964620  0.995156 -1.283422   \n",
       "6                 1.024813  1.390181  0.863172  1.239117  2.191726  0.497454   \n",
       "3                 2.448614  1.967460  2.208801  2.059757  4.261555  0.008039   \n",
       "\n",
       "                    PCA2      PCA3  KM_cluster  cluster_ordinal  \n",
       "KM_PCA_cluster                                                   \n",
       "1              -0.012209 -0.180742           4                0  \n",
       "2              -0.149312  0.005333           1                1  \n",
       "4               0.202438  0.044472           3                2  \n",
       "0               0.040142  0.080429           0                3  \n",
       "5               0.496172  0.237667           5                4  \n",
       "6              -0.027102  0.004664           6                5  \n",
       "3              -0.174083 -0.382132           2                6  "
      ]
     },
     "execution_count": 45,
     "metadata": {},
     "output_type": "execute_result"
    }
   ],
   "source": [
    "groups = dfscale.groupby('KM_PCA_cluster')\n",
    "groups.median().sort_values(by='sat_scaled')"
   ]
  },
  {
   "cell_type": "markdown",
   "metadata": {},
   "source": [
    "#### Side lesson:  What's a lambda function??"
   ]
  },
  {
   "cell_type": "code",
   "execution_count": 54,
   "metadata": {
    "collapsed": true
   },
   "outputs": [],
   "source": [
    "def add_three(x):\n",
    "    return x + 3"
   ]
  },
  {
   "cell_type": "code",
   "execution_count": 55,
   "metadata": {
    "collapsed": false
   },
   "outputs": [
    {
     "data": {
      "text/plain": [
       "13"
      ]
     },
     "execution_count": 55,
     "metadata": {},
     "output_type": "execute_result"
    }
   ],
   "source": [
    "add_three(10)"
   ]
  },
  {
   "cell_type": "code",
   "execution_count": 56,
   "metadata": {
    "collapsed": true
   },
   "outputs": [],
   "source": [
    "def foo(some_fun):\n",
    "    print \"you passed\", some_fun\n",
    "    print \"I will now put 10 in that function\"\n",
    "    print some_fun(10)"
   ]
  },
  {
   "cell_type": "code",
   "execution_count": 57,
   "metadata": {
    "collapsed": false
   },
   "outputs": [
    {
     "name": "stdout",
     "output_type": "stream",
     "text": [
      "you passed <function add_three at 0x000000000ED27048>\n",
      "I will now put 10 in that function\n",
      "13\n"
     ]
    }
   ],
   "source": [
    "foo(add_three)"
   ]
  },
  {
   "cell_type": "code",
   "execution_count": 58,
   "metadata": {
    "collapsed": false
   },
   "outputs": [
    {
     "name": "stdout",
     "output_type": "stream",
     "text": [
      "you passed <function <lambda> at 0x000000000ED80C18>\n",
      "I will now put 10 in that function\n",
      "13\n"
     ]
    }
   ],
   "source": [
    "foo(lambda x: x + 3)"
   ]
  },
  {
   "cell_type": "code",
   "execution_count": 59,
   "metadata": {
    "collapsed": false
   },
   "outputs": [
    {
     "name": "stdout",
     "output_type": "stream",
     "text": [
      "you passed <function <lambda> at 0x000000000ED80C18>\n",
      "I will now put 10 in that function\n",
      "20\n"
     ]
    }
   ],
   "source": [
    "foo(lambda x: 2*x)"
   ]
  },
  {
   "cell_type": "markdown",
   "metadata": {},
   "source": [
    "#### *end of side lesson on lambda functions*"
   ]
  },
  {
   "cell_type": "markdown",
   "metadata": {
    "collapsed": true
   },
   "source": [
    "Design decision: let's work with unscaled cost and SAT scores.  This way we do not have to scale incoming data.  Since we've retained the school IDs, we simply need to bring our cluster labels back to the raw dataframe.  Let's see how this would work in the notebook, then code up the prototype as a python command-line program."
   ]
  },
  {
   "cell_type": "code",
   "execution_count": 62,
   "metadata": {
    "collapsed": false
   },
   "outputs": [
    {
     "data": {
      "text/html": [
       "<div>\n",
       "<table border=\"1\" class=\"dataframe\">\n",
       "  <thead>\n",
       "    <tr style=\"text-align: right;\">\n",
       "      <th></th>\n",
       "      <th>INSTNM</th>\n",
       "      <th>type</th>\n",
       "      <th>AvgYrCostAcademic</th>\n",
       "      <th>AvgYrCostProgram</th>\n",
       "      <th>medEarn10yrs</th>\n",
       "      <th>medEarn6yrs</th>\n",
       "      <th>Year</th>\n",
       "      <th>NumStudents</th>\n",
       "      <th>Math</th>\n",
       "      <th>Verbal</th>\n",
       "      <th>Writing</th>\n",
       "      <th>State</th>\n",
       "      <th>DebtAtGrad</th>\n",
       "      <th>completionRate</th>\n",
       "      <th>sat</th>\n",
       "      <th>earn10</th>\n",
       "    </tr>\n",
       "    <tr>\n",
       "      <th>UNITID</th>\n",
       "      <th></th>\n",
       "      <th></th>\n",
       "      <th></th>\n",
       "      <th></th>\n",
       "      <th></th>\n",
       "      <th></th>\n",
       "      <th></th>\n",
       "      <th></th>\n",
       "      <th></th>\n",
       "      <th></th>\n",
       "      <th></th>\n",
       "      <th></th>\n",
       "      <th></th>\n",
       "      <th></th>\n",
       "      <th></th>\n",
       "      <th></th>\n",
       "    </tr>\n",
       "  </thead>\n",
       "  <tbody>\n",
       "    <tr>\n",
       "      <th>100654</th>\n",
       "      <td>Alabama A &amp; M University</td>\n",
       "      <td>Public</td>\n",
       "      <td>18888.0</td>\n",
       "      <td>NaN</td>\n",
       "      <td>None</td>\n",
       "      <td>None</td>\n",
       "      <td>2013</td>\n",
       "      <td>4051.0</td>\n",
       "      <td>400.0</td>\n",
       "      <td>410.0</td>\n",
       "      <td>NaN</td>\n",
       "      <td>AL</td>\n",
       "      <td>33611.5</td>\n",
       "      <td>0.2914</td>\n",
       "      <td>810.0</td>\n",
       "      <td>31400.0</td>\n",
       "    </tr>\n",
       "    <tr>\n",
       "      <th>100663</th>\n",
       "      <td>University of Alabama at Birmingham</td>\n",
       "      <td>Public</td>\n",
       "      <td>19990.0</td>\n",
       "      <td>NaN</td>\n",
       "      <td>None</td>\n",
       "      <td>None</td>\n",
       "      <td>2013</td>\n",
       "      <td>11200.0</td>\n",
       "      <td>585.0</td>\n",
       "      <td>580.0</td>\n",
       "      <td>NaN</td>\n",
       "      <td>AL</td>\n",
       "      <td>23117</td>\n",
       "      <td>0.5377</td>\n",
       "      <td>1165.0</td>\n",
       "      <td>40300.0</td>\n",
       "    </tr>\n",
       "    <tr>\n",
       "      <th>100690</th>\n",
       "      <td>Amridge University</td>\n",
       "      <td>Private nonprofit</td>\n",
       "      <td>12300.0</td>\n",
       "      <td>NaN</td>\n",
       "      <td>None</td>\n",
       "      <td>None</td>\n",
       "      <td>2013</td>\n",
       "      <td>322.0</td>\n",
       "      <td>NaN</td>\n",
       "      <td>NaN</td>\n",
       "      <td>NaN</td>\n",
       "      <td>AL</td>\n",
       "      <td>26995</td>\n",
       "      <td>0.6667</td>\n",
       "      <td>NaN</td>\n",
       "      <td>38100.0</td>\n",
       "    </tr>\n",
       "    <tr>\n",
       "      <th>100706</th>\n",
       "      <td>University of Alabama in Huntsville</td>\n",
       "      <td>Public</td>\n",
       "      <td>20306.0</td>\n",
       "      <td>NaN</td>\n",
       "      <td>None</td>\n",
       "      <td>None</td>\n",
       "      <td>2013</td>\n",
       "      <td>5525.0</td>\n",
       "      <td>580.0</td>\n",
       "      <td>575.0</td>\n",
       "      <td>NaN</td>\n",
       "      <td>AL</td>\n",
       "      <td>24738</td>\n",
       "      <td>0.4835</td>\n",
       "      <td>1155.0</td>\n",
       "      <td>46600.0</td>\n",
       "    </tr>\n",
       "    <tr>\n",
       "      <th>100724</th>\n",
       "      <td>Alabama State University</td>\n",
       "      <td>Public</td>\n",
       "      <td>17400.0</td>\n",
       "      <td>NaN</td>\n",
       "      <td>None</td>\n",
       "      <td>None</td>\n",
       "      <td>2013</td>\n",
       "      <td>5354.0</td>\n",
       "      <td>425.0</td>\n",
       "      <td>430.0</td>\n",
       "      <td>NaN</td>\n",
       "      <td>AL</td>\n",
       "      <td>33452</td>\n",
       "      <td>0.2517</td>\n",
       "      <td>855.0</td>\n",
       "      <td>27800.0</td>\n",
       "    </tr>\n",
       "  </tbody>\n",
       "</table>\n",
       "</div>"
      ],
      "text/plain": [
       "                                     INSTNM               type  \\\n",
       "UNITID                                                           \n",
       "100654             Alabama A & M University             Public   \n",
       "100663  University of Alabama at Birmingham             Public   \n",
       "100690                   Amridge University  Private nonprofit   \n",
       "100706  University of Alabama in Huntsville             Public   \n",
       "100724             Alabama State University             Public   \n",
       "\n",
       "        AvgYrCostAcademic  AvgYrCostProgram medEarn10yrs medEarn6yrs  Year  \\\n",
       "UNITID                                                                       \n",
       "100654            18888.0               NaN         None        None  2013   \n",
       "100663            19990.0               NaN         None        None  2013   \n",
       "100690            12300.0               NaN         None        None  2013   \n",
       "100706            20306.0               NaN         None        None  2013   \n",
       "100724            17400.0               NaN         None        None  2013   \n",
       "\n",
       "        NumStudents   Math  Verbal  Writing State DebtAtGrad  completionRate  \\\n",
       "UNITID                                                                         \n",
       "100654       4051.0  400.0   410.0      NaN    AL    33611.5          0.2914   \n",
       "100663      11200.0  585.0   580.0      NaN    AL      23117          0.5377   \n",
       "100690        322.0    NaN     NaN      NaN    AL      26995          0.6667   \n",
       "100706       5525.0  580.0   575.0      NaN    AL      24738          0.4835   \n",
       "100724       5354.0  425.0   430.0      NaN    AL      33452          0.2517   \n",
       "\n",
       "           sat   earn10  \n",
       "UNITID                   \n",
       "100654   810.0  31400.0  \n",
       "100663  1165.0  40300.0  \n",
       "100690     NaN  38100.0  \n",
       "100706  1155.0  46600.0  \n",
       "100724   855.0  27800.0  "
      ]
     },
     "execution_count": 62,
     "metadata": {},
     "output_type": "execute_result"
    }
   ],
   "source": [
    "df_joined.head()"
   ]
  },
  {
   "cell_type": "code",
   "execution_count": 63,
   "metadata": {
    "collapsed": false,
    "scrolled": true
   },
   "outputs": [
    {
     "data": {
      "text/html": [
       "<div>\n",
       "<table border=\"1\" class=\"dataframe\">\n",
       "  <thead>\n",
       "    <tr style=\"text-align: right;\">\n",
       "      <th></th>\n",
       "      <th>sat_scaled</th>\n",
       "      <th>cost</th>\n",
       "      <th>earn</th>\n",
       "      <th>gradrate</th>\n",
       "      <th>PCA0</th>\n",
       "      <th>PCA1</th>\n",
       "      <th>PCA2</th>\n",
       "      <th>PCA3</th>\n",
       "      <th>KM_PCA_cluster</th>\n",
       "      <th>KM_cluster</th>\n",
       "      <th>cluster_ordinal</th>\n",
       "    </tr>\n",
       "    <tr>\n",
       "      <th>UNITID</th>\n",
       "      <th></th>\n",
       "      <th></th>\n",
       "      <th></th>\n",
       "      <th></th>\n",
       "      <th></th>\n",
       "      <th></th>\n",
       "      <th></th>\n",
       "      <th></th>\n",
       "      <th></th>\n",
       "      <th></th>\n",
       "      <th></th>\n",
       "    </tr>\n",
       "  </thead>\n",
       "  <tbody>\n",
       "    <tr>\n",
       "      <th>100654</th>\n",
       "      <td>-1.786281</td>\n",
       "      <td>-1.105436</td>\n",
       "      <td>-1.152841</td>\n",
       "      <td>-1.497584</td>\n",
       "      <td>-2.801312</td>\n",
       "      <td>0.091359</td>\n",
       "      <td>-0.293493</td>\n",
       "      <td>0.206778</td>\n",
       "      <td>1</td>\n",
       "      <td>4</td>\n",
       "      <td>0</td>\n",
       "    </tr>\n",
       "    <tr>\n",
       "      <th>100663</th>\n",
       "      <td>0.805767</td>\n",
       "      <td>-1.019907</td>\n",
       "      <td>-0.288142</td>\n",
       "      <td>-0.093461</td>\n",
       "      <td>-0.208124</td>\n",
       "      <td>-0.920128</td>\n",
       "      <td>0.791996</td>\n",
       "      <td>-0.513832</td>\n",
       "      <td>4</td>\n",
       "      <td>3</td>\n",
       "      <td>2</td>\n",
       "    </tr>\n",
       "    <tr>\n",
       "      <th>100706</th>\n",
       "      <td>0.732752</td>\n",
       "      <td>-0.995382</td>\n",
       "      <td>0.323949</td>\n",
       "      <td>-0.402448</td>\n",
       "      <td>-0.111313</td>\n",
       "      <td>-1.143929</td>\n",
       "      <td>0.165254</td>\n",
       "      <td>-0.668090</td>\n",
       "      <td>4</td>\n",
       "      <td>3</td>\n",
       "      <td>2</td>\n",
       "    </tr>\n",
       "    <tr>\n",
       "      <th>100724</th>\n",
       "      <td>-1.457712</td>\n",
       "      <td>-1.220923</td>\n",
       "      <td>-1.502608</td>\n",
       "      <td>-1.723908</td>\n",
       "      <td>-2.966780</td>\n",
       "      <td>0.091731</td>\n",
       "      <td>0.049002</td>\n",
       "      <td>-0.180742</td>\n",
       "      <td>1</td>\n",
       "      <td>4</td>\n",
       "      <td>0</td>\n",
       "    </tr>\n",
       "    <tr>\n",
       "      <th>100751</th>\n",
       "      <td>0.513705</td>\n",
       "      <td>-0.497811</td>\n",
       "      <td>-0.084111</td>\n",
       "      <td>0.640811</td>\n",
       "      <td>0.361588</td>\n",
       "      <td>-0.546345</td>\n",
       "      <td>0.687258</td>\n",
       "      <td>0.166913</td>\n",
       "      <td>4</td>\n",
       "      <td>3</td>\n",
       "      <td>2</td>\n",
       "    </tr>\n",
       "  </tbody>\n",
       "</table>\n",
       "</div>"
      ],
      "text/plain": [
       "        sat_scaled      cost      earn  gradrate      PCA0      PCA1  \\\n",
       "UNITID                                                                 \n",
       "100654   -1.786281 -1.105436 -1.152841 -1.497584 -2.801312  0.091359   \n",
       "100663    0.805767 -1.019907 -0.288142 -0.093461 -0.208124 -0.920128   \n",
       "100706    0.732752 -0.995382  0.323949 -0.402448 -0.111313 -1.143929   \n",
       "100724   -1.457712 -1.220923 -1.502608 -1.723908 -2.966780  0.091731   \n",
       "100751    0.513705 -0.497811 -0.084111  0.640811  0.361588 -0.546345   \n",
       "\n",
       "            PCA2      PCA3  KM_PCA_cluster  KM_cluster  cluster_ordinal  \n",
       "UNITID                                                                   \n",
       "100654 -0.293493  0.206778               1           4                0  \n",
       "100663  0.791996 -0.513832               4           3                2  \n",
       "100706  0.165254 -0.668090               4           3                2  \n",
       "100724  0.049002 -0.180742               1           4                0  \n",
       "100751  0.687258  0.166913               4           3                2  "
      ]
     },
     "execution_count": 63,
     "metadata": {},
     "output_type": "execute_result"
    }
   ],
   "source": [
    "dfscale.head()"
   ]
  },
  {
   "cell_type": "code",
   "execution_count": 64,
   "metadata": {
    "collapsed": false
   },
   "outputs": [
    {
     "data": {
      "text/html": [
       "<div>\n",
       "<table border=\"1\" class=\"dataframe\">\n",
       "  <thead>\n",
       "    <tr style=\"text-align: right;\">\n",
       "      <th></th>\n",
       "      <th>sat_scaled</th>\n",
       "      <th>cost</th>\n",
       "      <th>earn</th>\n",
       "      <th>gradrate</th>\n",
       "      <th>PCA0</th>\n",
       "      <th>PCA1</th>\n",
       "      <th>PCA2</th>\n",
       "      <th>PCA3</th>\n",
       "      <th>KM_PCA_cluster</th>\n",
       "      <th>KM_cluster</th>\n",
       "      <th>...</th>\n",
       "      <th>Year</th>\n",
       "      <th>NumStudents</th>\n",
       "      <th>Math</th>\n",
       "      <th>Verbal</th>\n",
       "      <th>Writing</th>\n",
       "      <th>State</th>\n",
       "      <th>DebtAtGrad</th>\n",
       "      <th>completionRate</th>\n",
       "      <th>sat</th>\n",
       "      <th>earn10</th>\n",
       "    </tr>\n",
       "    <tr>\n",
       "      <th>UNITID</th>\n",
       "      <th></th>\n",
       "      <th></th>\n",
       "      <th></th>\n",
       "      <th></th>\n",
       "      <th></th>\n",
       "      <th></th>\n",
       "      <th></th>\n",
       "      <th></th>\n",
       "      <th></th>\n",
       "      <th></th>\n",
       "      <th></th>\n",
       "      <th></th>\n",
       "      <th></th>\n",
       "      <th></th>\n",
       "      <th></th>\n",
       "      <th></th>\n",
       "      <th></th>\n",
       "      <th></th>\n",
       "      <th></th>\n",
       "      <th></th>\n",
       "      <th></th>\n",
       "    </tr>\n",
       "  </thead>\n",
       "  <tbody>\n",
       "    <tr>\n",
       "      <th>100654</th>\n",
       "      <td>-1.786281</td>\n",
       "      <td>-1.105436</td>\n",
       "      <td>-1.152841</td>\n",
       "      <td>-1.497584</td>\n",
       "      <td>-2.801312</td>\n",
       "      <td>0.091359</td>\n",
       "      <td>-0.293493</td>\n",
       "      <td>0.206778</td>\n",
       "      <td>1</td>\n",
       "      <td>4</td>\n",
       "      <td>...</td>\n",
       "      <td>2013</td>\n",
       "      <td>4051.0</td>\n",
       "      <td>400.0</td>\n",
       "      <td>410.0</td>\n",
       "      <td>NaN</td>\n",
       "      <td>AL</td>\n",
       "      <td>33611.5</td>\n",
       "      <td>0.2914</td>\n",
       "      <td>810.0</td>\n",
       "      <td>31400.0</td>\n",
       "    </tr>\n",
       "    <tr>\n",
       "      <th>100663</th>\n",
       "      <td>0.805767</td>\n",
       "      <td>-1.019907</td>\n",
       "      <td>-0.288142</td>\n",
       "      <td>-0.093461</td>\n",
       "      <td>-0.208124</td>\n",
       "      <td>-0.920128</td>\n",
       "      <td>0.791996</td>\n",
       "      <td>-0.513832</td>\n",
       "      <td>4</td>\n",
       "      <td>3</td>\n",
       "      <td>...</td>\n",
       "      <td>2013</td>\n",
       "      <td>11200.0</td>\n",
       "      <td>585.0</td>\n",
       "      <td>580.0</td>\n",
       "      <td>NaN</td>\n",
       "      <td>AL</td>\n",
       "      <td>23117</td>\n",
       "      <td>0.5377</td>\n",
       "      <td>1165.0</td>\n",
       "      <td>40300.0</td>\n",
       "    </tr>\n",
       "    <tr>\n",
       "      <th>100706</th>\n",
       "      <td>0.732752</td>\n",
       "      <td>-0.995382</td>\n",
       "      <td>0.323949</td>\n",
       "      <td>-0.402448</td>\n",
       "      <td>-0.111313</td>\n",
       "      <td>-1.143929</td>\n",
       "      <td>0.165254</td>\n",
       "      <td>-0.668090</td>\n",
       "      <td>4</td>\n",
       "      <td>3</td>\n",
       "      <td>...</td>\n",
       "      <td>2013</td>\n",
       "      <td>5525.0</td>\n",
       "      <td>580.0</td>\n",
       "      <td>575.0</td>\n",
       "      <td>NaN</td>\n",
       "      <td>AL</td>\n",
       "      <td>24738</td>\n",
       "      <td>0.4835</td>\n",
       "      <td>1155.0</td>\n",
       "      <td>46600.0</td>\n",
       "    </tr>\n",
       "    <tr>\n",
       "      <th>100724</th>\n",
       "      <td>-1.457712</td>\n",
       "      <td>-1.220923</td>\n",
       "      <td>-1.502608</td>\n",
       "      <td>-1.723908</td>\n",
       "      <td>-2.966780</td>\n",
       "      <td>0.091731</td>\n",
       "      <td>0.049002</td>\n",
       "      <td>-0.180742</td>\n",
       "      <td>1</td>\n",
       "      <td>4</td>\n",
       "      <td>...</td>\n",
       "      <td>2013</td>\n",
       "      <td>5354.0</td>\n",
       "      <td>425.0</td>\n",
       "      <td>430.0</td>\n",
       "      <td>NaN</td>\n",
       "      <td>AL</td>\n",
       "      <td>33452</td>\n",
       "      <td>0.2517</td>\n",
       "      <td>855.0</td>\n",
       "      <td>27800.0</td>\n",
       "    </tr>\n",
       "    <tr>\n",
       "      <th>100751</th>\n",
       "      <td>0.513705</td>\n",
       "      <td>-0.497811</td>\n",
       "      <td>-0.084111</td>\n",
       "      <td>0.640811</td>\n",
       "      <td>0.361588</td>\n",
       "      <td>-0.546345</td>\n",
       "      <td>0.687258</td>\n",
       "      <td>0.166913</td>\n",
       "      <td>4</td>\n",
       "      <td>3</td>\n",
       "      <td>...</td>\n",
       "      <td>2013</td>\n",
       "      <td>28692.0</td>\n",
       "      <td>570.0</td>\n",
       "      <td>555.0</td>\n",
       "      <td>540.0</td>\n",
       "      <td>AL</td>\n",
       "      <td>24000</td>\n",
       "      <td>0.6665</td>\n",
       "      <td>1125.0</td>\n",
       "      <td>42400.0</td>\n",
       "    </tr>\n",
       "  </tbody>\n",
       "</table>\n",
       "<p>5 rows × 27 columns</p>\n",
       "</div>"
      ],
      "text/plain": [
       "        sat_scaled      cost      earn  gradrate      PCA0      PCA1  \\\n",
       "UNITID                                                                 \n",
       "100654   -1.786281 -1.105436 -1.152841 -1.497584 -2.801312  0.091359   \n",
       "100663    0.805767 -1.019907 -0.288142 -0.093461 -0.208124 -0.920128   \n",
       "100706    0.732752 -0.995382  0.323949 -0.402448 -0.111313 -1.143929   \n",
       "100724   -1.457712 -1.220923 -1.502608 -1.723908 -2.966780  0.091731   \n",
       "100751    0.513705 -0.497811 -0.084111  0.640811  0.361588 -0.546345   \n",
       "\n",
       "            PCA2      PCA3  KM_PCA_cluster  KM_cluster   ...     Year  \\\n",
       "UNITID                                                   ...            \n",
       "100654 -0.293493  0.206778               1           4   ...     2013   \n",
       "100663  0.791996 -0.513832               4           3   ...     2013   \n",
       "100706  0.165254 -0.668090               4           3   ...     2013   \n",
       "100724  0.049002 -0.180742               1           4   ...     2013   \n",
       "100751  0.687258  0.166913               4           3   ...     2013   \n",
       "\n",
       "       NumStudents   Math  Verbal  Writing State DebtAtGrad  completionRate  \\\n",
       "UNITID                                                                        \n",
       "100654      4051.0  400.0   410.0      NaN    AL    33611.5          0.2914   \n",
       "100663     11200.0  585.0   580.0      NaN    AL      23117          0.5377   \n",
       "100706      5525.0  580.0   575.0      NaN    AL      24738          0.4835   \n",
       "100724      5354.0  425.0   430.0      NaN    AL      33452          0.2517   \n",
       "100751     28692.0  570.0   555.0    540.0    AL      24000          0.6665   \n",
       "\n",
       "           sat   earn10  \n",
       "UNITID                   \n",
       "100654   810.0  31400.0  \n",
       "100663  1165.0  40300.0  \n",
       "100706  1155.0  46600.0  \n",
       "100724   855.0  27800.0  \n",
       "100751  1125.0  42400.0  \n",
       "\n",
       "[5 rows x 27 columns]"
      ]
     },
     "execution_count": 64,
     "metadata": {},
     "output_type": "execute_result"
    }
   ],
   "source": [
    "df_out = pandas.concat([dfscale, df_joined], axis=1, join='inner')\n",
    "df_out.head()"
   ]
  },
  {
   "cell_type": "code",
   "execution_count": 65,
   "metadata": {
    "collapsed": false
   },
   "outputs": [
    {
     "data": {
      "text/plain": [
       "Index([u'sat_scaled', u'cost', u'earn', u'gradrate', u'PCA0', u'PCA1', u'PCA2',\n",
       "       u'PCA3', u'KM_PCA_cluster', u'KM_cluster', u'cluster_ordinal',\n",
       "       u'INSTNM', u'type', u'AvgYrCostAcademic', u'AvgYrCostProgram',\n",
       "       u'medEarn10yrs', u'medEarn6yrs', u'Year', u'NumStudents', u'Math',\n",
       "       u'Verbal', u'Writing', u'State', u'DebtAtGrad', u'completionRate',\n",
       "       u'sat', u'earn10'],\n",
       "      dtype='object')"
      ]
     },
     "execution_count": 65,
     "metadata": {},
     "output_type": "execute_result"
    }
   ],
   "source": [
    "df_out.columns"
   ]
  },
  {
   "cell_type": "code",
   "execution_count": 66,
   "metadata": {
    "collapsed": false
   },
   "outputs": [
    {
     "data": {
      "text/html": [
       "<div>\n",
       "<table border=\"1\" class=\"dataframe\">\n",
       "  <thead>\n",
       "    <tr style=\"text-align: right;\">\n",
       "      <th></th>\n",
       "      <th>sat</th>\n",
       "      <th>AvgYrCostAcademic</th>\n",
       "      <th>earn10</th>\n",
       "      <th>completionRate</th>\n",
       "    </tr>\n",
       "    <tr>\n",
       "      <th>cluster_ordinal</th>\n",
       "      <th></th>\n",
       "      <th></th>\n",
       "      <th></th>\n",
       "      <th></th>\n",
       "    </tr>\n",
       "  </thead>\n",
       "  <tbody>\n",
       "    <tr>\n",
       "      <th>0</th>\n",
       "      <td>925.0</td>\n",
       "      <td>18837.0</td>\n",
       "      <td>34200.0</td>\n",
       "      <td>0.33880</td>\n",
       "    </tr>\n",
       "    <tr>\n",
       "      <th>1</th>\n",
       "      <td>970.0</td>\n",
       "      <td>34650.0</td>\n",
       "      <td>37200.0</td>\n",
       "      <td>0.45880</td>\n",
       "    </tr>\n",
       "    <tr>\n",
       "      <th>2</th>\n",
       "      <td>1035.0</td>\n",
       "      <td>20538.0</td>\n",
       "      <td>42100.0</td>\n",
       "      <td>0.51000</td>\n",
       "    </tr>\n",
       "    <tr>\n",
       "      <th>3</th>\n",
       "      <td>1070.0</td>\n",
       "      <td>41657.0</td>\n",
       "      <td>43000.0</td>\n",
       "      <td>0.61670</td>\n",
       "    </tr>\n",
       "    <tr>\n",
       "      <th>4</th>\n",
       "      <td>1180.0</td>\n",
       "      <td>23701.5</td>\n",
       "      <td>50950.0</td>\n",
       "      <td>0.72330</td>\n",
       "    </tr>\n",
       "    <tr>\n",
       "      <th>5</th>\n",
       "      <td>1195.0</td>\n",
       "      <td>51043.0</td>\n",
       "      <td>52150.0</td>\n",
       "      <td>0.77145</td>\n",
       "    </tr>\n",
       "    <tr>\n",
       "      <th>6</th>\n",
       "      <td>1390.0</td>\n",
       "      <td>58481.0</td>\n",
       "      <td>66000.0</td>\n",
       "      <td>0.91540</td>\n",
       "    </tr>\n",
       "  </tbody>\n",
       "</table>\n",
       "</div>"
      ],
      "text/plain": [
       "                    sat  AvgYrCostAcademic   earn10  completionRate\n",
       "cluster_ordinal                                                    \n",
       "0                 925.0            18837.0  34200.0         0.33880\n",
       "1                 970.0            34650.0  37200.0         0.45880\n",
       "2                1035.0            20538.0  42100.0         0.51000\n",
       "3                1070.0            41657.0  43000.0         0.61670\n",
       "4                1180.0            23701.5  50950.0         0.72330\n",
       "5                1195.0            51043.0  52150.0         0.77145\n",
       "6                1390.0            58481.0  66000.0         0.91540"
      ]
     },
     "execution_count": 66,
     "metadata": {},
     "output_type": "execute_result"
    }
   ],
   "source": [
    "out_groups = df_out[['cluster_ordinal','sat','AvgYrCostAcademic','earn10', 'completionRate']].groupby('cluster_ordinal')\n",
    "df_cluster_lookup = out_groups.median()\n",
    "df_cluster_lookup"
   ]
  },
  {
   "cell_type": "markdown",
   "metadata": {},
   "source": [
    "There is a handy pandas function for our purposes called 'argsort'.  We can use it to return the closest clusters to our query SAT score, in order."
   ]
  },
  {
   "cell_type": "code",
   "execution_count": 67,
   "metadata": {
    "collapsed": false
   },
   "outputs": [
    {
     "data": {
      "text/plain": [
       "cluster_ordinal\n",
       "0    175.0\n",
       "1    130.0\n",
       "2     65.0\n",
       "3     30.0\n",
       "4     80.0\n",
       "5     95.0\n",
       "6    290.0\n",
       "Name: sat, dtype: float64"
      ]
     },
     "execution_count": 67,
     "metadata": {},
     "output_type": "execute_result"
    }
   ],
   "source": [
    "query_sat = 1100\n",
    "(df_cluster_lookup.sat - query_sat).abs()"
   ]
  },
  {
   "cell_type": "code",
   "execution_count": 68,
   "metadata": {
    "collapsed": false
   },
   "outputs": [
    {
     "data": {
      "text/plain": [
       "cluster_ordinal\n",
       "0    3\n",
       "1    2\n",
       "2    4\n",
       "3    5\n",
       "4    1\n",
       "5    0\n",
       "6    6\n",
       "Name: sat, dtype: int64"
      ]
     },
     "execution_count": 68,
     "metadata": {},
     "output_type": "execute_result"
    }
   ],
   "source": [
    "(df_cluster_lookup.sat - query_sat).abs().argsort()"
   ]
  },
  {
   "cell_type": "code",
   "execution_count": 69,
   "metadata": {
    "collapsed": false
   },
   "outputs": [
    {
     "data": {
      "text/plain": [
       "3"
      ]
     },
     "execution_count": 69,
     "metadata": {},
     "output_type": "execute_result"
    }
   ],
   "source": [
    "(df_cluster_lookup.sat - query_sat).abs().argsort()[0]"
   ]
  },
  {
   "cell_type": "code",
   "execution_count": 72,
   "metadata": {
    "collapsed": false
   },
   "outputs": [
    {
     "data": {
      "text/html": [
       "<div>\n",
       "<table border=\"1\" class=\"dataframe\">\n",
       "  <thead>\n",
       "    <tr style=\"text-align: right;\">\n",
       "      <th></th>\n",
       "      <th>sat</th>\n",
       "      <th>AvgYrCostAcademic</th>\n",
       "      <th>earn10</th>\n",
       "      <th>completionRate</th>\n",
       "    </tr>\n",
       "    <tr>\n",
       "      <th>cluster_ordinal</th>\n",
       "      <th></th>\n",
       "      <th></th>\n",
       "      <th></th>\n",
       "      <th></th>\n",
       "    </tr>\n",
       "  </thead>\n",
       "  <tbody>\n",
       "    <tr>\n",
       "      <th>3</th>\n",
       "      <td>1070.0</td>\n",
       "      <td>41657.0</td>\n",
       "      <td>43000.0</td>\n",
       "      <td>0.6167</td>\n",
       "    </tr>\n",
       "  </tbody>\n",
       "</table>\n",
       "</div>"
      ],
      "text/plain": [
       "                    sat  AvgYrCostAcademic   earn10  completionRate\n",
       "cluster_ordinal                                                    \n",
       "3                1070.0            41657.0  43000.0          0.6167"
      ]
     },
     "execution_count": 72,
     "metadata": {},
     "output_type": "execute_result"
    }
   ],
   "source": [
    "\n",
    "df_cluster_lookup.iloc[(df_cluster_lookup.sat - query_sat).abs().argsort()[:1]]"
   ]
  },
  {
   "cell_type": "markdown",
   "metadata": {},
   "source": [
    "I still like having ordinal labels for the clusters-- it clearly validates our argsort technique.  Now, let's get to picking out some schools, given a cluster and a budget. "
   ]
  },
  {
   "cell_type": "code",
   "execution_count": 73,
   "metadata": {
    "collapsed": false
   },
   "outputs": [
    {
     "data": {
      "text/html": [
       "<div>\n",
       "<table border=\"1\" class=\"dataframe\">\n",
       "  <thead>\n",
       "    <tr style=\"text-align: right;\">\n",
       "      <th></th>\n",
       "      <th>sat_scaled</th>\n",
       "      <th>cost</th>\n",
       "      <th>earn</th>\n",
       "      <th>gradrate</th>\n",
       "      <th>PCA0</th>\n",
       "      <th>PCA1</th>\n",
       "      <th>PCA2</th>\n",
       "      <th>PCA3</th>\n",
       "      <th>KM_PCA_cluster</th>\n",
       "      <th>KM_cluster</th>\n",
       "      <th>...</th>\n",
       "      <th>Year</th>\n",
       "      <th>NumStudents</th>\n",
       "      <th>Math</th>\n",
       "      <th>Verbal</th>\n",
       "      <th>Writing</th>\n",
       "      <th>State</th>\n",
       "      <th>DebtAtGrad</th>\n",
       "      <th>completionRate</th>\n",
       "      <th>sat</th>\n",
       "      <th>earn10</th>\n",
       "    </tr>\n",
       "    <tr>\n",
       "      <th>UNITID</th>\n",
       "      <th></th>\n",
       "      <th></th>\n",
       "      <th></th>\n",
       "      <th></th>\n",
       "      <th></th>\n",
       "      <th></th>\n",
       "      <th></th>\n",
       "      <th></th>\n",
       "      <th></th>\n",
       "      <th></th>\n",
       "      <th></th>\n",
       "      <th></th>\n",
       "      <th></th>\n",
       "      <th></th>\n",
       "      <th></th>\n",
       "      <th></th>\n",
       "      <th></th>\n",
       "      <th></th>\n",
       "      <th></th>\n",
       "      <th></th>\n",
       "      <th></th>\n",
       "    </tr>\n",
       "  </thead>\n",
       "  <tbody>\n",
       "    <tr>\n",
       "      <th>230807</th>\n",
       "      <td>0.404182</td>\n",
       "      <td>0.377110</td>\n",
       "      <td>0.217076</td>\n",
       "      <td>0.098659</td>\n",
       "      <td>0.538715</td>\n",
       "      <td>0.123264</td>\n",
       "      <td>-0.033647</td>\n",
       "      <td>-0.236412</td>\n",
       "      <td>0</td>\n",
       "      <td>0</td>\n",
       "      <td>...</td>\n",
       "      <td>2013</td>\n",
       "      <td>2260.0</td>\n",
       "      <td>555.0</td>\n",
       "      <td>555.0</td>\n",
       "      <td>NaN</td>\n",
       "      <td>UT</td>\n",
       "      <td>24500</td>\n",
       "      <td>0.5714</td>\n",
       "      <td>1110.0</td>\n",
       "      <td>45500.0</td>\n",
       "    </tr>\n",
       "    <tr>\n",
       "      <th>191676</th>\n",
       "      <td>0.389579</td>\n",
       "      <td>0.405206</td>\n",
       "      <td>-0.395015</td>\n",
       "      <td>1.051844</td>\n",
       "      <td>0.767490</td>\n",
       "      <td>0.371516</td>\n",
       "      <td>0.811860</td>\n",
       "      <td>0.438400</td>\n",
       "      <td>0</td>\n",
       "      <td>0</td>\n",
       "      <td>...</td>\n",
       "      <td>2013</td>\n",
       "      <td>1047.0</td>\n",
       "      <td>548.0</td>\n",
       "      <td>560.0</td>\n",
       "      <td>535.0</td>\n",
       "      <td>NY</td>\n",
       "      <td>23500</td>\n",
       "      <td>0.7386</td>\n",
       "      <td>1108.0</td>\n",
       "      <td>39200.0</td>\n",
       "    </tr>\n",
       "    <tr>\n",
       "      <th>239512</th>\n",
       "      <td>0.374976</td>\n",
       "      <td>0.465045</td>\n",
       "      <td>-1.104263</td>\n",
       "      <td>0.126023</td>\n",
       "      <td>-0.054429</td>\n",
       "      <td>0.810528</td>\n",
       "      <td>0.931109</td>\n",
       "      <td>-0.255479</td>\n",
       "      <td>0</td>\n",
       "      <td>0</td>\n",
       "      <td>...</td>\n",
       "      <td>2013</td>\n",
       "      <td>546.0</td>\n",
       "      <td>548.0</td>\n",
       "      <td>558.0</td>\n",
       "      <td>NaN</td>\n",
       "      <td>WI</td>\n",
       "      <td>27000</td>\n",
       "      <td>0.5762</td>\n",
       "      <td>1106.0</td>\n",
       "      <td>31900.0</td>\n",
       "    </tr>\n",
       "  </tbody>\n",
       "</table>\n",
       "<p>3 rows × 27 columns</p>\n",
       "</div>"
      ],
      "text/plain": [
       "        sat_scaled      cost      earn  gradrate      PCA0      PCA1  \\\n",
       "UNITID                                                                 \n",
       "230807    0.404182  0.377110  0.217076  0.098659  0.538715  0.123264   \n",
       "191676    0.389579  0.405206 -0.395015  1.051844  0.767490  0.371516   \n",
       "239512    0.374976  0.465045 -1.104263  0.126023 -0.054429  0.810528   \n",
       "\n",
       "            PCA2      PCA3  KM_PCA_cluster  KM_cluster   ...     Year  \\\n",
       "UNITID                                                   ...            \n",
       "230807 -0.033647 -0.236412               0           0   ...     2013   \n",
       "191676  0.811860  0.438400               0           0   ...     2013   \n",
       "239512  0.931109 -0.255479               0           0   ...     2013   \n",
       "\n",
       "       NumStudents   Math  Verbal  Writing State DebtAtGrad  completionRate  \\\n",
       "UNITID                                                                        \n",
       "230807      2260.0  555.0   555.0      NaN    UT      24500          0.5714   \n",
       "191676      1047.0  548.0   560.0    535.0    NY      23500          0.7386   \n",
       "239512       546.0  548.0   558.0      NaN    WI      27000          0.5762   \n",
       "\n",
       "           sat   earn10  \n",
       "UNITID                   \n",
       "230807  1110.0  45500.0  \n",
       "191676  1108.0  39200.0  \n",
       "239512  1106.0  31900.0  \n",
       "\n",
       "[3 rows x 27 columns]"
      ]
     },
     "execution_count": 73,
     "metadata": {},
     "output_type": "execute_result"
    }
   ],
   "source": [
    "query_sat = 1100\n",
    "query_maxcost = 40000\n",
    "query_sat_add_max = 10\n",
    "query_cluster = 3 # got this with argsort above\n",
    "\n",
    "c1 = df_out['cluster_ordinal'] == query_cluster\n",
    "c2 = df_out['AvgYrCostAcademic'] <= query_maxcost\n",
    "c3 = df_out['sat'] <= query_sat + query_sat_add_max\n",
    "condition = c1 & c2 & c3\n",
    "\n",
    "df_out.loc[condition].sort_values(by='sat', ascending=False)[0:3]"
   ]
  },
  {
   "cell_type": "markdown",
   "metadata": {},
   "source": [
    "Really we just need the UNITIDS"
   ]
  },
  {
   "cell_type": "code",
   "execution_count": 74,
   "metadata": {
    "collapsed": false
   },
   "outputs": [
    {
     "data": {
      "text/plain": [
       "Int64Index([230807, 191676, 239512], dtype='int64', name=u'UNITID')"
      ]
     },
     "execution_count": 74,
     "metadata": {},
     "output_type": "execute_result"
    }
   ],
   "source": [
    "df_out.loc[condition].sort_values(by='sat', ascending=False)[0:3].index"
   ]
  },
  {
   "cell_type": "code",
   "execution_count": 75,
   "metadata": {
    "collapsed": false
   },
   "outputs": [
    {
     "data": {
      "text/html": [
       "<div>\n",
       "<table border=\"1\" class=\"dataframe\">\n",
       "  <thead>\n",
       "    <tr style=\"text-align: right;\">\n",
       "      <th></th>\n",
       "      <th>INSTNM</th>\n",
       "      <th>type</th>\n",
       "      <th>NumStudents</th>\n",
       "      <th>AvgYrCostAcademic</th>\n",
       "      <th>sat</th>\n",
       "      <th>earn10</th>\n",
       "    </tr>\n",
       "    <tr>\n",
       "      <th>UNITID</th>\n",
       "      <th></th>\n",
       "      <th></th>\n",
       "      <th></th>\n",
       "      <th></th>\n",
       "      <th></th>\n",
       "      <th></th>\n",
       "    </tr>\n",
       "  </thead>\n",
       "  <tbody>\n",
       "    <tr>\n",
       "      <th>230807</th>\n",
       "      <td>Westminster College</td>\n",
       "      <td>Private nonprofit</td>\n",
       "      <td>2260.0</td>\n",
       "      <td>37990.0</td>\n",
       "      <td>1110.0</td>\n",
       "      <td>45500.0</td>\n",
       "    </tr>\n",
       "    <tr>\n",
       "      <th>191676</th>\n",
       "      <td>Houghton College</td>\n",
       "      <td>Private nonprofit</td>\n",
       "      <td>1047.0</td>\n",
       "      <td>38352.0</td>\n",
       "      <td>1108.0</td>\n",
       "      <td>39200.0</td>\n",
       "    </tr>\n",
       "    <tr>\n",
       "      <th>239512</th>\n",
       "      <td>Northland College</td>\n",
       "      <td>Private nonprofit</td>\n",
       "      <td>546.0</td>\n",
       "      <td>39123.0</td>\n",
       "      <td>1106.0</td>\n",
       "      <td>31900.0</td>\n",
       "    </tr>\n",
       "    <tr>\n",
       "      <th>227863</th>\n",
       "      <td>University of St Thomas</td>\n",
       "      <td>Private nonprofit</td>\n",
       "      <td>1529.0</td>\n",
       "      <td>37271.0</td>\n",
       "      <td>1105.0</td>\n",
       "      <td>48800.0</td>\n",
       "    </tr>\n",
       "    <tr>\n",
       "      <th>188641</th>\n",
       "      <td>Alfred University</td>\n",
       "      <td>Private nonprofit</td>\n",
       "      <td>1905.0</td>\n",
       "      <td>38830.0</td>\n",
       "      <td>1100.0</td>\n",
       "      <td>42300.0</td>\n",
       "    </tr>\n",
       "  </tbody>\n",
       "</table>\n",
       "</div>"
      ],
      "text/plain": [
       "                         INSTNM               type  NumStudents  \\\n",
       "UNITID                                                            \n",
       "230807      Westminster College  Private nonprofit       2260.0   \n",
       "191676         Houghton College  Private nonprofit       1047.0   \n",
       "239512        Northland College  Private nonprofit        546.0   \n",
       "227863  University of St Thomas  Private nonprofit       1529.0   \n",
       "188641        Alfred University  Private nonprofit       1905.0   \n",
       "\n",
       "        AvgYrCostAcademic     sat   earn10  \n",
       "UNITID                                      \n",
       "230807            37990.0  1110.0  45500.0  \n",
       "191676            38352.0  1108.0  39200.0  \n",
       "239512            39123.0  1106.0  31900.0  \n",
       "227863            37271.0  1105.0  48800.0  \n",
       "188641            38830.0  1100.0  42300.0  "
      ]
     },
     "execution_count": 75,
     "metadata": {},
     "output_type": "execute_result"
    }
   ],
   "source": [
    "picks = df_out.loc[condition].sort_values(by='sat', ascending=False)[0:5].index\n",
    "\n",
    "df_response = df_joined.loc[picks, \n",
    "    ['INSTNM', 'type', 'NumStudents', 'AvgYrCostAcademic', 'sat', 'earn10']]\n",
    "df_response"
   ]
  },
  {
   "cell_type": "code",
   "execution_count": 76,
   "metadata": {
    "collapsed": false
   },
   "outputs": [
    {
     "data": {
      "text/plain": [
       "'[{\"INSTNM\":\"Westminster College\",\"type\":\"Private nonprofit\",\"NumStudents\":2260.0,\"AvgYrCostAcademic\":37990.0,\"sat\":1110.0,\"earn10\":45500.0},{\"INSTNM\":\"Houghton College\",\"type\":\"Private nonprofit\",\"NumStudents\":1047.0,\"AvgYrCostAcademic\":38352.0,\"sat\":1108.0,\"earn10\":39200.0},{\"INSTNM\":\"Northland College\",\"type\":\"Private nonprofit\",\"NumStudents\":546.0,\"AvgYrCostAcademic\":39123.0,\"sat\":1106.0,\"earn10\":31900.0},{\"INSTNM\":\"University of St Thomas\",\"type\":\"Private nonprofit\",\"NumStudents\":1529.0,\"AvgYrCostAcademic\":37271.0,\"sat\":1105.0,\"earn10\":48800.0},{\"INSTNM\":\"Alfred University\",\"type\":\"Private nonprofit\",\"NumStudents\":1905.0,\"AvgYrCostAcademic\":38830.0,\"sat\":1100.0,\"earn10\":42300.0}]'"
      ]
     },
     "execution_count": 76,
     "metadata": {},
     "output_type": "execute_result"
    }
   ],
   "source": [
    "df_response.to_json(orient='records')"
   ]
  },
  {
   "cell_type": "code",
   "execution_count": 77,
   "metadata": {
    "collapsed": false
   },
   "outputs": [
    {
     "data": {
      "text/plain": [
       "'{\"INSTNM\":{\"230807\":\"Westminster College\",\"191676\":\"Houghton College\",\"239512\":\"Northland College\",\"227863\":\"University of St Thomas\",\"188641\":\"Alfred University\"},\"type\":{\"230807\":\"Private nonprofit\",\"191676\":\"Private nonprofit\",\"239512\":\"Private nonprofit\",\"227863\":\"Private nonprofit\",\"188641\":\"Private nonprofit\"},\"NumStudents\":{\"230807\":2260.0,\"191676\":1047.0,\"239512\":546.0,\"227863\":1529.0,\"188641\":1905.0},\"AvgYrCostAcademic\":{\"230807\":37990.0,\"191676\":38352.0,\"239512\":39123.0,\"227863\":37271.0,\"188641\":38830.0},\"sat\":{\"230807\":1110.0,\"191676\":1108.0,\"239512\":1106.0,\"227863\":1105.0,\"188641\":1100.0},\"earn10\":{\"230807\":45500.0,\"191676\":39200.0,\"239512\":31900.0,\"227863\":48800.0,\"188641\":42300.0}}'"
      ]
     },
     "execution_count": 77,
     "metadata": {},
     "output_type": "execute_result"
    }
   ],
   "source": [
    "df_response.to_json()"
   ]
  },
  {
   "cell_type": "code",
   "execution_count": 118,
   "metadata": {
    "collapsed": false
   },
   "outputs": [],
   "source": [
    "pandas.DataFrame.to_json?"
   ]
  },
  {
   "cell_type": "code",
   "execution_count": null,
   "metadata": {
    "collapsed": true
   },
   "outputs": [],
   "source": []
  }
 ],
 "metadata": {
  "anaconda-cloud": {},
  "kernelspec": {
   "display_name": "Python [Root]",
   "language": "python",
   "name": "Python [Root]"
  },
  "language_info": {
   "codemirror_mode": {
    "name": "ipython",
    "version": 2
   },
   "file_extension": ".py",
   "mimetype": "text/x-python",
   "name": "python",
   "nbconvert_exporter": "python",
   "pygments_lexer": "ipython2",
   "version": "2.7.12"
  }
 },
 "nbformat": 4,
 "nbformat_minor": 0
}
