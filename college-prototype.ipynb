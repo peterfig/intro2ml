{
 "cells": [
  {
   "cell_type": "raw",
   "metadata": {},
   "source": [
    "U.S. Dept. of Education College Scorecard\n",
    "Notebook for Codementor Machine Learning Class 2\n",
    "\n",
    "Now that we've examined and characterized our client's data, we'll need to quickly create and deliver a prototype product.  Start quickly, fail fast, fail often.  (Engineering wisdom.)  We accept that all models are wrong, but some are useful.  Each time we create a product, we test and determine its value.  We envision a better product, throw away the old one, and build the new one.\n",
    "\n",
    "In general, your clients will not be interested in your notebooks, your prototypes, your graphs, your studies, etc.  Sometimes you will find individuals who appreciate these things, but generally you will not.  It is extremely important to your success as a data scientist to find out exactly what your client wants.  It is your job to provide it.\n",
    "\n",
    "For our purposes, let's assume we are working with our client's engineer who will provide us with an input query in JSON (JavaScript Object Notation).  Example: { \"home_state\": \"NJ\", \"major\": \"engineering\", \"math\": 600, \"verbal\": 620, \"writing\": 580, \"out_of_state\": false, \"budget\": 30000}.  We are to provide useful information about recommended academic colleges and universities in return, in JSON."
   ]
  },
  {
   "cell_type": "code",
   "execution_count": 207,
   "metadata": {
    "collapsed": false
   },
   "outputs": [],
   "source": [
    "%matplotlib inline\n",
    "# allows plotting in cells, we'll use later on.\n",
    "import pylab\n",
    "pylab.rcParams['figure.figsize'] = (10, 6) # set a larger figure size"
   ]
  },
  {
   "cell_type": "code",
   "execution_count": 208,
   "metadata": {
    "collapsed": false
   },
   "outputs": [],
   "source": [
    "import sqlite3\n",
    "conn = sqlite3.connect('C:/Users/peter/CM-ML-Class/1/data/database.sqlite')\n"
   ]
  },
  {
   "cell_type": "code",
   "execution_count": 209,
   "metadata": {
    "collapsed": true
   },
   "outputs": [],
   "source": [
    "import pandas"
   ]
  },
  {
   "cell_type": "code",
   "execution_count": 211,
   "metadata": {
    "collapsed": false
   },
   "outputs": [],
   "source": [
    "query = \"\"\"\n",
    "SELECT UNITID,\n",
    "       INSTNM,\n",
    "       CONTROL as type,\n",
    "       COSTT4_A AvgYrCostAcademic,\n",
    "       COSTT4_P AvgYrCostProgram,\n",
    "       md_earn_wne_p10 medEarn10yrs,\n",
    "       md_earn_wne_p6 medEarn6yrs,\n",
    "       Year,\n",
    "       UGDS NumStudents,\n",
    "       SATMTMID Math,\n",
    "       SATVRMID Verbal,\n",
    "       SATWRMID Writing,\n",
    "       STABBR State,\n",
    "       GRAD_DEBT_MDN DebtAtGrad,\n",
    "       C150_4 completionRate\n",
    "       \n",
    "FROM Scorecard\n",
    "WHERE Year='{0}'\n",
    "\"\"\"\n",
    "# I found that 2011 is the latest year with earnings data!\n",
    "# Plan: use 2013 cost and 2011 earnings.  \n",
    "# Earnings have been approximately flat in adjusted dollars for the past decade;\n",
    "# so we'll just need to adjust 2011 dollars to 2013 dollars at some point\n",
    "df2013 = pandas.read_sql(query.format(2013), conn)\n",
    "df2011 = pandas.read_sql(query.format(2011), conn)\n"
   ]
  },
  {
   "cell_type": "code",
   "execution_count": 212,
   "metadata": {
    "collapsed": false
   },
   "outputs": [],
   "source": [
    "df2011.set_index(['UNITID'], inplace=True)  \n",
    "df2013.set_index(['UNITID'], inplace=True)"
   ]
  },
  {
   "cell_type": "code",
   "execution_count": 213,
   "metadata": {
    "collapsed": false
   },
   "outputs": [],
   "source": [
    "df2011['earn10'] = pandas.to_numeric(df2011['medEarn10yrs'], errors='coerce')\n",
    "df2013['sat'] = df2013['Math'] + df2013['Verbal']"
   ]
  },
  {
   "cell_type": "code",
   "execution_count": 214,
   "metadata": {
    "collapsed": false
   },
   "outputs": [
    {
     "data": {
      "text/plain": [
       "UNITID\n",
       "100654    31400.0\n",
       "100663    40300.0\n",
       "100690    38100.0\n",
       "100706    46600.0\n",
       "100724    27800.0\n",
       "Name: earn10, dtype: float64"
      ]
     },
     "execution_count": 214,
     "metadata": {},
     "output_type": "execute_result"
    }
   ],
   "source": [
    "dfearn = df2011['earn10'].dropna()\n",
    "dfearn.head() # note the Series retains the UNITID index"
   ]
  },
  {
   "cell_type": "markdown",
   "metadata": {},
   "source": [
    "Using Pandas.concat, let's tack on the 2011 earnings data to our 2013 dataframe.  This is done by matching UNITIDs.  In SQL, this would be an inner join and we'd have to explicitly state the join variable (UNITID) in each table.  In Pandas, it's assumed we'll join on the DataFrame/Series index (and we are free to state otherwise).  The Pandas concat function handles the join. "
   ]
  },
  {
   "cell_type": "code",
   "execution_count": 215,
   "metadata": {
    "collapsed": false
   },
   "outputs": [
    {
     "data": {
      "text/plain": [
       "Index([u'INSTNM', u'type', u'AvgYrCostAcademic', u'AvgYrCostProgram',\n",
       "       u'medEarn10yrs', u'medEarn6yrs', u'Year', u'NumStudents', u'Math',\n",
       "       u'Verbal', u'Writing', u'State', u'DebtAtGrad', u'completionRate',\n",
       "       u'sat'],\n",
       "      dtype='object')"
      ]
     },
     "execution_count": 215,
     "metadata": {},
     "output_type": "execute_result"
    }
   ],
   "source": [
    "# before\n",
    "df2013.columns"
   ]
  },
  {
   "cell_type": "code",
   "execution_count": 216,
   "metadata": {
    "collapsed": true
   },
   "outputs": [],
   "source": [
    "df_joined = pandas.concat([df2013, dfearn], axis=1, join='inner')  # equivalent to sql inner join on UNITID"
   ]
  },
  {
   "cell_type": "code",
   "execution_count": 217,
   "metadata": {
    "collapsed": false
   },
   "outputs": [
    {
     "data": {
      "text/plain": [
       "Index([u'INSTNM', u'type', u'AvgYrCostAcademic', u'AvgYrCostProgram',\n",
       "       u'medEarn10yrs', u'medEarn6yrs', u'Year', u'NumStudents', u'Math',\n",
       "       u'Verbal', u'Writing', u'State', u'DebtAtGrad', u'completionRate',\n",
       "       u'sat', u'earn10'],\n",
       "      dtype='object')"
      ]
     },
     "execution_count": 217,
     "metadata": {},
     "output_type": "execute_result"
    }
   ],
   "source": [
    "# after\n",
    "\n",
    "df_joined.columns"
   ]
  },
  {
   "cell_type": "code",
   "execution_count": 218,
   "metadata": {
    "collapsed": false
   },
   "outputs": [
    {
     "data": {
      "text/html": [
       "<div>\n",
       "<table border=\"1\" class=\"dataframe\">\n",
       "  <thead>\n",
       "    <tr style=\"text-align: right;\">\n",
       "      <th></th>\n",
       "      <th>INSTNM</th>\n",
       "      <th>type</th>\n",
       "      <th>AvgYrCostAcademic</th>\n",
       "      <th>AvgYrCostProgram</th>\n",
       "      <th>medEarn10yrs</th>\n",
       "      <th>medEarn6yrs</th>\n",
       "      <th>Year</th>\n",
       "      <th>NumStudents</th>\n",
       "      <th>Math</th>\n",
       "      <th>Verbal</th>\n",
       "      <th>Writing</th>\n",
       "      <th>State</th>\n",
       "      <th>DebtAtGrad</th>\n",
       "      <th>completionRate</th>\n",
       "      <th>sat</th>\n",
       "      <th>earn10</th>\n",
       "    </tr>\n",
       "    <tr>\n",
       "      <th>UNITID</th>\n",
       "      <th></th>\n",
       "      <th></th>\n",
       "      <th></th>\n",
       "      <th></th>\n",
       "      <th></th>\n",
       "      <th></th>\n",
       "      <th></th>\n",
       "      <th></th>\n",
       "      <th></th>\n",
       "      <th></th>\n",
       "      <th></th>\n",
       "      <th></th>\n",
       "      <th></th>\n",
       "      <th></th>\n",
       "      <th></th>\n",
       "      <th></th>\n",
       "    </tr>\n",
       "  </thead>\n",
       "  <tbody>\n",
       "    <tr>\n",
       "      <th>100654</th>\n",
       "      <td>Alabama A &amp; M University</td>\n",
       "      <td>Public</td>\n",
       "      <td>18888.0</td>\n",
       "      <td>NaN</td>\n",
       "      <td>None</td>\n",
       "      <td>None</td>\n",
       "      <td>2013</td>\n",
       "      <td>4051.0</td>\n",
       "      <td>400.0</td>\n",
       "      <td>410.0</td>\n",
       "      <td>NaN</td>\n",
       "      <td>AL</td>\n",
       "      <td>33611.5</td>\n",
       "      <td>0.2914</td>\n",
       "      <td>810.0</td>\n",
       "      <td>31400.0</td>\n",
       "    </tr>\n",
       "    <tr>\n",
       "      <th>100663</th>\n",
       "      <td>University of Alabama at Birmingham</td>\n",
       "      <td>Public</td>\n",
       "      <td>19990.0</td>\n",
       "      <td>NaN</td>\n",
       "      <td>None</td>\n",
       "      <td>None</td>\n",
       "      <td>2013</td>\n",
       "      <td>11200.0</td>\n",
       "      <td>585.0</td>\n",
       "      <td>580.0</td>\n",
       "      <td>NaN</td>\n",
       "      <td>AL</td>\n",
       "      <td>23117</td>\n",
       "      <td>0.5377</td>\n",
       "      <td>1165.0</td>\n",
       "      <td>40300.0</td>\n",
       "    </tr>\n",
       "    <tr>\n",
       "      <th>100690</th>\n",
       "      <td>Amridge University</td>\n",
       "      <td>Private nonprofit</td>\n",
       "      <td>12300.0</td>\n",
       "      <td>NaN</td>\n",
       "      <td>None</td>\n",
       "      <td>None</td>\n",
       "      <td>2013</td>\n",
       "      <td>322.0</td>\n",
       "      <td>NaN</td>\n",
       "      <td>NaN</td>\n",
       "      <td>NaN</td>\n",
       "      <td>AL</td>\n",
       "      <td>26995</td>\n",
       "      <td>0.6667</td>\n",
       "      <td>NaN</td>\n",
       "      <td>38100.0</td>\n",
       "    </tr>\n",
       "    <tr>\n",
       "      <th>100706</th>\n",
       "      <td>University of Alabama in Huntsville</td>\n",
       "      <td>Public</td>\n",
       "      <td>20306.0</td>\n",
       "      <td>NaN</td>\n",
       "      <td>None</td>\n",
       "      <td>None</td>\n",
       "      <td>2013</td>\n",
       "      <td>5525.0</td>\n",
       "      <td>580.0</td>\n",
       "      <td>575.0</td>\n",
       "      <td>NaN</td>\n",
       "      <td>AL</td>\n",
       "      <td>24738</td>\n",
       "      <td>0.4835</td>\n",
       "      <td>1155.0</td>\n",
       "      <td>46600.0</td>\n",
       "    </tr>\n",
       "    <tr>\n",
       "      <th>100724</th>\n",
       "      <td>Alabama State University</td>\n",
       "      <td>Public</td>\n",
       "      <td>17400.0</td>\n",
       "      <td>NaN</td>\n",
       "      <td>None</td>\n",
       "      <td>None</td>\n",
       "      <td>2013</td>\n",
       "      <td>5354.0</td>\n",
       "      <td>425.0</td>\n",
       "      <td>430.0</td>\n",
       "      <td>NaN</td>\n",
       "      <td>AL</td>\n",
       "      <td>33452</td>\n",
       "      <td>0.2517</td>\n",
       "      <td>855.0</td>\n",
       "      <td>27800.0</td>\n",
       "    </tr>\n",
       "  </tbody>\n",
       "</table>\n",
       "</div>"
      ],
      "text/plain": [
       "                                     INSTNM               type  \\\n",
       "UNITID                                                           \n",
       "100654             Alabama A & M University             Public   \n",
       "100663  University of Alabama at Birmingham             Public   \n",
       "100690                   Amridge University  Private nonprofit   \n",
       "100706  University of Alabama in Huntsville             Public   \n",
       "100724             Alabama State University             Public   \n",
       "\n",
       "        AvgYrCostAcademic  AvgYrCostProgram medEarn10yrs medEarn6yrs  Year  \\\n",
       "UNITID                                                                       \n",
       "100654            18888.0               NaN         None        None  2013   \n",
       "100663            19990.0               NaN         None        None  2013   \n",
       "100690            12300.0               NaN         None        None  2013   \n",
       "100706            20306.0               NaN         None        None  2013   \n",
       "100724            17400.0               NaN         None        None  2013   \n",
       "\n",
       "        NumStudents   Math  Verbal  Writing State DebtAtGrad  completionRate  \\\n",
       "UNITID                                                                         \n",
       "100654       4051.0  400.0   410.0      NaN    AL    33611.5          0.2914   \n",
       "100663      11200.0  585.0   580.0      NaN    AL      23117          0.5377   \n",
       "100690        322.0    NaN     NaN      NaN    AL      26995          0.6667   \n",
       "100706       5525.0  580.0   575.0      NaN    AL      24738          0.4835   \n",
       "100724       5354.0  425.0   430.0      NaN    AL      33452          0.2517   \n",
       "\n",
       "           sat   earn10  \n",
       "UNITID                   \n",
       "100654   810.0  31400.0  \n",
       "100663  1165.0  40300.0  \n",
       "100690     NaN  38100.0  \n",
       "100706  1155.0  46600.0  \n",
       "100724   855.0  27800.0  "
      ]
     },
     "execution_count": 218,
     "metadata": {},
     "output_type": "execute_result"
    }
   ],
   "source": [
    "df_joined.head()"
   ]
  },
  {
   "cell_type": "code",
   "execution_count": 229,
   "metadata": {
    "collapsed": false
   },
   "outputs": [
    {
     "data": {
      "text/plain": [
       "array([ 0.71100281,  0.14366243,  0.10260983,  0.04272492])"
      ]
     },
     "execution_count": 229,
     "metadata": {},
     "output_type": "execute_result"
    }
   ],
   "source": [
    "# select columns for clustering\n",
    "# scale\n",
    "# pca\n",
    "# cluster\n",
    "from sklearn.preprocessing import scale\n",
    "from sklearn.decomposition import PCA\n",
    "\n",
    "dfc = df_joined[['sat', 'AvgYrCostAcademic', 'earn10', 'completionRate']].dropna()\n",
    "dfscale = pandas.DataFrame(scale(dfc), index=dfc.index).rename(columns={0:'sat_scaled', 1:'cost', 2:'earn', 3:'gradrate'})\n",
    "pca = PCA(n_components=4)\n",
    "pca_array = pca.fit_transform(dfscale[[u'sat_scaled', u'cost', u'earn', u'gradrate']])\n",
    "pca.explained_variance_ratio_"
   ]
  },
  {
   "cell_type": "code",
   "execution_count": 230,
   "metadata": {
    "collapsed": false
   },
   "outputs": [
    {
     "data": {
      "text/plain": [
       "array([[ 0.53299838,  0.44054527,  0.47765635,  0.54191975],\n",
       "       [-0.23089238,  0.85534793, -0.45941213, -0.06331768],\n",
       "       [ 0.4484766 , -0.24949521, -0.74793387,  0.42097008],\n",
       "       [-0.67931597, -0.10978127,  0.03714616,  0.7246365 ]])"
      ]
     },
     "execution_count": 230,
     "metadata": {},
     "output_type": "execute_result"
    }
   ],
   "source": [
    "# more info about pca\n",
    "pca.components_"
   ]
  },
  {
   "cell_type": "markdown",
   "metadata": {},
   "source": [
    "We have a happy case where we can pack most of the useful information (71 + 14 = 85%) into the first two PCA variables.  This means we can cluster using only the first two PCA variables and visualize it completely in a 2-D chart."
   ]
  },
  {
   "cell_type": "code",
   "execution_count": 231,
   "metadata": {
    "collapsed": false
   },
   "outputs": [
    {
     "data": {
      "text/html": [
       "<div>\n",
       "<table border=\"1\" class=\"dataframe\">\n",
       "  <thead>\n",
       "    <tr style=\"text-align: right;\">\n",
       "      <th></th>\n",
       "      <th>sat_scaled</th>\n",
       "      <th>cost</th>\n",
       "      <th>earn</th>\n",
       "      <th>gradrate</th>\n",
       "      <th>PCA0</th>\n",
       "      <th>PCA1</th>\n",
       "      <th>PCA2</th>\n",
       "      <th>PCA3</th>\n",
       "    </tr>\n",
       "    <tr>\n",
       "      <th>UNITID</th>\n",
       "      <th></th>\n",
       "      <th></th>\n",
       "      <th></th>\n",
       "      <th></th>\n",
       "      <th></th>\n",
       "      <th></th>\n",
       "      <th></th>\n",
       "      <th></th>\n",
       "    </tr>\n",
       "  </thead>\n",
       "  <tbody>\n",
       "    <tr>\n",
       "      <th>100654</th>\n",
       "      <td>-1.786281</td>\n",
       "      <td>-1.105436</td>\n",
       "      <td>-1.152841</td>\n",
       "      <td>-1.497584</td>\n",
       "      <td>-2.801312</td>\n",
       "      <td>0.091359</td>\n",
       "      <td>-0.293493</td>\n",
       "      <td>0.206778</td>\n",
       "    </tr>\n",
       "    <tr>\n",
       "      <th>100663</th>\n",
       "      <td>0.805767</td>\n",
       "      <td>-1.019907</td>\n",
       "      <td>-0.288142</td>\n",
       "      <td>-0.093461</td>\n",
       "      <td>-0.208124</td>\n",
       "      <td>-0.920128</td>\n",
       "      <td>0.791996</td>\n",
       "      <td>-0.513832</td>\n",
       "    </tr>\n",
       "    <tr>\n",
       "      <th>100706</th>\n",
       "      <td>0.732752</td>\n",
       "      <td>-0.995382</td>\n",
       "      <td>0.323949</td>\n",
       "      <td>-0.402448</td>\n",
       "      <td>-0.111313</td>\n",
       "      <td>-1.143929</td>\n",
       "      <td>0.165254</td>\n",
       "      <td>-0.668090</td>\n",
       "    </tr>\n",
       "    <tr>\n",
       "      <th>100724</th>\n",
       "      <td>-1.457712</td>\n",
       "      <td>-1.220923</td>\n",
       "      <td>-1.502608</td>\n",
       "      <td>-1.723908</td>\n",
       "      <td>-2.966780</td>\n",
       "      <td>0.091731</td>\n",
       "      <td>0.049002</td>\n",
       "      <td>-0.180742</td>\n",
       "    </tr>\n",
       "    <tr>\n",
       "      <th>100751</th>\n",
       "      <td>0.513705</td>\n",
       "      <td>-0.497811</td>\n",
       "      <td>-0.084111</td>\n",
       "      <td>0.640811</td>\n",
       "      <td>0.361588</td>\n",
       "      <td>-0.546345</td>\n",
       "      <td>0.687258</td>\n",
       "      <td>0.166913</td>\n",
       "    </tr>\n",
       "  </tbody>\n",
       "</table>\n",
       "</div>"
      ],
      "text/plain": [
       "        sat_scaled      cost      earn  gradrate      PCA0      PCA1  \\\n",
       "UNITID                                                                 \n",
       "100654   -1.786281 -1.105436 -1.152841 -1.497584 -2.801312  0.091359   \n",
       "100663    0.805767 -1.019907 -0.288142 -0.093461 -0.208124 -0.920128   \n",
       "100706    0.732752 -0.995382  0.323949 -0.402448 -0.111313 -1.143929   \n",
       "100724   -1.457712 -1.220923 -1.502608 -1.723908 -2.966780  0.091731   \n",
       "100751    0.513705 -0.497811 -0.084111  0.640811  0.361588 -0.546345   \n",
       "\n",
       "            PCA2      PCA3  \n",
       "UNITID                      \n",
       "100654 -0.293493  0.206778  \n",
       "100663  0.791996 -0.513832  \n",
       "100706  0.165254 -0.668090  \n",
       "100724  0.049002 -0.180742  \n",
       "100751  0.687258  0.166913  "
      ]
     },
     "execution_count": 231,
     "metadata": {},
     "output_type": "execute_result"
    }
   ],
   "source": [
    "dfscale['PCA0'] = pca_array[:,0]\n",
    "dfscale['PCA1'] = pca_array[:,1]\n",
    "dfscale['PCA2'] = pca_array[:,2]\n",
    "dfscale['PCA3'] = pca_array[:,3]\n",
    "dfscale.head() # shows data before PCA (left 4 columns) and after PCA (right 4 columns)"
   ]
  },
  {
   "cell_type": "code",
   "execution_count": 232,
   "metadata": {
    "collapsed": false
   },
   "outputs": [],
   "source": [
    "from sklearn.cluster import KMeans\n",
    "km = KMeans(init='k-means++', n_clusters=7)\n",
    "km.fit(dfscale[['sat_scaled', 'cost', 'earn', 'gradrate']])\n",
    "dfscale['KM_cluster'] = km.predict(dfscale[['sat_scaled', 'cost', 'earn', 'gradrate']])\n",
    "km.fit(dfscale[['PCA0','PCA1']])\n",
    "dfscale['KM_PCA_cluster'] = km.predict(dfscale[['PCA0','PCA1']])"
   ]
  },
  {
   "cell_type": "code",
   "execution_count": 122,
   "metadata": {
    "collapsed": false
   },
   "outputs": [
    {
     "data": {
      "text/html": [
       "<div>\n",
       "<table border=\"1\" class=\"dataframe\">\n",
       "  <thead>\n",
       "    <tr style=\"text-align: right;\">\n",
       "      <th></th>\n",
       "      <th>sat_scaled</th>\n",
       "      <th>cost</th>\n",
       "      <th>earn</th>\n",
       "      <th>gradrate</th>\n",
       "      <th>PCA0</th>\n",
       "      <th>PCA1</th>\n",
       "      <th>PCA2</th>\n",
       "      <th>PCA3</th>\n",
       "      <th>KM_cluster</th>\n",
       "      <th>KM_PCA_cluster</th>\n",
       "    </tr>\n",
       "    <tr>\n",
       "      <th>UNITID</th>\n",
       "      <th></th>\n",
       "      <th></th>\n",
       "      <th></th>\n",
       "      <th></th>\n",
       "      <th></th>\n",
       "      <th></th>\n",
       "      <th></th>\n",
       "      <th></th>\n",
       "      <th></th>\n",
       "      <th></th>\n",
       "    </tr>\n",
       "  </thead>\n",
       "  <tbody>\n",
       "    <tr>\n",
       "      <th>100654</th>\n",
       "      <td>-1.786281</td>\n",
       "      <td>-1.105436</td>\n",
       "      <td>-1.152841</td>\n",
       "      <td>-1.497584</td>\n",
       "      <td>-2.801312</td>\n",
       "      <td>0.091359</td>\n",
       "      <td>-0.293493</td>\n",
       "      <td>0.206778</td>\n",
       "      <td>5</td>\n",
       "      <td>3</td>\n",
       "    </tr>\n",
       "    <tr>\n",
       "      <th>100663</th>\n",
       "      <td>0.805767</td>\n",
       "      <td>-1.019907</td>\n",
       "      <td>-0.288142</td>\n",
       "      <td>-0.093461</td>\n",
       "      <td>-0.208124</td>\n",
       "      <td>-0.920128</td>\n",
       "      <td>0.791996</td>\n",
       "      <td>-0.513832</td>\n",
       "      <td>4</td>\n",
       "      <td>6</td>\n",
       "    </tr>\n",
       "    <tr>\n",
       "      <th>100706</th>\n",
       "      <td>0.732752</td>\n",
       "      <td>-0.995382</td>\n",
       "      <td>0.323949</td>\n",
       "      <td>-0.402448</td>\n",
       "      <td>-0.111313</td>\n",
       "      <td>-1.143929</td>\n",
       "      <td>0.165254</td>\n",
       "      <td>-0.668090</td>\n",
       "      <td>4</td>\n",
       "      <td>6</td>\n",
       "    </tr>\n",
       "    <tr>\n",
       "      <th>100724</th>\n",
       "      <td>-1.457712</td>\n",
       "      <td>-1.220923</td>\n",
       "      <td>-1.502608</td>\n",
       "      <td>-1.723908</td>\n",
       "      <td>-2.966780</td>\n",
       "      <td>0.091731</td>\n",
       "      <td>0.049002</td>\n",
       "      <td>-0.180742</td>\n",
       "      <td>5</td>\n",
       "      <td>3</td>\n",
       "    </tr>\n",
       "    <tr>\n",
       "      <th>100751</th>\n",
       "      <td>0.513705</td>\n",
       "      <td>-0.497811</td>\n",
       "      <td>-0.084111</td>\n",
       "      <td>0.640811</td>\n",
       "      <td>0.361588</td>\n",
       "      <td>-0.546345</td>\n",
       "      <td>0.687258</td>\n",
       "      <td>0.166913</td>\n",
       "      <td>1</td>\n",
       "      <td>6</td>\n",
       "    </tr>\n",
       "  </tbody>\n",
       "</table>\n",
       "</div>"
      ],
      "text/plain": [
       "        sat_scaled      cost      earn  gradrate      PCA0      PCA1  \\\n",
       "UNITID                                                                 \n",
       "100654   -1.786281 -1.105436 -1.152841 -1.497584 -2.801312  0.091359   \n",
       "100663    0.805767 -1.019907 -0.288142 -0.093461 -0.208124 -0.920128   \n",
       "100706    0.732752 -0.995382  0.323949 -0.402448 -0.111313 -1.143929   \n",
       "100724   -1.457712 -1.220923 -1.502608 -1.723908 -2.966780  0.091731   \n",
       "100751    0.513705 -0.497811 -0.084111  0.640811  0.361588 -0.546345   \n",
       "\n",
       "            PCA2      PCA3  KM_cluster  KM_PCA_cluster  \n",
       "UNITID                                                  \n",
       "100654 -0.293493  0.206778           5               3  \n",
       "100663  0.791996 -0.513832           4               6  \n",
       "100706  0.165254 -0.668090           4               6  \n",
       "100724  0.049002 -0.180742           5               3  \n",
       "100751  0.687258  0.166913           1               6  "
      ]
     },
     "execution_count": 122,
     "metadata": {},
     "output_type": "execute_result"
    }
   ],
   "source": [
    "dfscale.head()"
   ]
  },
  {
   "cell_type": "code",
   "execution_count": 234,
   "metadata": {
    "collapsed": false
   },
   "outputs": [
    {
     "data": {
      "image/png": "[encoded data removed]",
      "text/plain": [
       "<matplotlib.figure.Figure at 0xf072e48>"
      ]
     },
     "metadata": {},
     "output_type": "display_data"
    }
   ],
   "source": [
    "import matplotlib.pyplot as plt\n",
    "\n",
    "groups = dfscale.groupby('KM_PCA_cluster')\n",
    "\n",
    "fig, ax = plt.subplots()\n",
    "ax.margins(0.05) # Optional, just adds 5% padding to the autoscaling\n",
    "for name, group in groups:\n",
    "    ax.plot(group.PCA0, group.PCA1, marker='o', linestyle='', ms=5, label=name)\n",
    "ax.legend()\n",
    "ax.set_xlabel(\"PCA0\")\n",
    "ax.set_ylabel(\"PCA1\")\n",
    "ax.text(-2, 3, 'PCA Cluster Visualization')\n",
    "\n",
    "plt.show()"
   ]
  },
  {
   "cell_type": "code",
   "execution_count": 235,
   "metadata": {
    "collapsed": false
   },
   "outputs": [
    {
     "data": {
      "text/plain": [
       "<pandas.core.groupby.DataFrameGroupBy object at 0x000000000B5FCC18>"
      ]
     },
     "execution_count": 235,
     "metadata": {},
     "output_type": "execute_result"
    }
   ],
   "source": [
    "groups"
   ]
  },
  {
   "cell_type": "code",
   "execution_count": 236,
   "metadata": {
    "collapsed": false
   },
   "outputs": [
    {
     "data": {
      "text/html": [
       "<div>\n",
       "<table border=\"1\" class=\"dataframe\">\n",
       "  <thead>\n",
       "    <tr style=\"text-align: right;\">\n",
       "      <th></th>\n",
       "      <th>sat_scaled</th>\n",
       "      <th>cost</th>\n",
       "      <th>earn</th>\n",
       "      <th>gradrate</th>\n",
       "      <th>PCA0</th>\n",
       "      <th>PCA1</th>\n",
       "      <th>PCA2</th>\n",
       "      <th>PCA3</th>\n",
       "      <th>KM_cluster</th>\n",
       "    </tr>\n",
       "    <tr>\n",
       "      <th>KM_PCA_cluster</th>\n",
       "      <th></th>\n",
       "      <th></th>\n",
       "      <th></th>\n",
       "      <th></th>\n",
       "      <th></th>\n",
       "      <th></th>\n",
       "      <th></th>\n",
       "      <th></th>\n",
       "      <th></th>\n",
       "    </tr>\n",
       "  </thead>\n",
       "  <tbody>\n",
       "    <tr>\n",
       "      <th>0</th>\n",
       "      <td>-0.946604</td>\n",
       "      <td>-1.108812</td>\n",
       "      <td>-0.880801</td>\n",
       "      <td>-1.221092</td>\n",
       "      <td>-1.970898</td>\n",
       "      <td>-0.293013</td>\n",
       "      <td>-0.013264</td>\n",
       "      <td>-0.180418</td>\n",
       "      <td>0</td>\n",
       "    </tr>\n",
       "    <tr>\n",
       "      <th>5</th>\n",
       "      <td>-0.581526</td>\n",
       "      <td>0.130071</td>\n",
       "      <td>-0.569898</td>\n",
       "      <td>-0.499932</td>\n",
       "      <td>-0.743372</td>\n",
       "      <td>0.533931</td>\n",
       "      <td>-0.138844</td>\n",
       "      <td>0.005445</td>\n",
       "      <td>4</td>\n",
       "    </tr>\n",
       "    <tr>\n",
       "      <th>2</th>\n",
       "      <td>-0.143434</td>\n",
       "      <td>-0.977648</td>\n",
       "      <td>-0.113259</td>\n",
       "      <td>-0.249094</td>\n",
       "      <td>-0.632729</td>\n",
       "      <td>-0.740509</td>\n",
       "      <td>0.197218</td>\n",
       "      <td>0.046922</td>\n",
       "      <td>1</td>\n",
       "    </tr>\n",
       "    <tr>\n",
       "      <th>3</th>\n",
       "      <td>0.148628</td>\n",
       "      <td>0.725123</td>\n",
       "      <td>0.042193</td>\n",
       "      <td>0.399664</td>\n",
       "      <td>0.620239</td>\n",
       "      <td>0.544529</td>\n",
       "      <td>0.048637</td>\n",
       "      <td>0.076645</td>\n",
       "      <td>3</td>\n",
       "    </tr>\n",
       "    <tr>\n",
       "      <th>4</th>\n",
       "      <td>0.915290</td>\n",
       "      <td>-0.731850</td>\n",
       "      <td>0.746583</td>\n",
       "      <td>0.964620</td>\n",
       "      <td>0.995156</td>\n",
       "      <td>-1.283422</td>\n",
       "      <td>0.496172</td>\n",
       "      <td>0.237667</td>\n",
       "      <td>6</td>\n",
       "    </tr>\n",
       "    <tr>\n",
       "      <th>1</th>\n",
       "      <td>1.024813</td>\n",
       "      <td>1.390181</td>\n",
       "      <td>0.863172</td>\n",
       "      <td>1.254224</td>\n",
       "      <td>2.210701</td>\n",
       "      <td>0.493952</td>\n",
       "      <td>-0.027102</td>\n",
       "      <td>0.018691</td>\n",
       "      <td>5</td>\n",
       "    </tr>\n",
       "    <tr>\n",
       "      <th>6</th>\n",
       "      <td>2.448614</td>\n",
       "      <td>1.967460</td>\n",
       "      <td>2.208801</td>\n",
       "      <td>2.059757</td>\n",
       "      <td>4.261555</td>\n",
       "      <td>0.008039</td>\n",
       "      <td>-0.174083</td>\n",
       "      <td>-0.382132</td>\n",
       "      <td>2</td>\n",
       "    </tr>\n",
       "  </tbody>\n",
       "</table>\n",
       "</div>"
      ],
      "text/plain": [
       "                sat_scaled      cost      earn  gradrate      PCA0      PCA1  \\\n",
       "KM_PCA_cluster                                                                 \n",
       "0                -0.946604 -1.108812 -0.880801 -1.221092 -1.970898 -0.293013   \n",
       "5                -0.581526  0.130071 -0.569898 -0.499932 -0.743372  0.533931   \n",
       "2                -0.143434 -0.977648 -0.113259 -0.249094 -0.632729 -0.740509   \n",
       "3                 0.148628  0.725123  0.042193  0.399664  0.620239  0.544529   \n",
       "4                 0.915290 -0.731850  0.746583  0.964620  0.995156 -1.283422   \n",
       "1                 1.024813  1.390181  0.863172  1.254224  2.210701  0.493952   \n",
       "6                 2.448614  1.967460  2.208801  2.059757  4.261555  0.008039   \n",
       "\n",
       "                    PCA2      PCA3  KM_cluster  \n",
       "KM_PCA_cluster                                  \n",
       "0              -0.013264 -0.180418           0  \n",
       "5              -0.138844  0.005445           4  \n",
       "2               0.197218  0.046922           1  \n",
       "3               0.048637  0.076645           3  \n",
       "4               0.496172  0.237667           6  \n",
       "1              -0.027102  0.018691           5  \n",
       "6              -0.174083 -0.382132           2  "
      ]
     },
     "execution_count": 236,
     "metadata": {},
     "output_type": "execute_result"
    }
   ],
   "source": [
    "groups.median().sort_values(by='sat_scaled')  # bottom cluster is the low-cost group!"
   ]
  },
  {
   "cell_type": "markdown",
   "metadata": {},
   "source": [
    "Let's look and see how clustering with the raw data compared to clustering PCA-transformed variables."
   ]
  },
  {
   "cell_type": "code",
   "execution_count": 237,
   "metadata": {
    "collapsed": false
   },
   "outputs": [
    {
     "data": {
      "text/html": [
       "<div>\n",
       "<table border=\"1\" class=\"dataframe\">\n",
       "  <thead>\n",
       "    <tr style=\"text-align: right;\">\n",
       "      <th></th>\n",
       "      <th>sat_scaled</th>\n",
       "      <th>cost</th>\n",
       "      <th>earn</th>\n",
       "      <th>gradrate</th>\n",
       "      <th>PCA0</th>\n",
       "      <th>PCA1</th>\n",
       "      <th>PCA2</th>\n",
       "      <th>PCA3</th>\n",
       "      <th>KM_PCA_cluster</th>\n",
       "    </tr>\n",
       "    <tr>\n",
       "      <th>KM_cluster</th>\n",
       "      <th></th>\n",
       "      <th></th>\n",
       "      <th></th>\n",
       "      <th></th>\n",
       "      <th></th>\n",
       "      <th></th>\n",
       "      <th></th>\n",
       "      <th></th>\n",
       "      <th></th>\n",
       "    </tr>\n",
       "  </thead>\n",
       "  <tbody>\n",
       "    <tr>\n",
       "      <th>0</th>\n",
       "      <td>-0.946604</td>\n",
       "      <td>-1.133221</td>\n",
       "      <td>-0.880801</td>\n",
       "      <td>-1.232209</td>\n",
       "      <td>-1.976302</td>\n",
       "      <td>-0.307130</td>\n",
       "      <td>-0.013264</td>\n",
       "      <td>-0.183571</td>\n",
       "      <td>0</td>\n",
       "    </tr>\n",
       "    <tr>\n",
       "      <th>4</th>\n",
       "      <td>-0.691050</td>\n",
       "      <td>0.145050</td>\n",
       "      <td>-0.501888</td>\n",
       "      <td>-0.619080</td>\n",
       "      <td>-0.817470</td>\n",
       "      <td>0.568907</td>\n",
       "      <td>-0.268681</td>\n",
       "      <td>-0.045694</td>\n",
       "      <td>5</td>\n",
       "    </tr>\n",
       "    <tr>\n",
       "      <th>1</th>\n",
       "      <td>-0.143434</td>\n",
       "      <td>-0.953471</td>\n",
       "      <td>-0.171553</td>\n",
       "      <td>-0.223440</td>\n",
       "      <td>-0.656108</td>\n",
       "      <td>-0.704756</td>\n",
       "      <td>0.247949</td>\n",
       "      <td>0.054586</td>\n",
       "      <td>2</td>\n",
       "    </tr>\n",
       "    <tr>\n",
       "      <th>3</th>\n",
       "      <td>0.075613</td>\n",
       "      <td>0.645648</td>\n",
       "      <td>-0.093827</td>\n",
       "      <td>0.356908</td>\n",
       "      <td>0.524817</td>\n",
       "      <td>0.524762</td>\n",
       "      <td>0.106146</td>\n",
       "      <td>0.097678</td>\n",
       "      <td>3</td>\n",
       "    </tr>\n",
       "    <tr>\n",
       "      <th>6</th>\n",
       "      <td>0.915290</td>\n",
       "      <td>-0.731850</td>\n",
       "      <td>0.746583</td>\n",
       "      <td>0.964620</td>\n",
       "      <td>0.995156</td>\n",
       "      <td>-1.283422</td>\n",
       "      <td>0.496172</td>\n",
       "      <td>0.229759</td>\n",
       "      <td>4</td>\n",
       "    </tr>\n",
       "    <tr>\n",
       "      <th>5</th>\n",
       "      <td>1.043067</td>\n",
       "      <td>1.404617</td>\n",
       "      <td>0.809736</td>\n",
       "      <td>1.293845</td>\n",
       "      <td>2.210701</td>\n",
       "      <td>0.553234</td>\n",
       "      <td>0.048356</td>\n",
       "      <td>-0.007134</td>\n",
       "      <td>1</td>\n",
       "    </tr>\n",
       "    <tr>\n",
       "      <th>2</th>\n",
       "      <td>2.426710</td>\n",
       "      <td>1.953723</td>\n",
       "      <td>2.378826</td>\n",
       "      <td>2.028117</td>\n",
       "      <td>4.271599</td>\n",
       "      <td>-0.112206</td>\n",
       "      <td>-0.311637</td>\n",
       "      <td>-0.382471</td>\n",
       "      <td>6</td>\n",
       "    </tr>\n",
       "  </tbody>\n",
       "</table>\n",
       "</div>"
      ],
      "text/plain": [
       "            sat_scaled      cost      earn  gradrate      PCA0      PCA1  \\\n",
       "KM_cluster                                                                 \n",
       "0            -0.946604 -1.133221 -0.880801 -1.232209 -1.976302 -0.307130   \n",
       "4            -0.691050  0.145050 -0.501888 -0.619080 -0.817470  0.568907   \n",
       "1            -0.143434 -0.953471 -0.171553 -0.223440 -0.656108 -0.704756   \n",
       "3             0.075613  0.645648 -0.093827  0.356908  0.524817  0.524762   \n",
       "6             0.915290 -0.731850  0.746583  0.964620  0.995156 -1.283422   \n",
       "5             1.043067  1.404617  0.809736  1.293845  2.210701  0.553234   \n",
       "2             2.426710  1.953723  2.378826  2.028117  4.271599 -0.112206   \n",
       "\n",
       "                PCA2      PCA3  KM_PCA_cluster  \n",
       "KM_cluster                                      \n",
       "0          -0.013264 -0.183571               0  \n",
       "4          -0.268681 -0.045694               5  \n",
       "1           0.247949  0.054586               2  \n",
       "3           0.106146  0.097678               3  \n",
       "6           0.496172  0.229759               4  \n",
       "5           0.048356 -0.007134               1  \n",
       "2          -0.311637 -0.382471               6  "
      ]
     },
     "execution_count": 237,
     "metadata": {},
     "output_type": "execute_result"
    }
   ],
   "source": [
    "groups_raw = dfscale.groupby('KM_cluster')\n",
    "groups_raw.median().sort_values(by='sat_scaled') "
   ]
  },
  {
   "cell_type": "markdown",
   "metadata": {},
   "source": [
    "The median values of the clusters are nearly the same.  Not much difference, so far.  What about visualization?  Well, the first problem is: what do we graph on each axis?"
   ]
  },
  {
   "cell_type": "code",
   "execution_count": 238,
   "metadata": {
    "collapsed": false
   },
   "outputs": [
    {
     "data": {
      "text/plain": [
       "array([[<matplotlib.axes._subplots.AxesSubplot object at 0x00000000146C74A8>,\n",
       "        <matplotlib.axes._subplots.AxesSubplot object at 0x000000000F67F048>,\n",
       "        <matplotlib.axes._subplots.AxesSubplot object at 0x0000000015034BA8>,\n",
       "        <matplotlib.axes._subplots.AxesSubplot object at 0x00000000146F0438>],\n",
       "       [<matplotlib.axes._subplots.AxesSubplot object at 0x000000001421DDA0>,\n",
       "        <matplotlib.axes._subplots.AxesSubplot object at 0x00000000140EF2B0>,\n",
       "        <matplotlib.axes._subplots.AxesSubplot object at 0x0000000013F3EC50>,\n",
       "        <matplotlib.axes._subplots.AxesSubplot object at 0x0000000012A59160>],\n",
       "       [<matplotlib.axes._subplots.AxesSubplot object at 0x0000000012A29D30>,\n",
       "        <matplotlib.axes._subplots.AxesSubplot object at 0x0000000014532668>,\n",
       "        <matplotlib.axes._subplots.AxesSubplot object at 0x00000000129DE5C0>,\n",
       "        <matplotlib.axes._subplots.AxesSubplot object at 0x0000000014CF3E48>],\n",
       "       [<matplotlib.axes._subplots.AxesSubplot object at 0x0000000014D519B0>,\n",
       "        <matplotlib.axes._subplots.AxesSubplot object at 0x0000000012BCB4A8>,\n",
       "        <matplotlib.axes._subplots.AxesSubplot object at 0x000000001508FD30>,\n",
       "        <matplotlib.axes._subplots.AxesSubplot object at 0x000000001513E668>]], dtype=object)"
      ]
     },
     "execution_count": 238,
     "metadata": {},
     "output_type": "execute_result"
    },
    {
     "data": {
      "image/png": "[encoded data removed]",
      "text/plain": [
       "<matplotlib.figure.Figure at 0xb7b7f60>"
      ]
     },
     "metadata": {},
     "output_type": "display_data"
    }
   ],
   "source": [
    "from pandas.tools.plotting import scatter_matrix\n",
    "scatter_matrix(dfscale[['sat_scaled', 'cost', 'earn', 'gradrate']])"
   ]
  },
  {
   "cell_type": "markdown",
   "metadata": {},
   "source": [
    "Let's try one that already shows distinct groups, such as cost vs. gradrate."
   ]
  },
  {
   "cell_type": "code",
   "execution_count": 239,
   "metadata": {
    "collapsed": false
   },
   "outputs": [
    {
     "data": {
      "image/png": "[encoded data removed]",
      "text/plain": [
       "<matplotlib.figure.Figure at 0x1515b4e0>"
      ]
     },
     "metadata": {},
     "output_type": "display_data"
    }
   ],
   "source": [
    "groups = dfscale.groupby('KM_cluster')\n",
    "\n",
    "fig, ax = plt.subplots()\n",
    "ax.margins(0.05) \n",
    "for name, group in groups:\n",
    "    ax.plot(group.gradrate, group.cost, marker='o', linestyle='', ms=5, label=name)\n",
    "ax.legend()\n",
    "ax.set_xlabel(\"gradrate\")\n",
    "ax.set_ylabel(\"cost\")\n",
    "ax.text(-2, 3, 'Cluster Visualization without PCA')\n",
    "\n",
    "\n",
    "plt.show()"
   ]
  },
  {
   "cell_type": "markdown",
   "metadata": {},
   "source": [
    "Not too bad-- but still a bit of a mess compared to our PCA.  There, the clustering algorithm ran on two dimensional data.  Here, it made 4-dimensional clusters.  If you feel like you should be able peek your head around the side of the graph to get a better view of the clusters, PCA is exactly that; a transformation of variables.  It transforms in such as way as to pack as much information as possible into the first PCA variable, then the second, and so on.  That is why PCA is referred to as a \"dimensionality reduction\" technique.  You can also think of clustering as a dimensionality reduction technque, where we map down to one categorical dimension (cluster number)."
   ]
  },
  {
   "cell_type": "markdown",
   "metadata": {},
   "source": [
    "Back to business-- my plan for a prototype product-- let's take the SAT score and align it to the nearest cluster median.  We'll return three schools from that cluster within the budget.  Then we'll take three schools from the cluster above (\"reach schools\") and below (\"safe schools\").  If we're in the top or bottom cluster to begin with, we'll return 3 additional schools from the matching cluster.  So that we can easily get the cluster above and below, let's also re-map the cluster numbers."
   ]
  },
  {
   "cell_type": "code",
   "execution_count": 240,
   "metadata": {
    "collapsed": false
   },
   "outputs": [
    {
     "data": {
      "text/plain": [
       "Int64Index([0, 5, 2, 3, 4, 1, 6], dtype='int64', name=u'KM_PCA_cluster')"
      ]
     },
     "execution_count": 240,
     "metadata": {},
     "output_type": "execute_result"
    }
   ],
   "source": [
    "groups = dfscale.groupby('KM_PCA_cluster')\n",
    "cluster_number_map = groups.median().sort_values(by='sat_scaled').index  # cluster numbers sorted from lowest to highest SAT\n",
    "cluster_number_map"
   ]
  },
  {
   "cell_type": "code",
   "execution_count": 241,
   "metadata": {
    "collapsed": false
   },
   "outputs": [
    {
     "data": {
      "text/plain": [
       "{0: 0, 1: 5, 2: 2, 3: 3, 4: 4, 5: 1, 6: 6}"
      ]
     },
     "execution_count": 241,
     "metadata": {},
     "output_type": "execute_result"
    }
   ],
   "source": [
    "d = { cluster_number_map[i]: i for i in range(7)}\n",
    "d"
   ]
  },
  {
   "cell_type": "code",
   "execution_count": 244,
   "metadata": {
    "collapsed": false
   },
   "outputs": [
    {
     "data": {
      "text/plain": [
       "1"
      ]
     },
     "execution_count": 244,
     "metadata": {},
     "output_type": "execute_result"
    }
   ],
   "source": [
    "d[5]"
   ]
  },
  {
   "cell_type": "code",
   "execution_count": 246,
   "metadata": {
    "collapsed": false
   },
   "outputs": [
    {
     "data": {
      "text/plain": [
       "UNITID\n",
       "100654    0\n",
       "100663    2\n",
       "100706    2\n",
       "100724    0\n",
       "100751    2\n",
       "Name: KM_PCA_cluster, dtype: int64"
      ]
     },
     "execution_count": 246,
     "metadata": {},
     "output_type": "execute_result"
    }
   ],
   "source": [
    "cluster_ord = dfscale.KM_PCA_cluster.map(lambda x: d[x])\n",
    "cluster_ord.head()"
   ]
  },
  {
   "cell_type": "code",
   "execution_count": 247,
   "metadata": {
    "collapsed": false
   },
   "outputs": [
    {
     "data": {
      "text/html": [
       "<div>\n",
       "<table border=\"1\" class=\"dataframe\">\n",
       "  <thead>\n",
       "    <tr style=\"text-align: right;\">\n",
       "      <th></th>\n",
       "      <th>sat_scaled</th>\n",
       "      <th>cost</th>\n",
       "      <th>earn</th>\n",
       "      <th>gradrate</th>\n",
       "      <th>PCA0</th>\n",
       "      <th>PCA1</th>\n",
       "      <th>PCA2</th>\n",
       "      <th>PCA3</th>\n",
       "      <th>KM_cluster</th>\n",
       "      <th>KM_PCA_cluster</th>\n",
       "      <th>cluster_ordinal</th>\n",
       "    </tr>\n",
       "    <tr>\n",
       "      <th>UNITID</th>\n",
       "      <th></th>\n",
       "      <th></th>\n",
       "      <th></th>\n",
       "      <th></th>\n",
       "      <th></th>\n",
       "      <th></th>\n",
       "      <th></th>\n",
       "      <th></th>\n",
       "      <th></th>\n",
       "      <th></th>\n",
       "      <th></th>\n",
       "    </tr>\n",
       "  </thead>\n",
       "  <tbody>\n",
       "    <tr>\n",
       "      <th>100654</th>\n",
       "      <td>-1.786281</td>\n",
       "      <td>-1.105436</td>\n",
       "      <td>-1.152841</td>\n",
       "      <td>-1.497584</td>\n",
       "      <td>-2.801312</td>\n",
       "      <td>0.091359</td>\n",
       "      <td>-0.293493</td>\n",
       "      <td>0.206778</td>\n",
       "      <td>0</td>\n",
       "      <td>0</td>\n",
       "      <td>0</td>\n",
       "    </tr>\n",
       "    <tr>\n",
       "      <th>100663</th>\n",
       "      <td>0.805767</td>\n",
       "      <td>-1.019907</td>\n",
       "      <td>-0.288142</td>\n",
       "      <td>-0.093461</td>\n",
       "      <td>-0.208124</td>\n",
       "      <td>-0.920128</td>\n",
       "      <td>0.791996</td>\n",
       "      <td>-0.513832</td>\n",
       "      <td>1</td>\n",
       "      <td>2</td>\n",
       "      <td>2</td>\n",
       "    </tr>\n",
       "    <tr>\n",
       "      <th>100706</th>\n",
       "      <td>0.732752</td>\n",
       "      <td>-0.995382</td>\n",
       "      <td>0.323949</td>\n",
       "      <td>-0.402448</td>\n",
       "      <td>-0.111313</td>\n",
       "      <td>-1.143929</td>\n",
       "      <td>0.165254</td>\n",
       "      <td>-0.668090</td>\n",
       "      <td>1</td>\n",
       "      <td>2</td>\n",
       "      <td>2</td>\n",
       "    </tr>\n",
       "    <tr>\n",
       "      <th>100724</th>\n",
       "      <td>-1.457712</td>\n",
       "      <td>-1.220923</td>\n",
       "      <td>-1.502608</td>\n",
       "      <td>-1.723908</td>\n",
       "      <td>-2.966780</td>\n",
       "      <td>0.091731</td>\n",
       "      <td>0.049002</td>\n",
       "      <td>-0.180742</td>\n",
       "      <td>0</td>\n",
       "      <td>0</td>\n",
       "      <td>0</td>\n",
       "    </tr>\n",
       "    <tr>\n",
       "      <th>100751</th>\n",
       "      <td>0.513705</td>\n",
       "      <td>-0.497811</td>\n",
       "      <td>-0.084111</td>\n",
       "      <td>0.640811</td>\n",
       "      <td>0.361588</td>\n",
       "      <td>-0.546345</td>\n",
       "      <td>0.687258</td>\n",
       "      <td>0.166913</td>\n",
       "      <td>1</td>\n",
       "      <td>2</td>\n",
       "      <td>2</td>\n",
       "    </tr>\n",
       "  </tbody>\n",
       "</table>\n",
       "</div>"
      ],
      "text/plain": [
       "        sat_scaled      cost      earn  gradrate      PCA0      PCA1  \\\n",
       "UNITID                                                                 \n",
       "100654   -1.786281 -1.105436 -1.152841 -1.497584 -2.801312  0.091359   \n",
       "100663    0.805767 -1.019907 -0.288142 -0.093461 -0.208124 -0.920128   \n",
       "100706    0.732752 -0.995382  0.323949 -0.402448 -0.111313 -1.143929   \n",
       "100724   -1.457712 -1.220923 -1.502608 -1.723908 -2.966780  0.091731   \n",
       "100751    0.513705 -0.497811 -0.084111  0.640811  0.361588 -0.546345   \n",
       "\n",
       "            PCA2      PCA3  KM_cluster  KM_PCA_cluster  cluster_ordinal  \n",
       "UNITID                                                                   \n",
       "100654 -0.293493  0.206778           0               0                0  \n",
       "100663  0.791996 -0.513832           1               2                2  \n",
       "100706  0.165254 -0.668090           1               2                2  \n",
       "100724  0.049002 -0.180742           0               0                0  \n",
       "100751  0.687258  0.166913           1               2                2  "
      ]
     },
     "execution_count": 247,
     "metadata": {},
     "output_type": "execute_result"
    }
   ],
   "source": [
    "cluster_ord = dfscale.KM_PCA_cluster.map(lambda x: d[x])\n",
    "dfscale['cluster_ordinal'] = cluster_ord\n",
    "dfscale.head()"
   ]
  },
  {
   "cell_type": "markdown",
   "metadata": {
    "collapsed": true
   },
   "source": [
    "Design decision: let's work with unscaled cost and SAT scores.  This way we do not have to scale incoming data.  Since we've retained the school IDs, we simply need to bring our cluster labels back to the raw dataframe.  Let's see how this would work in the notebook, then code up the prototype as a python command-line program."
   ]
  },
  {
   "cell_type": "code",
   "execution_count": 248,
   "metadata": {
    "collapsed": false
   },
   "outputs": [
    {
     "data": {
      "text/html": [
       "<div>\n",
       "<table border=\"1\" class=\"dataframe\">\n",
       "  <thead>\n",
       "    <tr style=\"text-align: right;\">\n",
       "      <th></th>\n",
       "      <th>INSTNM</th>\n",
       "      <th>type</th>\n",
       "      <th>AvgYrCostAcademic</th>\n",
       "      <th>AvgYrCostProgram</th>\n",
       "      <th>medEarn10yrs</th>\n",
       "      <th>medEarn6yrs</th>\n",
       "      <th>Year</th>\n",
       "      <th>NumStudents</th>\n",
       "      <th>Math</th>\n",
       "      <th>Verbal</th>\n",
       "      <th>Writing</th>\n",
       "      <th>State</th>\n",
       "      <th>DebtAtGrad</th>\n",
       "      <th>completionRate</th>\n",
       "      <th>sat</th>\n",
       "      <th>earn10</th>\n",
       "    </tr>\n",
       "    <tr>\n",
       "      <th>UNITID</th>\n",
       "      <th></th>\n",
       "      <th></th>\n",
       "      <th></th>\n",
       "      <th></th>\n",
       "      <th></th>\n",
       "      <th></th>\n",
       "      <th></th>\n",
       "      <th></th>\n",
       "      <th></th>\n",
       "      <th></th>\n",
       "      <th></th>\n",
       "      <th></th>\n",
       "      <th></th>\n",
       "      <th></th>\n",
       "      <th></th>\n",
       "      <th></th>\n",
       "    </tr>\n",
       "  </thead>\n",
       "  <tbody>\n",
       "    <tr>\n",
       "      <th>100654</th>\n",
       "      <td>Alabama A &amp; M University</td>\n",
       "      <td>Public</td>\n",
       "      <td>18888.0</td>\n",
       "      <td>NaN</td>\n",
       "      <td>None</td>\n",
       "      <td>None</td>\n",
       "      <td>2013</td>\n",
       "      <td>4051.0</td>\n",
       "      <td>400.0</td>\n",
       "      <td>410.0</td>\n",
       "      <td>NaN</td>\n",
       "      <td>AL</td>\n",
       "      <td>33611.5</td>\n",
       "      <td>0.2914</td>\n",
       "      <td>810.0</td>\n",
       "      <td>31400.0</td>\n",
       "    </tr>\n",
       "    <tr>\n",
       "      <th>100663</th>\n",
       "      <td>University of Alabama at Birmingham</td>\n",
       "      <td>Public</td>\n",
       "      <td>19990.0</td>\n",
       "      <td>NaN</td>\n",
       "      <td>None</td>\n",
       "      <td>None</td>\n",
       "      <td>2013</td>\n",
       "      <td>11200.0</td>\n",
       "      <td>585.0</td>\n",
       "      <td>580.0</td>\n",
       "      <td>NaN</td>\n",
       "      <td>AL</td>\n",
       "      <td>23117</td>\n",
       "      <td>0.5377</td>\n",
       "      <td>1165.0</td>\n",
       "      <td>40300.0</td>\n",
       "    </tr>\n",
       "    <tr>\n",
       "      <th>100690</th>\n",
       "      <td>Amridge University</td>\n",
       "      <td>Private nonprofit</td>\n",
       "      <td>12300.0</td>\n",
       "      <td>NaN</td>\n",
       "      <td>None</td>\n",
       "      <td>None</td>\n",
       "      <td>2013</td>\n",
       "      <td>322.0</td>\n",
       "      <td>NaN</td>\n",
       "      <td>NaN</td>\n",
       "      <td>NaN</td>\n",
       "      <td>AL</td>\n",
       "      <td>26995</td>\n",
       "      <td>0.6667</td>\n",
       "      <td>NaN</td>\n",
       "      <td>38100.0</td>\n",
       "    </tr>\n",
       "    <tr>\n",
       "      <th>100706</th>\n",
       "      <td>University of Alabama in Huntsville</td>\n",
       "      <td>Public</td>\n",
       "      <td>20306.0</td>\n",
       "      <td>NaN</td>\n",
       "      <td>None</td>\n",
       "      <td>None</td>\n",
       "      <td>2013</td>\n",
       "      <td>5525.0</td>\n",
       "      <td>580.0</td>\n",
       "      <td>575.0</td>\n",
       "      <td>NaN</td>\n",
       "      <td>AL</td>\n",
       "      <td>24738</td>\n",
       "      <td>0.4835</td>\n",
       "      <td>1155.0</td>\n",
       "      <td>46600.0</td>\n",
       "    </tr>\n",
       "    <tr>\n",
       "      <th>100724</th>\n",
       "      <td>Alabama State University</td>\n",
       "      <td>Public</td>\n",
       "      <td>17400.0</td>\n",
       "      <td>NaN</td>\n",
       "      <td>None</td>\n",
       "      <td>None</td>\n",
       "      <td>2013</td>\n",
       "      <td>5354.0</td>\n",
       "      <td>425.0</td>\n",
       "      <td>430.0</td>\n",
       "      <td>NaN</td>\n",
       "      <td>AL</td>\n",
       "      <td>33452</td>\n",
       "      <td>0.2517</td>\n",
       "      <td>855.0</td>\n",
       "      <td>27800.0</td>\n",
       "    </tr>\n",
       "  </tbody>\n",
       "</table>\n",
       "</div>"
      ],
      "text/plain": [
       "                                     INSTNM               type  \\\n",
       "UNITID                                                           \n",
       "100654             Alabama A & M University             Public   \n",
       "100663  University of Alabama at Birmingham             Public   \n",
       "100690                   Amridge University  Private nonprofit   \n",
       "100706  University of Alabama in Huntsville             Public   \n",
       "100724             Alabama State University             Public   \n",
       "\n",
       "        AvgYrCostAcademic  AvgYrCostProgram medEarn10yrs medEarn6yrs  Year  \\\n",
       "UNITID                                                                       \n",
       "100654            18888.0               NaN         None        None  2013   \n",
       "100663            19990.0               NaN         None        None  2013   \n",
       "100690            12300.0               NaN         None        None  2013   \n",
       "100706            20306.0               NaN         None        None  2013   \n",
       "100724            17400.0               NaN         None        None  2013   \n",
       "\n",
       "        NumStudents   Math  Verbal  Writing State DebtAtGrad  completionRate  \\\n",
       "UNITID                                                                         \n",
       "100654       4051.0  400.0   410.0      NaN    AL    33611.5          0.2914   \n",
       "100663      11200.0  585.0   580.0      NaN    AL      23117          0.5377   \n",
       "100690        322.0    NaN     NaN      NaN    AL      26995          0.6667   \n",
       "100706       5525.0  580.0   575.0      NaN    AL      24738          0.4835   \n",
       "100724       5354.0  425.0   430.0      NaN    AL      33452          0.2517   \n",
       "\n",
       "           sat   earn10  \n",
       "UNITID                   \n",
       "100654   810.0  31400.0  \n",
       "100663  1165.0  40300.0  \n",
       "100690     NaN  38100.0  \n",
       "100706  1155.0  46600.0  \n",
       "100724   855.0  27800.0  "
      ]
     },
     "execution_count": 248,
     "metadata": {},
     "output_type": "execute_result"
    }
   ],
   "source": [
    "df_joined.head()"
   ]
  },
  {
   "cell_type": "code",
   "execution_count": 249,
   "metadata": {
    "collapsed": false
   },
   "outputs": [
    {
     "data": {
      "text/html": [
       "<div>\n",
       "<table border=\"1\" class=\"dataframe\">\n",
       "  <thead>\n",
       "    <tr style=\"text-align: right;\">\n",
       "      <th></th>\n",
       "      <th>sat_scaled</th>\n",
       "      <th>cost</th>\n",
       "      <th>earn</th>\n",
       "      <th>gradrate</th>\n",
       "      <th>PCA0</th>\n",
       "      <th>PCA1</th>\n",
       "      <th>PCA2</th>\n",
       "      <th>PCA3</th>\n",
       "      <th>KM_cluster</th>\n",
       "      <th>KM_PCA_cluster</th>\n",
       "      <th>cluster_ordinal</th>\n",
       "    </tr>\n",
       "    <tr>\n",
       "      <th>UNITID</th>\n",
       "      <th></th>\n",
       "      <th></th>\n",
       "      <th></th>\n",
       "      <th></th>\n",
       "      <th></th>\n",
       "      <th></th>\n",
       "      <th></th>\n",
       "      <th></th>\n",
       "      <th></th>\n",
       "      <th></th>\n",
       "      <th></th>\n",
       "    </tr>\n",
       "  </thead>\n",
       "  <tbody>\n",
       "    <tr>\n",
       "      <th>100654</th>\n",
       "      <td>-1.786281</td>\n",
       "      <td>-1.105436</td>\n",
       "      <td>-1.152841</td>\n",
       "      <td>-1.497584</td>\n",
       "      <td>-2.801312</td>\n",
       "      <td>0.091359</td>\n",
       "      <td>-0.293493</td>\n",
       "      <td>0.206778</td>\n",
       "      <td>0</td>\n",
       "      <td>0</td>\n",
       "      <td>0</td>\n",
       "    </tr>\n",
       "    <tr>\n",
       "      <th>100663</th>\n",
       "      <td>0.805767</td>\n",
       "      <td>-1.019907</td>\n",
       "      <td>-0.288142</td>\n",
       "      <td>-0.093461</td>\n",
       "      <td>-0.208124</td>\n",
       "      <td>-0.920128</td>\n",
       "      <td>0.791996</td>\n",
       "      <td>-0.513832</td>\n",
       "      <td>1</td>\n",
       "      <td>2</td>\n",
       "      <td>2</td>\n",
       "    </tr>\n",
       "    <tr>\n",
       "      <th>100706</th>\n",
       "      <td>0.732752</td>\n",
       "      <td>-0.995382</td>\n",
       "      <td>0.323949</td>\n",
       "      <td>-0.402448</td>\n",
       "      <td>-0.111313</td>\n",
       "      <td>-1.143929</td>\n",
       "      <td>0.165254</td>\n",
       "      <td>-0.668090</td>\n",
       "      <td>1</td>\n",
       "      <td>2</td>\n",
       "      <td>2</td>\n",
       "    </tr>\n",
       "    <tr>\n",
       "      <th>100724</th>\n",
       "      <td>-1.457712</td>\n",
       "      <td>-1.220923</td>\n",
       "      <td>-1.502608</td>\n",
       "      <td>-1.723908</td>\n",
       "      <td>-2.966780</td>\n",
       "      <td>0.091731</td>\n",
       "      <td>0.049002</td>\n",
       "      <td>-0.180742</td>\n",
       "      <td>0</td>\n",
       "      <td>0</td>\n",
       "      <td>0</td>\n",
       "    </tr>\n",
       "    <tr>\n",
       "      <th>100751</th>\n",
       "      <td>0.513705</td>\n",
       "      <td>-0.497811</td>\n",
       "      <td>-0.084111</td>\n",
       "      <td>0.640811</td>\n",
       "      <td>0.361588</td>\n",
       "      <td>-0.546345</td>\n",
       "      <td>0.687258</td>\n",
       "      <td>0.166913</td>\n",
       "      <td>1</td>\n",
       "      <td>2</td>\n",
       "      <td>2</td>\n",
       "    </tr>\n",
       "  </tbody>\n",
       "</table>\n",
       "</div>"
      ],
      "text/plain": [
       "        sat_scaled      cost      earn  gradrate      PCA0      PCA1  \\\n",
       "UNITID                                                                 \n",
       "100654   -1.786281 -1.105436 -1.152841 -1.497584 -2.801312  0.091359   \n",
       "100663    0.805767 -1.019907 -0.288142 -0.093461 -0.208124 -0.920128   \n",
       "100706    0.732752 -0.995382  0.323949 -0.402448 -0.111313 -1.143929   \n",
       "100724   -1.457712 -1.220923 -1.502608 -1.723908 -2.966780  0.091731   \n",
       "100751    0.513705 -0.497811 -0.084111  0.640811  0.361588 -0.546345   \n",
       "\n",
       "            PCA2      PCA3  KM_cluster  KM_PCA_cluster  cluster_ordinal  \n",
       "UNITID                                                                   \n",
       "100654 -0.293493  0.206778           0               0                0  \n",
       "100663  0.791996 -0.513832           1               2                2  \n",
       "100706  0.165254 -0.668090           1               2                2  \n",
       "100724  0.049002 -0.180742           0               0                0  \n",
       "100751  0.687258  0.166913           1               2                2  "
      ]
     },
     "execution_count": 249,
     "metadata": {},
     "output_type": "execute_result"
    }
   ],
   "source": [
    "dfscale.head()"
   ]
  },
  {
   "cell_type": "code",
   "execution_count": 251,
   "metadata": {
    "collapsed": false
   },
   "outputs": [
    {
     "data": {
      "text/html": [
       "<div>\n",
       "<table border=\"1\" class=\"dataframe\">\n",
       "  <thead>\n",
       "    <tr style=\"text-align: right;\">\n",
       "      <th></th>\n",
       "      <th>sat_scaled</th>\n",
       "      <th>cost</th>\n",
       "      <th>earn</th>\n",
       "      <th>gradrate</th>\n",
       "      <th>PCA0</th>\n",
       "      <th>PCA1</th>\n",
       "      <th>PCA2</th>\n",
       "      <th>PCA3</th>\n",
       "      <th>KM_cluster</th>\n",
       "      <th>KM_PCA_cluster</th>\n",
       "      <th>...</th>\n",
       "      <th>Year</th>\n",
       "      <th>NumStudents</th>\n",
       "      <th>Math</th>\n",
       "      <th>Verbal</th>\n",
       "      <th>Writing</th>\n",
       "      <th>State</th>\n",
       "      <th>DebtAtGrad</th>\n",
       "      <th>completionRate</th>\n",
       "      <th>sat</th>\n",
       "      <th>earn10</th>\n",
       "    </tr>\n",
       "    <tr>\n",
       "      <th>UNITID</th>\n",
       "      <th></th>\n",
       "      <th></th>\n",
       "      <th></th>\n",
       "      <th></th>\n",
       "      <th></th>\n",
       "      <th></th>\n",
       "      <th></th>\n",
       "      <th></th>\n",
       "      <th></th>\n",
       "      <th></th>\n",
       "      <th></th>\n",
       "      <th></th>\n",
       "      <th></th>\n",
       "      <th></th>\n",
       "      <th></th>\n",
       "      <th></th>\n",
       "      <th></th>\n",
       "      <th></th>\n",
       "      <th></th>\n",
       "      <th></th>\n",
       "      <th></th>\n",
       "    </tr>\n",
       "  </thead>\n",
       "  <tbody>\n",
       "    <tr>\n",
       "      <th>100654</th>\n",
       "      <td>-1.786281</td>\n",
       "      <td>-1.105436</td>\n",
       "      <td>-1.152841</td>\n",
       "      <td>-1.497584</td>\n",
       "      <td>-2.801312</td>\n",
       "      <td>0.091359</td>\n",
       "      <td>-0.293493</td>\n",
       "      <td>0.206778</td>\n",
       "      <td>0</td>\n",
       "      <td>0</td>\n",
       "      <td>...</td>\n",
       "      <td>2013</td>\n",
       "      <td>4051.0</td>\n",
       "      <td>400.0</td>\n",
       "      <td>410.0</td>\n",
       "      <td>NaN</td>\n",
       "      <td>AL</td>\n",
       "      <td>33611.5</td>\n",
       "      <td>0.2914</td>\n",
       "      <td>810.0</td>\n",
       "      <td>31400.0</td>\n",
       "    </tr>\n",
       "    <tr>\n",
       "      <th>100663</th>\n",
       "      <td>0.805767</td>\n",
       "      <td>-1.019907</td>\n",
       "      <td>-0.288142</td>\n",
       "      <td>-0.093461</td>\n",
       "      <td>-0.208124</td>\n",
       "      <td>-0.920128</td>\n",
       "      <td>0.791996</td>\n",
       "      <td>-0.513832</td>\n",
       "      <td>1</td>\n",
       "      <td>2</td>\n",
       "      <td>...</td>\n",
       "      <td>2013</td>\n",
       "      <td>11200.0</td>\n",
       "      <td>585.0</td>\n",
       "      <td>580.0</td>\n",
       "      <td>NaN</td>\n",
       "      <td>AL</td>\n",
       "      <td>23117</td>\n",
       "      <td>0.5377</td>\n",
       "      <td>1165.0</td>\n",
       "      <td>40300.0</td>\n",
       "    </tr>\n",
       "    <tr>\n",
       "      <th>100706</th>\n",
       "      <td>0.732752</td>\n",
       "      <td>-0.995382</td>\n",
       "      <td>0.323949</td>\n",
       "      <td>-0.402448</td>\n",
       "      <td>-0.111313</td>\n",
       "      <td>-1.143929</td>\n",
       "      <td>0.165254</td>\n",
       "      <td>-0.668090</td>\n",
       "      <td>1</td>\n",
       "      <td>2</td>\n",
       "      <td>...</td>\n",
       "      <td>2013</td>\n",
       "      <td>5525.0</td>\n",
       "      <td>580.0</td>\n",
       "      <td>575.0</td>\n",
       "      <td>NaN</td>\n",
       "      <td>AL</td>\n",
       "      <td>24738</td>\n",
       "      <td>0.4835</td>\n",
       "      <td>1155.0</td>\n",
       "      <td>46600.0</td>\n",
       "    </tr>\n",
       "    <tr>\n",
       "      <th>100724</th>\n",
       "      <td>-1.457712</td>\n",
       "      <td>-1.220923</td>\n",
       "      <td>-1.502608</td>\n",
       "      <td>-1.723908</td>\n",
       "      <td>-2.966780</td>\n",
       "      <td>0.091731</td>\n",
       "      <td>0.049002</td>\n",
       "      <td>-0.180742</td>\n",
       "      <td>0</td>\n",
       "      <td>0</td>\n",
       "      <td>...</td>\n",
       "      <td>2013</td>\n",
       "      <td>5354.0</td>\n",
       "      <td>425.0</td>\n",
       "      <td>430.0</td>\n",
       "      <td>NaN</td>\n",
       "      <td>AL</td>\n",
       "      <td>33452</td>\n",
       "      <td>0.2517</td>\n",
       "      <td>855.0</td>\n",
       "      <td>27800.0</td>\n",
       "    </tr>\n",
       "    <tr>\n",
       "      <th>100751</th>\n",
       "      <td>0.513705</td>\n",
       "      <td>-0.497811</td>\n",
       "      <td>-0.084111</td>\n",
       "      <td>0.640811</td>\n",
       "      <td>0.361588</td>\n",
       "      <td>-0.546345</td>\n",
       "      <td>0.687258</td>\n",
       "      <td>0.166913</td>\n",
       "      <td>1</td>\n",
       "      <td>2</td>\n",
       "      <td>...</td>\n",
       "      <td>2013</td>\n",
       "      <td>28692.0</td>\n",
       "      <td>570.0</td>\n",
       "      <td>555.0</td>\n",
       "      <td>540.0</td>\n",
       "      <td>AL</td>\n",
       "      <td>24000</td>\n",
       "      <td>0.6665</td>\n",
       "      <td>1125.0</td>\n",
       "      <td>42400.0</td>\n",
       "    </tr>\n",
       "  </tbody>\n",
       "</table>\n",
       "<p>5 rows × 27 columns</p>\n",
       "</div>"
      ],
      "text/plain": [
       "        sat_scaled      cost      earn  gradrate      PCA0      PCA1  \\\n",
       "UNITID                                                                 \n",
       "100654   -1.786281 -1.105436 -1.152841 -1.497584 -2.801312  0.091359   \n",
       "100663    0.805767 -1.019907 -0.288142 -0.093461 -0.208124 -0.920128   \n",
       "100706    0.732752 -0.995382  0.323949 -0.402448 -0.111313 -1.143929   \n",
       "100724   -1.457712 -1.220923 -1.502608 -1.723908 -2.966780  0.091731   \n",
       "100751    0.513705 -0.497811 -0.084111  0.640811  0.361588 -0.546345   \n",
       "\n",
       "            PCA2      PCA3  KM_cluster  KM_PCA_cluster   ...     Year  \\\n",
       "UNITID                                                   ...            \n",
       "100654 -0.293493  0.206778           0               0   ...     2013   \n",
       "100663  0.791996 -0.513832           1               2   ...     2013   \n",
       "100706  0.165254 -0.668090           1               2   ...     2013   \n",
       "100724  0.049002 -0.180742           0               0   ...     2013   \n",
       "100751  0.687258  0.166913           1               2   ...     2013   \n",
       "\n",
       "       NumStudents   Math  Verbal  Writing State DebtAtGrad  completionRate  \\\n",
       "UNITID                                                                        \n",
       "100654      4051.0  400.0   410.0      NaN    AL    33611.5          0.2914   \n",
       "100663     11200.0  585.0   580.0      NaN    AL      23117          0.5377   \n",
       "100706      5525.0  580.0   575.0      NaN    AL      24738          0.4835   \n",
       "100724      5354.0  425.0   430.0      NaN    AL      33452          0.2517   \n",
       "100751     28692.0  570.0   555.0    540.0    AL      24000          0.6665   \n",
       "\n",
       "           sat   earn10  \n",
       "UNITID                   \n",
       "100654   810.0  31400.0  \n",
       "100663  1165.0  40300.0  \n",
       "100706  1155.0  46600.0  \n",
       "100724   855.0  27800.0  \n",
       "100751  1125.0  42400.0  \n",
       "\n",
       "[5 rows x 27 columns]"
      ]
     },
     "execution_count": 251,
     "metadata": {},
     "output_type": "execute_result"
    }
   ],
   "source": [
    "df_out = pandas.concat([dfscale, df_joined], axis=1, join='inner')\n",
    "df_out.head()"
   ]
  },
  {
   "cell_type": "code",
   "execution_count": 252,
   "metadata": {
    "collapsed": false
   },
   "outputs": [
    {
     "data": {
      "text/plain": [
       "Index([u'sat_scaled', u'cost', u'earn', u'gradrate', u'PCA0', u'PCA1', u'PCA2',\n",
       "       u'PCA3', u'KM_cluster', u'KM_PCA_cluster', u'cluster_ordinal',\n",
       "       u'INSTNM', u'type', u'AvgYrCostAcademic', u'AvgYrCostProgram',\n",
       "       u'medEarn10yrs', u'medEarn6yrs', u'Year', u'NumStudents', u'Math',\n",
       "       u'Verbal', u'Writing', u'State', u'DebtAtGrad', u'completionRate',\n",
       "       u'sat', u'earn10'],\n",
       "      dtype='object')"
      ]
     },
     "execution_count": 252,
     "metadata": {},
     "output_type": "execute_result"
    }
   ],
   "source": [
    "df_out.columns"
   ]
  },
  {
   "cell_type": "code",
   "execution_count": 253,
   "metadata": {
    "collapsed": false
   },
   "outputs": [
    {
     "data": {
      "text/html": [
       "<div>\n",
       "<table border=\"1\" class=\"dataframe\">\n",
       "  <thead>\n",
       "    <tr style=\"text-align: right;\">\n",
       "      <th></th>\n",
       "      <th>sat</th>\n",
       "      <th>AvgYrCostAcademic</th>\n",
       "      <th>earn10</th>\n",
       "    </tr>\n",
       "    <tr>\n",
       "      <th>cluster_ordinal</th>\n",
       "      <th></th>\n",
       "      <th></th>\n",
       "      <th></th>\n",
       "    </tr>\n",
       "  </thead>\n",
       "  <tbody>\n",
       "    <tr>\n",
       "      <th>0</th>\n",
       "      <td>925.0</td>\n",
       "      <td>18844.5</td>\n",
       "      <td>34200.0</td>\n",
       "    </tr>\n",
       "    <tr>\n",
       "      <th>1</th>\n",
       "      <td>975.0</td>\n",
       "      <td>34807.0</td>\n",
       "      <td>37400.0</td>\n",
       "    </tr>\n",
       "    <tr>\n",
       "      <th>2</th>\n",
       "      <td>1035.0</td>\n",
       "      <td>20534.5</td>\n",
       "      <td>42100.0</td>\n",
       "    </tr>\n",
       "    <tr>\n",
       "      <th>3</th>\n",
       "      <td>1075.0</td>\n",
       "      <td>42474.0</td>\n",
       "      <td>43700.0</td>\n",
       "    </tr>\n",
       "    <tr>\n",
       "      <th>4</th>\n",
       "      <td>1180.0</td>\n",
       "      <td>23701.5</td>\n",
       "      <td>50950.0</td>\n",
       "    </tr>\n",
       "    <tr>\n",
       "      <th>5</th>\n",
       "      <td>1195.0</td>\n",
       "      <td>51043.0</td>\n",
       "      <td>52150.0</td>\n",
       "    </tr>\n",
       "    <tr>\n",
       "      <th>6</th>\n",
       "      <td>1390.0</td>\n",
       "      <td>58481.0</td>\n",
       "      <td>66000.0</td>\n",
       "    </tr>\n",
       "  </tbody>\n",
       "</table>\n",
       "</div>"
      ],
      "text/plain": [
       "                    sat  AvgYrCostAcademic   earn10\n",
       "cluster_ordinal                                    \n",
       "0                 925.0            18844.5  34200.0\n",
       "1                 975.0            34807.0  37400.0\n",
       "2                1035.0            20534.5  42100.0\n",
       "3                1075.0            42474.0  43700.0\n",
       "4                1180.0            23701.5  50950.0\n",
       "5                1195.0            51043.0  52150.0\n",
       "6                1390.0            58481.0  66000.0"
      ]
     },
     "execution_count": 253,
     "metadata": {},
     "output_type": "execute_result"
    }
   ],
   "source": [
    "out_groups = df_out[['cluster_ordinal','sat','AvgYrCostAcademic','earn10']].groupby('cluster_ordinal')\n",
    "df_cluster_lookup = out_groups.median()\n",
    "df_cluster_lookup"
   ]
  },
  {
   "cell_type": "markdown",
   "metadata": {},
   "source": [
    "There is a handy pandas function for our purposes called 'argsort'.  We can use it to return the closest clusters to our query SAT score, in order."
   ]
  },
  {
   "cell_type": "code",
   "execution_count": 259,
   "metadata": {
    "collapsed": false
   },
   "outputs": [
    {
     "data": {
      "text/plain": [
       "cluster_ordinal\n",
       "0    275.0\n",
       "1    225.0\n",
       "2    165.0\n",
       "3    125.0\n",
       "4     20.0\n",
       "5      5.0\n",
       "6    190.0\n",
       "Name: sat, dtype: float64"
      ]
     },
     "execution_count": 259,
     "metadata": {},
     "output_type": "execute_result"
    }
   ],
   "source": [
    "query_sat = 1200\n",
    "(df_cluster_lookup.sat - query_sat).abs()"
   ]
  },
  {
   "cell_type": "code",
   "execution_count": 260,
   "metadata": {
    "collapsed": false
   },
   "outputs": [
    {
     "data": {
      "text/plain": [
       "cluster_ordinal\n",
       "0    5\n",
       "1    4\n",
       "2    3\n",
       "3    2\n",
       "4    6\n",
       "5    1\n",
       "6    0\n",
       "Name: sat, dtype: int64"
      ]
     },
     "execution_count": 260,
     "metadata": {},
     "output_type": "execute_result"
    }
   ],
   "source": [
    "(df_cluster_lookup.sat - query_sat).abs().argsort()"
   ]
  },
  {
   "cell_type": "code",
   "execution_count": 263,
   "metadata": {
    "collapsed": false
   },
   "outputs": [
    {
     "data": {
      "text/html": [
       "<div>\n",
       "<table border=\"1\" class=\"dataframe\">\n",
       "  <thead>\n",
       "    <tr style=\"text-align: right;\">\n",
       "      <th></th>\n",
       "      <th>sat</th>\n",
       "      <th>AvgYrCostAcademic</th>\n",
       "      <th>earn10</th>\n",
       "    </tr>\n",
       "    <tr>\n",
       "      <th>cluster_ordinal</th>\n",
       "      <th></th>\n",
       "      <th></th>\n",
       "      <th></th>\n",
       "    </tr>\n",
       "  </thead>\n",
       "  <tbody>\n",
       "    <tr>\n",
       "      <th>5</th>\n",
       "      <td>1195.0</td>\n",
       "      <td>51043.0</td>\n",
       "      <td>52150.0</td>\n",
       "    </tr>\n",
       "  </tbody>\n",
       "</table>\n",
       "</div>"
      ],
      "text/plain": [
       "                    sat  AvgYrCostAcademic   earn10\n",
       "cluster_ordinal                                    \n",
       "5                1195.0            51043.0  52150.0"
      ]
     },
     "execution_count": 263,
     "metadata": {},
     "output_type": "execute_result"
    }
   ],
   "source": [
    "\n",
    "df_cluster_lookup.iloc[(df_cluster_lookup.sat - query_sat).abs().argsort()[:1]]"
   ]
  },
  {
   "cell_type": "markdown",
   "metadata": {},
   "source": [
    "I still like having ordinal labels for the clusters-- it clearly validates our argsort technique.  Now, let's get to picking out some schools, given a cluster and a budget. "
   ]
  },
  {
   "cell_type": "code",
   "execution_count": 267,
   "metadata": {
    "collapsed": false
   },
   "outputs": [
    {
     "data": {
      "text/html": [
       "<div>\n",
       "<table border=\"1\" class=\"dataframe\">\n",
       "  <thead>\n",
       "    <tr style=\"text-align: right;\">\n",
       "      <th></th>\n",
       "      <th>sat_scaled</th>\n",
       "      <th>cost</th>\n",
       "      <th>earn</th>\n",
       "      <th>gradrate</th>\n",
       "      <th>PCA0</th>\n",
       "      <th>PCA1</th>\n",
       "      <th>PCA2</th>\n",
       "      <th>PCA3</th>\n",
       "      <th>KM_cluster</th>\n",
       "      <th>KM_PCA_cluster</th>\n",
       "      <th>...</th>\n",
       "      <th>Year</th>\n",
       "      <th>NumStudents</th>\n",
       "      <th>Math</th>\n",
       "      <th>Verbal</th>\n",
       "      <th>Writing</th>\n",
       "      <th>State</th>\n",
       "      <th>DebtAtGrad</th>\n",
       "      <th>completionRate</th>\n",
       "      <th>sat</th>\n",
       "      <th>earn10</th>\n",
       "    </tr>\n",
       "    <tr>\n",
       "      <th>UNITID</th>\n",
       "      <th></th>\n",
       "      <th></th>\n",
       "      <th></th>\n",
       "      <th></th>\n",
       "      <th></th>\n",
       "      <th></th>\n",
       "      <th></th>\n",
       "      <th></th>\n",
       "      <th></th>\n",
       "      <th></th>\n",
       "      <th></th>\n",
       "      <th></th>\n",
       "      <th></th>\n",
       "      <th></th>\n",
       "      <th></th>\n",
       "      <th></th>\n",
       "      <th></th>\n",
       "      <th></th>\n",
       "      <th></th>\n",
       "      <th></th>\n",
       "      <th></th>\n",
       "    </tr>\n",
       "  </thead>\n",
       "  <tbody>\n",
       "    <tr>\n",
       "      <th>153269</th>\n",
       "      <td>1.024813</td>\n",
       "      <td>0.725356</td>\n",
       "      <td>1.208081</td>\n",
       "      <td>0.985713</td>\n",
       "      <td>1.977001</td>\n",
       "      <td>-0.233610</td>\n",
       "      <td>-0.209977</td>\n",
       "      <td>-0.016643</td>\n",
       "      <td>5</td>\n",
       "      <td>1</td>\n",
       "      <td>...</td>\n",
       "      <td>2013</td>\n",
       "      <td>3310.0</td>\n",
       "      <td>610.0</td>\n",
       "      <td>585.0</td>\n",
       "      <td>NaN</td>\n",
       "      <td>IA</td>\n",
       "      <td>25000</td>\n",
       "      <td>0.7270</td>\n",
       "      <td>1195.0</td>\n",
       "      <td>55700.0</td>\n",
       "    </tr>\n",
       "    <tr>\n",
       "      <th>170301</th>\n",
       "      <td>1.024813</td>\n",
       "      <td>0.423911</td>\n",
       "      <td>0.003330</td>\n",
       "      <td>1.295841</td>\n",
       "      <td>1.436808</td>\n",
       "      <td>0.042390</td>\n",
       "      <td>0.896860</td>\n",
       "      <td>0.196428</td>\n",
       "      <td>5</td>\n",
       "      <td>1</td>\n",
       "      <td>...</td>\n",
       "      <td>2013</td>\n",
       "      <td>3296.0</td>\n",
       "      <td>605.0</td>\n",
       "      <td>590.0</td>\n",
       "      <td>NaN</td>\n",
       "      <td>MI</td>\n",
       "      <td>27000</td>\n",
       "      <td>0.7814</td>\n",
       "      <td>1195.0</td>\n",
       "      <td>43300.0</td>\n",
       "    </tr>\n",
       "    <tr>\n",
       "      <th>121309</th>\n",
       "      <td>0.696244</td>\n",
       "      <td>0.770604</td>\n",
       "      <td>0.683431</td>\n",
       "      <td>0.950368</td>\n",
       "      <td>1.552051</td>\n",
       "      <td>0.124225</td>\n",
       "      <td>0.008902</td>\n",
       "      <td>0.156491</td>\n",
       "      <td>5</td>\n",
       "      <td>1</td>\n",
       "      <td>...</td>\n",
       "      <td>2013</td>\n",
       "      <td>2543.0</td>\n",
       "      <td>575.0</td>\n",
       "      <td>575.0</td>\n",
       "      <td>NaN</td>\n",
       "      <td>CA</td>\n",
       "      <td>24951</td>\n",
       "      <td>0.7208</td>\n",
       "      <td>1150.0</td>\n",
       "      <td>50300.0</td>\n",
       "    </tr>\n",
       "  </tbody>\n",
       "</table>\n",
       "<p>3 rows × 27 columns</p>\n",
       "</div>"
      ],
      "text/plain": [
       "        sat_scaled      cost      earn  gradrate      PCA0      PCA1  \\\n",
       "UNITID                                                                 \n",
       "153269    1.024813  0.725356  1.208081  0.985713  1.977001 -0.233610   \n",
       "170301    1.024813  0.423911  0.003330  1.295841  1.436808  0.042390   \n",
       "121309    0.696244  0.770604  0.683431  0.950368  1.552051  0.124225   \n",
       "\n",
       "            PCA2      PCA3  KM_cluster  KM_PCA_cluster   ...     Year  \\\n",
       "UNITID                                                   ...            \n",
       "153269 -0.209977 -0.016643           5               1   ...     2013   \n",
       "170301  0.896860  0.196428           5               1   ...     2013   \n",
       "121309  0.008902  0.156491           5               1   ...     2013   \n",
       "\n",
       "       NumStudents   Math  Verbal  Writing State DebtAtGrad  completionRate  \\\n",
       "UNITID                                                                        \n",
       "153269      3310.0  610.0   585.0      NaN    IA      25000          0.7270   \n",
       "170301      3296.0  605.0   590.0      NaN    MI      27000          0.7814   \n",
       "121309      2543.0  575.0   575.0      NaN    CA      24951          0.7208   \n",
       "\n",
       "           sat   earn10  \n",
       "UNITID                   \n",
       "153269  1195.0  55700.0  \n",
       "170301  1195.0  43300.0  \n",
       "121309  1150.0  50300.0  \n",
       "\n",
       "[3 rows x 27 columns]"
      ]
     },
     "execution_count": 267,
     "metadata": {},
     "output_type": "execute_result"
    }
   ],
   "source": [
    "query_sat = 1200\n",
    "query_maxcost = 45000\n",
    "query_sat_add_max = 10\n",
    "query_cluster = 5 # got this with argsort above\n",
    "\n",
    "c1 = df_out['cluster_ordinal'] == query_cluster\n",
    "c2 = df_out['AvgYrCostAcademic'] <= query_maxcost\n",
    "c3 = df_out['sat'] <= query_sat + query_sat_add_max\n",
    "condition = c1 & c2 & c3\n",
    "\n",
    "df_out.loc[condition].sort_values(by='sat', ascending=False)[0:3]"
   ]
  },
  {
   "cell_type": "markdown",
   "metadata": {},
   "source": [
    "Really we just need the UNITIDS"
   ]
  },
  {
   "cell_type": "code",
   "execution_count": 268,
   "metadata": {
    "collapsed": false
   },
   "outputs": [
    {
     "data": {
      "text/plain": [
       "Int64Index([153269, 170301, 121309], dtype='int64', name=u'UNITID')"
      ]
     },
     "execution_count": 268,
     "metadata": {},
     "output_type": "execute_result"
    }
   ],
   "source": [
    "df_out.loc[condition].sort_values(by='sat', ascending=False)[0:3].index"
   ]
  },
  {
   "cell_type": "code",
   "execution_count": 271,
   "metadata": {
    "collapsed": false
   },
   "outputs": [
    {
     "data": {
      "text/html": [
       "<div>\n",
       "<table border=\"1\" class=\"dataframe\">\n",
       "  <thead>\n",
       "    <tr style=\"text-align: right;\">\n",
       "      <th></th>\n",
       "      <th>INSTNM</th>\n",
       "      <th>type</th>\n",
       "      <th>NumStudents</th>\n",
       "      <th>AvgYrCostAcademic</th>\n",
       "      <th>sat</th>\n",
       "      <th>earn10</th>\n",
       "    </tr>\n",
       "    <tr>\n",
       "      <th>UNITID</th>\n",
       "      <th></th>\n",
       "      <th></th>\n",
       "      <th></th>\n",
       "      <th></th>\n",
       "      <th></th>\n",
       "      <th></th>\n",
       "    </tr>\n",
       "  </thead>\n",
       "  <tbody>\n",
       "    <tr>\n",
       "      <th>153269</th>\n",
       "      <td>Drake University</td>\n",
       "      <td>Private nonprofit</td>\n",
       "      <td>3310.0</td>\n",
       "      <td>42477.0</td>\n",
       "      <td>1195.0</td>\n",
       "      <td>55700.0</td>\n",
       "    </tr>\n",
       "    <tr>\n",
       "      <th>170301</th>\n",
       "      <td>Hope College</td>\n",
       "      <td>Private nonprofit</td>\n",
       "      <td>3296.0</td>\n",
       "      <td>38593.0</td>\n",
       "      <td>1195.0</td>\n",
       "      <td>43300.0</td>\n",
       "    </tr>\n",
       "    <tr>\n",
       "      <th>121309</th>\n",
       "      <td>Point Loma Nazarene University</td>\n",
       "      <td>Private nonprofit</td>\n",
       "      <td>2543.0</td>\n",
       "      <td>43060.0</td>\n",
       "      <td>1150.0</td>\n",
       "      <td>50300.0</td>\n",
       "    </tr>\n",
       "  </tbody>\n",
       "</table>\n",
       "</div>"
      ],
      "text/plain": [
       "                                INSTNM               type  NumStudents  \\\n",
       "UNITID                                                                   \n",
       "153269                Drake University  Private nonprofit       3310.0   \n",
       "170301                    Hope College  Private nonprofit       3296.0   \n",
       "121309  Point Loma Nazarene University  Private nonprofit       2543.0   \n",
       "\n",
       "        AvgYrCostAcademic     sat   earn10  \n",
       "UNITID                                      \n",
       "153269            42477.0  1195.0  55700.0  \n",
       "170301            38593.0  1195.0  43300.0  \n",
       "121309            43060.0  1150.0  50300.0  "
      ]
     },
     "execution_count": 271,
     "metadata": {},
     "output_type": "execute_result"
    }
   ],
   "source": [
    "picks = df_out.loc[condition].sort_values(by='sat', ascending=False)[0:3].index\n",
    "\n",
    "df_response = df_joined.loc[picks, \n",
    "    ['INSTNM', 'type', 'NumStudents', 'AvgYrCostAcademic', 'sat', 'earn10']]\n",
    "df_response"
   ]
  },
  {
   "cell_type": "code",
   "execution_count": 274,
   "metadata": {
    "collapsed": false
   },
   "outputs": [
    {
     "data": {
      "text/plain": [
       "'[{\"INSTNM\":\"Drake University\",\"type\":\"Private nonprofit\",\"NumStudents\":3310.0,\"AvgYrCostAcademic\":42477.0,\"sat\":1195.0,\"earn10\":55700.0},{\"INSTNM\":\"Hope College\",\"type\":\"Private nonprofit\",\"NumStudents\":3296.0,\"AvgYrCostAcademic\":38593.0,\"sat\":1195.0,\"earn10\":43300.0},{\"INSTNM\":\"Point Loma Nazarene University\",\"type\":\"Private nonprofit\",\"NumStudents\":2543.0,\"AvgYrCostAcademic\":43060.0,\"sat\":1150.0,\"earn10\":50300.0}]'"
      ]
     },
     "execution_count": 274,
     "metadata": {},
     "output_type": "execute_result"
    }
   ],
   "source": [
    "df_response.to_json(orient='records')"
   ]
  },
  {
   "cell_type": "code",
   "execution_count": null,
   "metadata": {
    "collapsed": true
   },
   "outputs": [],
   "source": []
  }
 ],
 "metadata": {
  "kernelspec": {
   "display_name": "Python 2",
   "language": "python",
   "name": "python2"
  },
  "language_info": {
   "codemirror_mode": {
    "name": "ipython",
    "version": 2
   },
   "file_extension": ".py",
   "mimetype": "text/x-python",
   "name": "python",
   "nbconvert_exporter": "python",
   "pygments_lexer": "ipython2",
   "version": "2.7.11"
  }
 },
 "nbformat": 4,
 "nbformat_minor": 0
}
