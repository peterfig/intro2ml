{
 "cells": [
  {
   "cell_type": "code",
   "execution_count": 9,
   "metadata": {
    "collapsed": false
   },
   "outputs": [],
   "source": [
    "import numpy as np\n",
    "import pylab as pl\n",
    "from sklearn import svm, datasets, neighbors\n",
    "from sklearn.utils import shuffle\n",
    "from sklearn.metrics import roc_curve, auc\n",
    "\n",
    "random_state = np.random.RandomState(0)\n"
   ]
  },
  {
   "cell_type": "code",
   "execution_count": null,
   "metadata": {
    "collapsed": true
   },
   "outputs": [],
   "source": [
    "datasets."
   ]
  },
  {
   "cell_type": "code",
   "execution_count": 2,
   "metadata": {
    "collapsed": false
   },
   "outputs": [],
   "source": [
    "iris = datasets.load_iris()\n",
    "X = iris.data\n",
    "y = iris.target\n",
    "\n",
    "# Make it a binary classification problem by removing the third class\n",
    "X, y = X[y != 2], y[y != 2]\n",
    "n_samples, n_features = X.shape\n",
    "\n",
    "# Add noisy features to make the problem harder\n",
    "X = np.c_[X, random_state.randn(n_samples, 200 * n_features)]\n",
    "\n",
    "# shuffle and split training and test sets\n",
    "X, y = shuffle(X, y, random_state=random_state)\n",
    "half = int(n_samples / 2)\n",
    "X_train, X_test = X[:half], X[half:]\n",
    "y_train, y_test = y[:half], y[half:]"
   ]
  },
  {
   "cell_type": "code",
   "execution_count": 3,
   "metadata": {
    "collapsed": false
   },
   "outputs": [],
   "source": [
    "classifier1 = svm.SVC(kernel='linear', probability=True)\n",
    "probas_1 = classifier1.fit(X_train, y_train).predict_proba(X_test)\n",
    "probas_1[0:10]\n",
    "\n",
    "classifier2 = neighbors.KNeighborsClassifier(n_neighbors=3)\n",
    "probas_2 = classifier2.fit(X_train, y_train).predict_proba(X_test)\n",
    "\n",
    "classifier3 = neighbors.KNeighborsClassifier(n_neighbors=21)\n",
    "probas_3 = classifier3.fit(X_train, y_train).predict_proba(X_test)"
   ]
  },
  {
   "cell_type": "code",
   "execution_count": 4,
   "metadata": {
    "collapsed": false
   },
   "outputs": [
    {
     "data": {
      "text/plain": [
       "array([[ 0.66666667,  0.33333333],\n",
       "       [ 0.        ,  1.        ],\n",
       "       [ 0.        ,  1.        ],\n",
       "       [ 0.33333333,  0.66666667],\n",
       "       [ 0.33333333,  0.66666667],\n",
       "       [ 0.66666667,  0.33333333],\n",
       "       [ 0.66666667,  0.33333333],\n",
       "       [ 0.        ,  1.        ],\n",
       "       [ 0.66666667,  0.33333333],\n",
       "       [ 0.33333333,  0.66666667]])"
      ]
     },
     "execution_count": 4,
     "metadata": {},
     "output_type": "execute_result"
    }
   ],
   "source": [
    "probas_2[0:10]"
   ]
  },
  {
   "cell_type": "code",
   "execution_count": 5,
   "metadata": {
    "collapsed": false
   },
   "outputs": [
    {
     "name": "stdout",
     "output_type": "stream",
     "text": [
      "Area under the ROC curves (AUC): SVC=0.793880837359 KNN(3)=0.680354267311 KNN(21)=0.773752012882\n"
     ]
    }
   ],
   "source": [
    "# Compute ROC curve and area the curve\n",
    "fpr1, tpr1, thresholds1 = roc_curve(y_test, probas_1[:, 1])\n",
    "roc_auc1 = auc(fpr1, tpr1)\n",
    "\n",
    "fpr2, tpr2, thresholds2 = roc_curve(y_test, probas_2[:, 1])\n",
    "roc_auc2 = auc(fpr2, tpr2)\n",
    "\n",
    "\n",
    "fpr3, tpr3, thresholds3 = roc_curve(y_test, probas_3[:, 1])\n",
    "roc_auc3 = auc(fpr3, tpr3)\n",
    "\n",
    "print \"Area under the ROC curves (AUC): SVC={0} KNN(3)={1} KNN(21)={2}\".format(\n",
    "    roc_auc1, roc_auc2, roc_auc3)"
   ]
  },
  {
   "cell_type": "code",
   "execution_count": 6,
   "metadata": {
    "collapsed": false
   },
   "outputs": [
    {
     "data": {
      "text/plain": [
       "array([0, 1, 1, 1, 0, 1, 0, 0, 0, 1, 1, 0, 1, 0, 0, 0, 1, 0, 0, 0, 1, 1, 1,\n",
       "       1, 1, 1, 0, 0, 1, 1, 0, 1, 0, 0, 0, 0, 1, 1, 0, 1, 0, 0, 1, 0, 1, 1,\n",
       "       0, 0, 0, 0])"
      ]
     },
     "execution_count": 6,
     "metadata": {},
     "output_type": "execute_result"
    }
   ],
   "source": [
    "y_test"
   ]
  },
  {
   "cell_type": "code",
   "execution_count": 7,
   "metadata": {
    "collapsed": true
   },
   "outputs": [],
   "source": [
    "%matplotlib inline"
   ]
  },
  {
   "cell_type": "code",
   "execution_count": 8,
   "metadata": {
    "collapsed": false
   },
   "outputs": [
    {
     "data": {
      "image/png": "[encoded data removed]",
      "text/plain": [
       "<matplotlib.figure.Figure at 0x90736d8>"
      ]
     },
     "metadata": {},
     "output_type": "display_data"
    }
   ],
   "source": [
    "# Plot ROC curve\n",
    "pl.clf()\n",
    "pl.plot(fpr1, tpr1, label='SVC (area = %0.2f)' % roc_auc1)\n",
    "pl.plot(fpr2, tpr2, label='KNN(3) (area = %0.2f)' % roc_auc2)\n",
    "pl.plot(fpr3, tpr3, label='KNN(21) (area = %0.2f)' % roc_auc3)\n",
    "pl.plot([0, 1], [0, 1], 'k--')\n",
    "pl.xlim([0.0, 1.0])\n",
    "pl.ylim([0.0, 1.0])\n",
    "pl.xlabel('False Positive Rate')\n",
    "pl.ylabel('True Positive Rate')\n",
    "pl.title('Receiver operating characteristic example')\n",
    "pl.legend(loc=\"lower right\")\n",
    "pl.show()"
   ]
  },
  {
   "cell_type": "code",
   "execution_count": null,
   "metadata": {
    "collapsed": true
   },
   "outputs": [],
   "source": []
  }
 ],
 "metadata": {
  "kernelspec": {
   "display_name": "Python 2",
   "language": "python",
   "name": "python2"
  },
  "language_info": {
   "codemirror_mode": {
    "name": "ipython",
    "version": 2
   },
   "file_extension": ".py",
   "mimetype": "text/x-python",
   "name": "python",
   "nbconvert_exporter": "python",
   "pygments_lexer": "ipython2",
   "version": "2.7.11"
  }
 },
 "nbformat": 4,
 "nbformat_minor": 0
}
